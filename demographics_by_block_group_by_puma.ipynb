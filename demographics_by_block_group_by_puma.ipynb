{
 "cells": [
  {
   "metadata": {},
   "cell_type": "markdown",
   "source": [
    "# Demographics by Census Block Group by PUMA\n",
    "\n",
    "This notebook looks the available demographic data available for block groups contained within a public use microdata area (PUMA). Since data for the smaller block groups is available at the 5-year estimate intervals but the data available for PUMAs are at 1-year estimate intervals, we look at the comparable datasets for the different geographic levels of analysis in order to find the proper weights to apply to block group data, so as to estimate the make the most current estimates for the most granular datasets available. \n"
   ],
   "id": "97e1c390964ddf4c"
  }
 ],
 "metadata": {
  "kernelspec": {
   "display_name": "Python 3",
   "language": "python",
   "name": "python3"
  },
  "language_info": {
   "codemirror_mode": {
    "name": "ipython",
    "version": 2
   },
   "file_extension": ".py",
   "mimetype": "text/x-python",
   "name": "python",
   "nbconvert_exporter": "python",
   "pygments_lexer": "ipython2",
   "version": "2.7.6"
  }
 },
 "nbformat": 4,
 "nbformat_minor": 5
}
