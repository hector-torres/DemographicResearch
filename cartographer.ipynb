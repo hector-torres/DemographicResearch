{
 "cells": [
  {
   "metadata": {},
   "cell_type": "markdown",
   "source": [
    "# Cartographer\n",
    "\n",
    "This notebook will is used to build map layers and maps for use in visualizations and presentations. Geospatial data analysis can use the maps produced here, but will be conducted in separate EDA notebooks.\n",
    "\n",
    "*Note: running this notebook requires Shapefiles for `CD<current_congress>`, `COUNTY`, `PLACE` (Texas), and `PUMA20`.*"
   ],
   "id": "3e2f8adc29d6f43f"
  },
  {
   "metadata": {
    "ExecuteTime": {
     "end_time": "2024-09-09T15:59:13.174011Z",
     "start_time": "2024-09-09T15:59:12.898355Z"
    }
   },
   "cell_type": "code",
   "source": "import geopandas",
   "id": "16a7d44c9fae3755",
   "outputs": [],
   "execution_count": 1
  },
  {
   "metadata": {
    "ExecuteTime": {
     "end_time": "2024-09-09T15:59:13.906151Z",
     "start_time": "2024-09-09T15:59:13.903070Z"
    }
   },
   "cell_type": "code",
   "source": "# todo: import external Shapefiles",
   "id": "30cd621bc31f56bb",
   "outputs": [],
   "execution_count": 2
  }
 ],
 "metadata": {
  "kernelspec": {
   "display_name": "Python 3",
   "language": "python",
   "name": "python3"
  },
  "language_info": {
   "codemirror_mode": {
    "name": "ipython",
    "version": 2
   },
   "file_extension": ".py",
   "mimetype": "text/x-python",
   "name": "python",
   "nbconvert_exporter": "python",
   "pygments_lexer": "ipython2",
   "version": "2.7.6"
  }
 },
 "nbformat": 4,
 "nbformat_minor": 5
}
