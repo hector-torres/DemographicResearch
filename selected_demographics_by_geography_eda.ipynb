{
 "cells": [
  {
   "metadata": {},
   "cell_type": "markdown",
   "source": [
    "# Demographics by Geography EDA\n",
    "\n",
    "This notebook allows users to select multiple geographies and demographic tables and saves data in format that can be imported into Tableau Public Desktop for data visualization \n",
    "\n",
    "## Data Preparation\n",
    "Import required libraries and make data calls that do not require user input. \n"
   ],
   "id": "97e1c390964ddf4c"
  },
  {
   "metadata": {
    "ExecuteTime": {
     "end_time": "2024-10-10T02:48:27.505681Z",
     "start_time": "2024-10-10T02:48:27.177367Z"
    }
   },
   "cell_type": "code",
   "source": [
    "import pandas as pd\n",
    "import os\n",
    "import sqlalchemy\n",
    "import datetime\n",
    "import ipywidgets as widgets"
   ],
   "id": "c2236729eb1d88f",
   "outputs": [],
   "execution_count": 1
  },
  {
   "metadata": {},
   "cell_type": "markdown",
   "source": [
    "## User Input\n",
    "\n",
    " ### Select Year of Analysis"
   ],
   "id": "a89f8dae3f32a3f5"
  },
  {
   "metadata": {
    "ExecuteTime": {
     "end_time": "2024-10-10T02:48:27.861784Z",
     "start_time": "2024-10-10T02:48:27.854520Z"
    }
   },
   "cell_type": "code",
   "source": [
    "years_available = ['2022']\n",
    "acs_survey_year = ''\n",
    "acs_survey_year = widgets.Dropdown(\n",
    "    options = years_available,\n",
    "    value = '2022',\n",
    "    # description = 'Select Year of Analysis',\n",
    "    disabled=False\n",
    ")\n",
    "acs_survey_year"
   ],
   "id": "63112211275b2ab3",
   "outputs": [
    {
     "data": {
      "text/plain": [
       "Dropdown(options=('2022',), value='2022')"
      ],
      "application/vnd.jupyter.widget-view+json": {
       "version_major": 2,
       "version_minor": 0,
       "model_id": "224faa501d9945d1bf298609fce991a2"
      }
     },
     "execution_count": 2,
     "metadata": {},
     "output_type": "execute_result"
    }
   ],
   "execution_count": 2
  },
  {
   "metadata": {},
   "cell_type": "markdown",
   "source": [
    "### Select Survey\n",
    "Select whether to view ACS 1yr geographies (congressional district, county, place, or PUMA), or a specific block group at the 5yr level."
   ],
   "id": "6cc19a1cf5069f0f"
  },
  {
   "metadata": {
    "ExecuteTime": {
     "end_time": "2024-10-10T02:48:28.446259Z",
     "start_time": "2024-10-10T02:48:28.440256Z"
    }
   },
   "cell_type": "code",
   "source": [
    "survey_type = widgets.Dropdown(\n",
    "    options=[('1-Year Estimates', 'acsse'), ('5-Year Estimate', 'acs5')],\n",
    "    # description='ACS Survey Type',\n",
    "    disabled=False,\n",
    "    layout=widgets.Layout(width='max-content'),\n",
    "    tooltips=['Congressional District, County, Place, or PUMA', 'Block Group']\n",
    ")\n",
    "survey_type"
   ],
   "id": "dceb160fc9e8f790",
   "outputs": [
    {
     "data": {
      "text/plain": [
       "Dropdown(layout=Layout(width='max-content'), options=(('1-Year Estimates', 'acsse'), ('5-Year Estimate', 'acs5…"
      ],
      "application/vnd.jupyter.widget-view+json": {
       "version_major": 2,
       "version_minor": 0,
       "model_id": "2f61f475448d4f57bd7114f0e56e234d"
      }
     },
     "execution_count": 3,
     "metadata": {},
     "output_type": "execute_result"
    }
   ],
   "execution_count": 3
  },
  {
   "metadata": {},
   "cell_type": "markdown",
   "source": "### Select Geographic Level of Analysis",
   "id": "2508679b56005159"
  },
  {
   "metadata": {
    "ExecuteTime": {
     "end_time": "2024-10-10T02:48:29.934622Z",
     "start_time": "2024-10-10T02:48:29.926139Z"
    }
   },
   "cell_type": "code",
   "source": [
    "geography_type = ''\n",
    "if survey_type.value == 'acsse':\n",
    "    geography_type = widgets.Dropdown(\n",
    "        options = [('Congressional District', 'congressional_district'), ('County', 'county'), ('Place', 'place'), ('PUMA', 'puma')],\n",
    "        value = 'county',\n",
    "        # description = 'Select Geography',\n",
    "        disabled=False\n",
    "    )\n",
    "elif survey_type.value == 'acs5':\n",
    "    geography_type = ('Block Group', 'block_group')[1]\n",
    "geography_type"
   ],
   "id": "cc89d91979ff6ead",
   "outputs": [
    {
     "data": {
      "text/plain": [
       "Dropdown(index=1, options=(('Congressional District', 'congressional_district'), ('County', 'county'), ('Place…"
      ],
      "application/vnd.jupyter.widget-view+json": {
       "version_major": 2,
       "version_minor": 0,
       "model_id": "81cc8af841bd455992f94e73cdc5bc40"
      }
     },
     "execution_count": 4,
     "metadata": {},
     "output_type": "execute_result"
    }
   ],
   "execution_count": 4
  },
  {
   "metadata": {},
   "cell_type": "markdown",
   "source": "### Select Tables From Survey for Selected Geography",
   "id": "4f3cccea17e43d4b"
  },
  {
   "metadata": {
    "ExecuteTime": {
     "end_time": "2024-10-10T02:48:38.149370Z",
     "start_time": "2024-10-10T02:48:38.134548Z"
    }
   },
   "cell_type": "code",
   "source": [
    "# imports Census survey data\n",
    "db_filepath = os.path.join(f'data/databases/census_{survey_type.value}_{acs_survey_year.value}_{geography_type.value}.db')\n",
    "\n",
    "sql_engine = sqlalchemy.create_engine('sqlite:///' + db_filepath)\n",
    "tables = pd.read_sql_table('tables', sql_engine)\n",
    "concepts = list(tables.concept)\n",
    "\n",
    "# adds index as second item in each tuple for loading into widget\n",
    "concepts_for_widget = []\n",
    "for index, concept in enumerate(concepts):\n",
    "    concept = str(concept).capitalize().replace('_', ' ')\n",
    "    concepts_for_widget.append((concept, index))\n",
    "\n",
    "select_widget_tables = widgets.SelectMultiple(\n",
    "    options=list(concepts_for_widget),\n",
    "    rows=len(concepts_for_widget),\n",
    "    # description='Select Concept',\n",
    "    layout=widgets.Layout(width='max-content'),\n",
    "    disabled=False\n",
    ")\n",
    "\n",
    "select_widget_tables"
   ],
   "id": "f47d1e4d3895b6cd",
   "outputs": [
    {
     "data": {
      "text/plain": [
       "SelectMultiple(layout=Layout(width='max-content'), options=(('Veteran status for the civilian population 18 ye…"
      ],
      "application/vnd.jupyter.widget-view+json": {
       "version_major": 2,
       "version_minor": 0,
       "model_id": "e64537c6114a48fab17c129081db1485"
      }
     },
     "execution_count": 6,
     "metadata": {},
     "output_type": "execute_result"
    }
   ],
   "execution_count": 6
  },
  {
   "metadata": {},
   "cell_type": "markdown",
   "source": "### Select Specific Geography",
   "id": "1dbd1613b4d921eb"
  },
  {
   "metadata": {
    "ExecuteTime": {
     "end_time": "2024-10-10T02:48:42.911073Z",
     "start_time": "2024-10-10T02:48:42.897044Z"
    }
   },
   "cell_type": "code",
   "source": [
    "# loads all database data locally and conducts any further filtering from this notebook locally\n",
    "selected_tables = []\n",
    "for table in select_widget_tables.value:\n",
    "    selected_tables.append(tables.iloc[table]['name'])\n",
    "\n",
    "list_of_dataframes = []\n",
    "df = pd.DataFrame()\n",
    "if geography_type.value == 'block_group':    \n",
    "    #  geography_selector = widgets.Text(\n",
    "    #     value = '23893US9834092834',\n",
    "    #     placeholder = '23893US9834092834',\n",
    "    #     # description = 'Block Group UCGID',\n",
    "    #     disabled=False\n",
    "    # )\n",
    "     pass\n",
    "else:\n",
    "    # selects name of geographies available\n",
    "    for table in selected_tables:\n",
    "        df = pd.read_sql_table(table, sql_engine)\n",
    "        list_of_dataframes.append(df)\n",
    "\n",
    "geography_names = list(list_of_dataframes[0]['NAME'])\n",
    "\n",
    "select_geography_tables = widgets.SelectMultiple(\n",
    "    options=geography_names,\n",
    "    rows=len(geography_names),\n",
    "    # description='Select Concept',\n",
    "    layout=widgets.Layout(width='max-content'),\n",
    "    disabled=False\n",
    ")\n",
    "select_geography_tables"
   ],
   "id": "d20fc505c069786f",
   "outputs": [
    {
     "data": {
      "text/plain": [
       "SelectMultiple(layout=Layout(width='max-content'), options=('San Antonio City (Southwest)--Inside Loop I-410 P…"
      ],
      "application/vnd.jupyter.widget-view+json": {
       "version_major": 2,
       "version_minor": 0,
       "model_id": "82a4275d84234c43bd0ea4d2ffc93d6b"
      }
     },
     "execution_count": 7,
     "metadata": {},
     "output_type": "execute_result"
    }
   ],
   "execution_count": 7
  },
  {
   "metadata": {
    "ExecuteTime": {
     "end_time": "2024-10-10T02:48:46.742019Z",
     "start_time": "2024-10-10T02:48:46.716115Z"
    }
   },
   "cell_type": "code",
   "source": [
    "select_geography_tables_list = select_geography_tables.value\n",
    "crosswalk_df = pd.read_sql_table('crosswalk', sql_engine)\n",
    "\n",
    "output_path_dir = f'data/outputs/{str(datetime.datetime.now())}'\n",
    "os.makedirs(output_path_dir, exist_ok=True)\n",
    "\n",
    "for dataframe in list_of_dataframes:\n",
    "    for table in select_geography_tables_list:\n",
    "        # todo: drop all non-selected geographies\n",
    "\n",
    "        table_name = str(dataframe.columns[3]).split('_')[0]\n",
    "\n",
    "        # renames table column names with data from crosswalk database\n",
    "        for series_name in dataframe.columns:\n",
    "            if crosswalk_df['name'].str.contains(series_name).any():\n",
    "                # if the crosswalk contains the name of the DataFrame column (i.e., for any data column as opposed to names, descriptors, etc. ) replace table name based on key to one based on descriptor, then strip spaces, punctuation, etc. and replace with underscores for easier data manipulation and normalization, then convert from Series object to int dtype\n",
    "                new_label = str(crosswalk_df[crosswalk_df['name'].str.startswith(series_name)][['label']].values)\n",
    "                new_label = new_label.replace('[', '').replace(']', '').replace('\\' \\'', ': ').replace('\\'', '').replace('!!', ': ').replace(':', '').replace('\\n', '').replace('Estimate ', '').title()\n",
    "                try:\n",
    "                    if series_name != 'ucgid':\n",
    "                        dataframe.rename(columns={series_name: new_label}, inplace=True, errors='raise')\n",
    "                        dataframe = dataframe.astype({series_name: 'int'})\n",
    "                except (TypeError, ValueError, KeyError):\n",
    "                    pass\n",
    "            elif series_name == 'NAME':\n",
    "                dataframe.rename(columns={series_name: str(series_name).title()}, inplace=True, errors='raise')\n",
    "            \n",
    "            # todo: drop 'index' column\n",
    "            # dataframe.drop(['index'], axis=1, inplace=True)\n",
    "        \n",
    "        # todo: convert to JSON/GeoJSON\n",
    "        dataframe.to_csv(os.path.join(output_path_dir, f'{table_name}.csv'))\n",
    "\n",
    "dataframe"
   ],
   "id": "5576ee37f06976c7",
   "outputs": [
    {
     "data": {
      "text/plain": [
       "    index                                               Name   Total  \\\n",
       "0       4  San Antonio City (Southwest)--Inside Loop I-41...  116206   \n",
       "1       5  Bexar County (South)--San Antonio City (Far So...  155224   \n",
       "2       6  San Antonio (Northeast), Kirby & Windcrest Cit...  135956   \n",
       "3       8  San Antonio City (Northwest)--Inside Loop I-41...  101698   \n",
       "4      11  San Antonio City (Southeast)--Inside Loop I-41...  120621   \n",
       "5      12  San Antonio City (Northwest)--Between Loop TX-...  140920   \n",
       "6      13  San Antonio City (Northeast)--Inside Loop I-41...  112214   \n",
       "7      14  Bexar County (North)--San Antonio City (Far No...  159997   \n",
       "8      15  San Antonio City (West)--Between Loop TX-1604 ...  127760   \n",
       "9      20  San Antonio (Northwest) & Leon Valley Cities P...  110651   \n",
       "10     21  San Antonio City (Northeast)--Between Loop TX-...  102279   \n",
       "11     22  Bexar County (Northwest)--San Antonio (Far Nor...  204374   \n",
       "12     23  San Antonio City (West)--Inside Loop I-410 PUM...  114308   \n",
       "13     24  San Antonio City (North)--Hollywood Park Town ...  117623   \n",
       "14     26             San Antonio City (Central) PUMA; Texas  112815   \n",
       "15     27  Bexar County (Northeast)--San Antonio (Northea...  126884   \n",
       "\n",
       "    Total White Alone  Total Black Or African American Alone  \\\n",
       "0               40651                                   3664   \n",
       "1               70927                                  12639   \n",
       "2               44962                                  25751   \n",
       "3               30071                                   1467   \n",
       "4               38926                                   5629   \n",
       "5               57275                                  13638   \n",
       "6               52660                                  12913   \n",
       "7               84888                                   6396   \n",
       "8               58786                                  11398   \n",
       "9               46685                                   3732   \n",
       "10              54975                                   6753   \n",
       "11             107306                                  13896   \n",
       "12              32629                                   5855   \n",
       "13              58603                                   9285   \n",
       "14              28702                                   4839   \n",
       "15              50951                                  22440   \n",
       "\n",
       "    Total American Indian And Alaska Native Alone  Total Asian Alone  \\\n",
       "0                                            1263                937   \n",
       "1                                            2864               2119   \n",
       "2                                            1775               4233   \n",
       "3                                            1065                135   \n",
       "4                                            2823                452   \n",
       "5                                            1210              17324   \n",
       "6                                             160               3795   \n",
       "7                                            2188               7498   \n",
       "8                                            2977               5374   \n",
       "9                                             930               4228   \n",
       "10                                            926               1572   \n",
       "11                                           3406               9512   \n",
       "12                                           1379               1117   \n",
       "13                                            319               2094   \n",
       "14                                           2983               1816   \n",
       "15                                           1442               4232   \n",
       "\n",
       "    Total Native Hawaiian And Other Pacific Islander Alone  \\\n",
       "0                                                 274        \n",
       "1                                                   0        \n",
       "2                                                 336        \n",
       "3                                                 245        \n",
       "4                                                 152        \n",
       "5                                                   0        \n",
       "6                                                 253        \n",
       "7                                                   0        \n",
       "8                                                   0        \n",
       "9                                                   0        \n",
       "10                                                281        \n",
       "11                                                568        \n",
       "12                                                306        \n",
       "13                                                  0        \n",
       "14                                                 35        \n",
       "15                                                625        \n",
       "\n",
       "    Total Some Other Race Alone  Total Two Or More Races             ucgid  \n",
       "0                         27907                    41510  795P200US4805906  \n",
       "1                         15238                    51437  795P200US4805907  \n",
       "2                         21124                    37775  795P200US4805913  \n",
       "3                          8187                    60528  795P200US4805904  \n",
       "4                         25416                    47223  795P200US4805903  \n",
       "5                         15257                    36216  795P200US4805910  \n",
       "6                         10423                    32010  795P200US4805902  \n",
       "7                         10486                    48541  795P200US4805915  \n",
       "8                         11540                    37685  795P200US4805908  \n",
       "9                         11024                    44052  795P200US4805909  \n",
       "10                         9060                    28712  795P200US4805912  \n",
       "11                        15882                    53804  795P200US4805914  \n",
       "12                        12903                    60119  795P200US4805905  \n",
       "13                        10464                    36858  795P200US4805911  \n",
       "14                        18274                    56166  795P200US4805901  \n",
       "15                         8531                    38663  795P200US4805916  "
      ],
      "text/html": [
       "<div>\n",
       "<style scoped>\n",
       "    .dataframe tbody tr th:only-of-type {\n",
       "        vertical-align: middle;\n",
       "    }\n",
       "\n",
       "    .dataframe tbody tr th {\n",
       "        vertical-align: top;\n",
       "    }\n",
       "\n",
       "    .dataframe thead th {\n",
       "        text-align: right;\n",
       "    }\n",
       "</style>\n",
       "<table border=\"1\" class=\"dataframe\">\n",
       "  <thead>\n",
       "    <tr style=\"text-align: right;\">\n",
       "      <th></th>\n",
       "      <th>index</th>\n",
       "      <th>Name</th>\n",
       "      <th>Total</th>\n",
       "      <th>Total White Alone</th>\n",
       "      <th>Total Black Or African American Alone</th>\n",
       "      <th>Total American Indian And Alaska Native Alone</th>\n",
       "      <th>Total Asian Alone</th>\n",
       "      <th>Total Native Hawaiian And Other Pacific Islander Alone</th>\n",
       "      <th>Total Some Other Race Alone</th>\n",
       "      <th>Total Two Or More Races</th>\n",
       "      <th>ucgid</th>\n",
       "    </tr>\n",
       "  </thead>\n",
       "  <tbody>\n",
       "    <tr>\n",
       "      <th>0</th>\n",
       "      <td>4</td>\n",
       "      <td>San Antonio City (Southwest)--Inside Loop I-41...</td>\n",
       "      <td>116206</td>\n",
       "      <td>40651</td>\n",
       "      <td>3664</td>\n",
       "      <td>1263</td>\n",
       "      <td>937</td>\n",
       "      <td>274</td>\n",
       "      <td>27907</td>\n",
       "      <td>41510</td>\n",
       "      <td>795P200US4805906</td>\n",
       "    </tr>\n",
       "    <tr>\n",
       "      <th>1</th>\n",
       "      <td>5</td>\n",
       "      <td>Bexar County (South)--San Antonio City (Far So...</td>\n",
       "      <td>155224</td>\n",
       "      <td>70927</td>\n",
       "      <td>12639</td>\n",
       "      <td>2864</td>\n",
       "      <td>2119</td>\n",
       "      <td>0</td>\n",
       "      <td>15238</td>\n",
       "      <td>51437</td>\n",
       "      <td>795P200US4805907</td>\n",
       "    </tr>\n",
       "    <tr>\n",
       "      <th>2</th>\n",
       "      <td>6</td>\n",
       "      <td>San Antonio (Northeast), Kirby &amp; Windcrest Cit...</td>\n",
       "      <td>135956</td>\n",
       "      <td>44962</td>\n",
       "      <td>25751</td>\n",
       "      <td>1775</td>\n",
       "      <td>4233</td>\n",
       "      <td>336</td>\n",
       "      <td>21124</td>\n",
       "      <td>37775</td>\n",
       "      <td>795P200US4805913</td>\n",
       "    </tr>\n",
       "    <tr>\n",
       "      <th>3</th>\n",
       "      <td>8</td>\n",
       "      <td>San Antonio City (Northwest)--Inside Loop I-41...</td>\n",
       "      <td>101698</td>\n",
       "      <td>30071</td>\n",
       "      <td>1467</td>\n",
       "      <td>1065</td>\n",
       "      <td>135</td>\n",
       "      <td>245</td>\n",
       "      <td>8187</td>\n",
       "      <td>60528</td>\n",
       "      <td>795P200US4805904</td>\n",
       "    </tr>\n",
       "    <tr>\n",
       "      <th>4</th>\n",
       "      <td>11</td>\n",
       "      <td>San Antonio City (Southeast)--Inside Loop I-41...</td>\n",
       "      <td>120621</td>\n",
       "      <td>38926</td>\n",
       "      <td>5629</td>\n",
       "      <td>2823</td>\n",
       "      <td>452</td>\n",
       "      <td>152</td>\n",
       "      <td>25416</td>\n",
       "      <td>47223</td>\n",
       "      <td>795P200US4805903</td>\n",
       "    </tr>\n",
       "    <tr>\n",
       "      <th>5</th>\n",
       "      <td>12</td>\n",
       "      <td>San Antonio City (Northwest)--Between Loop TX-...</td>\n",
       "      <td>140920</td>\n",
       "      <td>57275</td>\n",
       "      <td>13638</td>\n",
       "      <td>1210</td>\n",
       "      <td>17324</td>\n",
       "      <td>0</td>\n",
       "      <td>15257</td>\n",
       "      <td>36216</td>\n",
       "      <td>795P200US4805910</td>\n",
       "    </tr>\n",
       "    <tr>\n",
       "      <th>6</th>\n",
       "      <td>13</td>\n",
       "      <td>San Antonio City (Northeast)--Inside Loop I-41...</td>\n",
       "      <td>112214</td>\n",
       "      <td>52660</td>\n",
       "      <td>12913</td>\n",
       "      <td>160</td>\n",
       "      <td>3795</td>\n",
       "      <td>253</td>\n",
       "      <td>10423</td>\n",
       "      <td>32010</td>\n",
       "      <td>795P200US4805902</td>\n",
       "    </tr>\n",
       "    <tr>\n",
       "      <th>7</th>\n",
       "      <td>14</td>\n",
       "      <td>Bexar County (North)--San Antonio City (Far No...</td>\n",
       "      <td>159997</td>\n",
       "      <td>84888</td>\n",
       "      <td>6396</td>\n",
       "      <td>2188</td>\n",
       "      <td>7498</td>\n",
       "      <td>0</td>\n",
       "      <td>10486</td>\n",
       "      <td>48541</td>\n",
       "      <td>795P200US4805915</td>\n",
       "    </tr>\n",
       "    <tr>\n",
       "      <th>8</th>\n",
       "      <td>15</td>\n",
       "      <td>San Antonio City (West)--Between Loop TX-1604 ...</td>\n",
       "      <td>127760</td>\n",
       "      <td>58786</td>\n",
       "      <td>11398</td>\n",
       "      <td>2977</td>\n",
       "      <td>5374</td>\n",
       "      <td>0</td>\n",
       "      <td>11540</td>\n",
       "      <td>37685</td>\n",
       "      <td>795P200US4805908</td>\n",
       "    </tr>\n",
       "    <tr>\n",
       "      <th>9</th>\n",
       "      <td>20</td>\n",
       "      <td>San Antonio (Northwest) &amp; Leon Valley Cities P...</td>\n",
       "      <td>110651</td>\n",
       "      <td>46685</td>\n",
       "      <td>3732</td>\n",
       "      <td>930</td>\n",
       "      <td>4228</td>\n",
       "      <td>0</td>\n",
       "      <td>11024</td>\n",
       "      <td>44052</td>\n",
       "      <td>795P200US4805909</td>\n",
       "    </tr>\n",
       "    <tr>\n",
       "      <th>10</th>\n",
       "      <td>21</td>\n",
       "      <td>San Antonio City (Northeast)--Between Loop TX-...</td>\n",
       "      <td>102279</td>\n",
       "      <td>54975</td>\n",
       "      <td>6753</td>\n",
       "      <td>926</td>\n",
       "      <td>1572</td>\n",
       "      <td>281</td>\n",
       "      <td>9060</td>\n",
       "      <td>28712</td>\n",
       "      <td>795P200US4805912</td>\n",
       "    </tr>\n",
       "    <tr>\n",
       "      <th>11</th>\n",
       "      <td>22</td>\n",
       "      <td>Bexar County (Northwest)--San Antonio (Far Nor...</td>\n",
       "      <td>204374</td>\n",
       "      <td>107306</td>\n",
       "      <td>13896</td>\n",
       "      <td>3406</td>\n",
       "      <td>9512</td>\n",
       "      <td>568</td>\n",
       "      <td>15882</td>\n",
       "      <td>53804</td>\n",
       "      <td>795P200US4805914</td>\n",
       "    </tr>\n",
       "    <tr>\n",
       "      <th>12</th>\n",
       "      <td>23</td>\n",
       "      <td>San Antonio City (West)--Inside Loop I-410 PUM...</td>\n",
       "      <td>114308</td>\n",
       "      <td>32629</td>\n",
       "      <td>5855</td>\n",
       "      <td>1379</td>\n",
       "      <td>1117</td>\n",
       "      <td>306</td>\n",
       "      <td>12903</td>\n",
       "      <td>60119</td>\n",
       "      <td>795P200US4805905</td>\n",
       "    </tr>\n",
       "    <tr>\n",
       "      <th>13</th>\n",
       "      <td>24</td>\n",
       "      <td>San Antonio City (North)--Hollywood Park Town ...</td>\n",
       "      <td>117623</td>\n",
       "      <td>58603</td>\n",
       "      <td>9285</td>\n",
       "      <td>319</td>\n",
       "      <td>2094</td>\n",
       "      <td>0</td>\n",
       "      <td>10464</td>\n",
       "      <td>36858</td>\n",
       "      <td>795P200US4805911</td>\n",
       "    </tr>\n",
       "    <tr>\n",
       "      <th>14</th>\n",
       "      <td>26</td>\n",
       "      <td>San Antonio City (Central) PUMA; Texas</td>\n",
       "      <td>112815</td>\n",
       "      <td>28702</td>\n",
       "      <td>4839</td>\n",
       "      <td>2983</td>\n",
       "      <td>1816</td>\n",
       "      <td>35</td>\n",
       "      <td>18274</td>\n",
       "      <td>56166</td>\n",
       "      <td>795P200US4805901</td>\n",
       "    </tr>\n",
       "    <tr>\n",
       "      <th>15</th>\n",
       "      <td>27</td>\n",
       "      <td>Bexar County (Northeast)--San Antonio (Northea...</td>\n",
       "      <td>126884</td>\n",
       "      <td>50951</td>\n",
       "      <td>22440</td>\n",
       "      <td>1442</td>\n",
       "      <td>4232</td>\n",
       "      <td>625</td>\n",
       "      <td>8531</td>\n",
       "      <td>38663</td>\n",
       "      <td>795P200US4805916</td>\n",
       "    </tr>\n",
       "  </tbody>\n",
       "</table>\n",
       "</div>"
      ]
     },
     "execution_count": 8,
     "metadata": {},
     "output_type": "execute_result"
    }
   ],
   "execution_count": 8
  },
  {
   "metadata": {},
   "cell_type": "code",
   "outputs": [],
   "execution_count": null,
   "source": "",
   "id": "ea5a45e6c8b6e6b0"
  }
 ],
 "metadata": {
  "kernelspec": {
   "display_name": "Python 3",
   "language": "python",
   "name": "python3"
  },
  "language_info": {
   "codemirror_mode": {
    "name": "ipython",
    "version": 2
   },
   "file_extension": ".py",
   "mimetype": "text/x-python",
   "name": "python",
   "nbconvert_exporter": "python",
   "pygments_lexer": "ipython2",
   "version": "2.7.6"
  }
 },
 "nbformat": 4,
 "nbformat_minor": 5
}
