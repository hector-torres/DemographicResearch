{
 "cells": [
  {
   "metadata": {},
   "cell_type": "markdown",
   "source": [
    "# Demographics by Geography EDA\n",
    "\n",
    "This notebook allows users to select multiple geographies and demographic tables and saves data in format that can be imported into Tableau Public Desktop for data visualization \n",
    "\n",
    "## Data Preparation\n",
    "Import required libraries and make data calls that do not require user input. \n"
   ],
   "id": "97e1c390964ddf4c"
  },
  {
   "metadata": {
    "ExecuteTime": {
     "end_time": "2024-10-10T02:48:27.505681Z",
     "start_time": "2024-10-10T02:48:27.177367Z"
    }
   },
   "cell_type": "code",
   "source": [
    "import pandas as pd\n",
    "import os\n",
    "import sqlalchemy\n",
    "import datetime\n",
    "import ipywidgets as widgets\n",
    "from sqlalchemy.dialects.mssql.information_schema import columns"
   ],
   "id": "c2236729eb1d88f",
   "outputs": [],
   "execution_count": 1
  },
  {
   "metadata": {},
   "cell_type": "markdown",
   "source": [
    "## User Input\n",
    "\n",
    " ### Select Year of Analysis"
   ],
   "id": "a89f8dae3f32a3f5"
  },
  {
   "metadata": {
    "ExecuteTime": {
     "end_time": "2024-10-10T02:48:27.861784Z",
     "start_time": "2024-10-10T02:48:27.854520Z"
    }
   },
   "cell_type": "code",
   "source": [
    "years_available = ['2022']\n",
    "acs_survey_year = ''\n",
    "acs_survey_year = widgets.Dropdown(\n",
    "    options = years_available,\n",
    "    value = '2022',\n",
    "    # description = 'Select Year of Analysis',\n",
    "    disabled=False\n",
    ")\n",
    "acs_survey_year"
   ],
   "id": "63112211275b2ab3",
   "outputs": [
    {
     "data": {
      "text/plain": [
       "Dropdown(options=('2022',), value='2022')"
      ],
      "application/vnd.jupyter.widget-view+json": {
       "version_major": 2,
       "version_minor": 0,
       "model_id": "224faa501d9945d1bf298609fce991a2"
      }
     },
     "execution_count": 2,
     "metadata": {},
     "output_type": "execute_result"
    }
   ],
   "execution_count": 2
  },
  {
   "metadata": {},
   "cell_type": "markdown",
   "source": [
    "### Select Survey\n",
    "Select whether to view ACS 1yr geographies (congressional district, county, place, or PUMA), or a specific block group at the 5yr level."
   ],
   "id": "6cc19a1cf5069f0f"
  },
  {
   "metadata": {
    "ExecuteTime": {
     "end_time": "2024-10-10T02:48:28.446259Z",
     "start_time": "2024-10-10T02:48:28.440256Z"
    }
   },
   "cell_type": "code",
   "source": [
    "survey_type = widgets.Dropdown(\n",
    "    options=[('1-Year Estimates', 'acsse'), ('5-Year Estimate', 'acs5')],\n",
    "    # description='ACS Survey Type',\n",
    "    disabled=False,\n",
    "    layout=widgets.Layout(width='max-content'),\n",
    "    tooltips=['Congressional District, County, Place, or PUMA', 'Block Group']\n",
    ")\n",
    "survey_type"
   ],
   "id": "dceb160fc9e8f790",
   "outputs": [
    {
     "data": {
      "text/plain": [
       "Dropdown(layout=Layout(width='max-content'), options=(('1-Year Estimates', 'acsse'), ('5-Year Estimate', 'acs5…"
      ],
      "application/vnd.jupyter.widget-view+json": {
       "version_major": 2,
       "version_minor": 0,
       "model_id": "2f61f475448d4f57bd7114f0e56e234d"
      }
     },
     "execution_count": 3,
     "metadata": {},
     "output_type": "execute_result"
    }
   ],
   "execution_count": 3
  },
  {
   "metadata": {},
   "cell_type": "markdown",
   "source": "### Select Geographic Level of Analysis",
   "id": "2508679b56005159"
  },
  {
   "metadata": {
    "ExecuteTime": {
     "end_time": "2024-10-10T02:48:29.934622Z",
     "start_time": "2024-10-10T02:48:29.926139Z"
    }
   },
   "cell_type": "code",
   "source": [
    "geography_type = ''\n",
    "if survey_type.value == 'acsse':\n",
    "    geography_type = widgets.Dropdown(\n",
    "        options = [('Congressional District', 'congressional_district'), ('County', 'county'), ('Place', 'place'), ('PUMA', 'puma')],\n",
    "        value = 'county',\n",
    "        # description = 'Select Geography',\n",
    "        disabled=False\n",
    "    )\n",
    "elif survey_type.value == 'acs5':\n",
    "    geography_type = ('Block Group', 'block_group')[1]\n",
    "geography_type"
   ],
   "id": "cc89d91979ff6ead",
   "outputs": [
    {
     "data": {
      "text/plain": [
       "Dropdown(index=1, options=(('Congressional District', 'congressional_district'), ('County', 'county'), ('Place…"
      ],
      "application/vnd.jupyter.widget-view+json": {
       "version_major": 2,
       "version_minor": 0,
       "model_id": "81cc8af841bd455992f94e73cdc5bc40"
      }
     },
     "execution_count": 4,
     "metadata": {},
     "output_type": "execute_result"
    }
   ],
   "execution_count": 4
  },
  {
   "metadata": {},
   "cell_type": "markdown",
   "source": "### Select Tables From Survey for Selected Geography",
   "id": "4f3cccea17e43d4b"
  },
  {
   "metadata": {
    "ExecuteTime": {
     "end_time": "2024-10-10T02:48:38.149370Z",
     "start_time": "2024-10-10T02:48:38.134548Z"
    }
   },
   "cell_type": "code",
   "source": [
    "# imports Census survey data\n",
    "db_filepath = os.path.join(f'data/databases/census_{survey_type.value}_{acs_survey_year.value}_{geography_type.value}.db')\n",
    "\n",
    "sql_engine = sqlalchemy.create_engine('sqlite:///' + db_filepath)\n",
    "tables = pd.read_sql_table('tables', sql_engine)\n",
    "concepts = list(tables.concept)\n",
    "\n",
    "# adds index as second item in each tuple for loading into widget\n",
    "concepts_for_widget = []\n",
    "for index, concept in enumerate(concepts):\n",
    "    concept = str(concept).capitalize().replace('_', ' ')\n",
    "    concepts_for_widget.append((concept, index))\n",
    "\n",
    "select_widget_tables = widgets.SelectMultiple(\n",
    "    options=list(concepts_for_widget),\n",
    "    rows=len(concepts_for_widget),\n",
    "    # description='Select Concept',\n",
    "    layout=widgets.Layout(width='max-content'),\n",
    "    disabled=False\n",
    ")\n",
    "\n",
    "select_widget_tables"
   ],
   "id": "f47d1e4d3895b6cd",
   "outputs": [
    {
     "data": {
      "text/plain": [
       "SelectMultiple(layout=Layout(width='max-content'), options=(('Veteran status for the civilian population 18 ye…"
      ],
      "application/vnd.jupyter.widget-view+json": {
       "version_major": 2,
       "version_minor": 0,
       "model_id": "e64537c6114a48fab17c129081db1485"
      }
     },
     "execution_count": 6,
     "metadata": {},
     "output_type": "execute_result"
    }
   ],
   "execution_count": 6
  },
  {
   "metadata": {},
   "cell_type": "markdown",
   "source": "### Select Specific Geography",
   "id": "1dbd1613b4d921eb"
  },
  {
   "metadata": {
    "ExecuteTime": {
     "end_time": "2024-10-12T02:51:57.648183Z",
     "start_time": "2024-10-12T02:51:57.627566Z"
    }
   },
   "cell_type": "code",
   "source": [
    "# loads all database data locally and conducts any further filtering from this notebook locally\n",
    "selected_tables = []\n",
    "for table in select_widget_tables.value:\n",
    "    selected_tables.append(tables.iloc[table]['name'])\n",
    "\n",
    "list_of_dataframes = []\n",
    "if geography_type.value == 'block_group':    \n",
    "    #  geography_selector = widgets.Text(\n",
    "    #     value = '23893US9834092834',\n",
    "    #     placeholder = '23893US9834092834',\n",
    "    #     # description = 'Block Group UCGID',\n",
    "    #     disabled=False\n",
    "    # )\n",
    "     pass\n",
    "else:\n",
    "    # selects name of geographies available\n",
    "    for table in selected_tables:\n",
    "        df = pd.read_sql_table(table, sql_engine)\n",
    "        list_of_dataframes.append(df)\n",
    "\n",
    "geography_names = list(list_of_dataframes[0]['NAME'])\n",
    "\n",
    "select_geography_tables = widgets.SelectMultiple(\n",
    "    options=geography_names,\n",
    "    rows=len(geography_names),\n",
    "    # description='Select Concept',\n",
    "    layout=widgets.Layout(width='max-content'),\n",
    "    disabled=False\n",
    ")\n",
    "select_geography_tables"
   ],
   "id": "d20fc505c069786f",
   "outputs": [
    {
     "data": {
      "text/plain": [
       "SelectMultiple(layout=Layout(width='max-content'), options=('San Antonio City (Southwest)--Inside Loop I-410 P…"
      ],
      "application/vnd.jupyter.widget-view+json": {
       "version_major": 2,
       "version_minor": 0,
       "model_id": "0875ed24b842476291863c0e74a86c01"
      }
     },
     "execution_count": 43,
     "metadata": {},
     "output_type": "execute_result"
    }
   ],
   "execution_count": 43
  },
  {
   "metadata": {
    "ExecuteTime": {
     "end_time": "2024-10-12T03:44:57.611071Z",
     "start_time": "2024-10-12T03:44:57.569899Z"
    }
   },
   "cell_type": "code",
   "source": [
    "select_geography_tables_list = select_geography_tables.value\n",
    "crosswalk_df = pd.read_sql_table('crosswalk', sql_engine)\n",
    "\n",
    "output_path_dir = f'data/outputs/{str(datetime.datetime.now())}'\n",
    "os.makedirs(output_path_dir, exist_ok=True)\n",
    "\n",
    "for dataframe in list_of_dataframes:\n",
    "    \n",
    "    # subset dataframe by selected geographies in select geography list\n",
    "    dataframe = dataframe[dataframe['NAME'].isin(select_geography_tables_list)]\n",
    "    \n",
    "    # parses table name from table column, before it gets renamed using crosswalk\n",
    "    table_code = str(dataframe.columns[3]).split('_')[0]\n",
    "    \n",
    "    table_name_df = tables[tables['name'].isin([table_code])]\n",
    "    table_name = table_name_df['concept'].iloc[0]\n",
    "\n",
    "    # renames table column names with data from crosswalk \n",
    "    for series_name in dataframe.columns:\n",
    "        if crosswalk_df['name'].str.contains(series_name).any():\n",
    "            # if the crosswalk contains the name of the DataFrame column (i.e., for any data column as opposed to names, descriptors, etc. ) replace table name based on key to one based on descriptor, then strip spaces, punctuation, etc. and replace with underscores for easier data manipulation and normalization, then convert from Series object to int dtype\n",
    "            new_label = str(crosswalk_df[crosswalk_df['name'].str.startswith(series_name)][['label']].values)\n",
    "            new_label = new_label.replace('[', '').replace(']', '').replace('\\' \\'', ': ').replace('\\'', '').replace('!!', ': ').replace(':', '').replace('\\n', '').replace('Estimate ', '').replace('Total ', '').title()\n",
    "            try:\n",
    "                if series_name != 'ucgid':\n",
    "                    dataframe.rename(columns={series_name: new_label}, inplace=True, errors='raise')\n",
    "                    dataframe = dataframe.astype({series_name: 'int'})\n",
    "            except (TypeError, ValueError, KeyError):\n",
    "                pass\n",
    "        elif series_name == 'NAME':\n",
    "            dataframe = dataframe.rename(columns={series_name: str(series_name).title()}, errors='raise')\n",
    "            \n",
    "        dataframe.to_csv(os.path.join(output_path_dir, f'{table_name}.csv'))\n",
    "\n",
    "dataframe\n"
   ],
   "id": "5576ee37f06976c7",
   "outputs": [
    {
     "data": {
      "text/plain": [
       "    index                                               Name   Total  \\\n",
       "6      18  Bexar County (South)--San Antonio City (Far So...  155224   \n",
       "14     26  Bexar County (North)--San Antonio City (Far No...  159997   \n",
       "\n",
       "    Under 18 Years  18 To 24 Years  25 To 34 Years  35 To 44 Years  \\\n",
       "6            38131           16498           25816           25524   \n",
       "14           37102           15679           27640           23339   \n",
       "\n",
       "    45 To 54 Years  55 To 64 Years  65 Years And Over             ucgid  \n",
       "6            17224           12328              19703  795P200US4805907  \n",
       "14           21142           15423              19672  795P200US4805915  "
      ],
      "text/html": [
       "<div>\n",
       "<style scoped>\n",
       "    .dataframe tbody tr th:only-of-type {\n",
       "        vertical-align: middle;\n",
       "    }\n",
       "\n",
       "    .dataframe tbody tr th {\n",
       "        vertical-align: top;\n",
       "    }\n",
       "\n",
       "    .dataframe thead th {\n",
       "        text-align: right;\n",
       "    }\n",
       "</style>\n",
       "<table border=\"1\" class=\"dataframe\">\n",
       "  <thead>\n",
       "    <tr style=\"text-align: right;\">\n",
       "      <th></th>\n",
       "      <th>index</th>\n",
       "      <th>Name</th>\n",
       "      <th>Total</th>\n",
       "      <th>Under 18 Years</th>\n",
       "      <th>18 To 24 Years</th>\n",
       "      <th>25 To 34 Years</th>\n",
       "      <th>35 To 44 Years</th>\n",
       "      <th>45 To 54 Years</th>\n",
       "      <th>55 To 64 Years</th>\n",
       "      <th>65 Years And Over</th>\n",
       "      <th>ucgid</th>\n",
       "    </tr>\n",
       "  </thead>\n",
       "  <tbody>\n",
       "    <tr>\n",
       "      <th>6</th>\n",
       "      <td>18</td>\n",
       "      <td>Bexar County (South)--San Antonio City (Far So...</td>\n",
       "      <td>155224</td>\n",
       "      <td>38131</td>\n",
       "      <td>16498</td>\n",
       "      <td>25816</td>\n",
       "      <td>25524</td>\n",
       "      <td>17224</td>\n",
       "      <td>12328</td>\n",
       "      <td>19703</td>\n",
       "      <td>795P200US4805907</td>\n",
       "    </tr>\n",
       "    <tr>\n",
       "      <th>14</th>\n",
       "      <td>26</td>\n",
       "      <td>Bexar County (North)--San Antonio City (Far No...</td>\n",
       "      <td>159997</td>\n",
       "      <td>37102</td>\n",
       "      <td>15679</td>\n",
       "      <td>27640</td>\n",
       "      <td>23339</td>\n",
       "      <td>21142</td>\n",
       "      <td>15423</td>\n",
       "      <td>19672</td>\n",
       "      <td>795P200US4805915</td>\n",
       "    </tr>\n",
       "  </tbody>\n",
       "</table>\n",
       "</div>"
      ]
     },
     "execution_count": 73,
     "metadata": {},
     "output_type": "execute_result"
    }
   ],
   "execution_count": 73
  },
  {
   "metadata": {},
   "cell_type": "code",
   "outputs": [],
   "execution_count": null,
   "source": "",
   "id": "ea5a45e6c8b6e6b0"
  }
 ],
 "metadata": {
  "kernelspec": {
   "display_name": "Python 3",
   "language": "python",
   "name": "python3"
  },
  "language_info": {
   "codemirror_mode": {
    "name": "ipython",
    "version": 2
   },
   "file_extension": ".py",
   "mimetype": "text/x-python",
   "name": "python",
   "nbconvert_exporter": "python",
   "pygments_lexer": "ipython2",
   "version": "2.7.6"
  }
 },
 "nbformat": 4,
 "nbformat_minor": 5
}
