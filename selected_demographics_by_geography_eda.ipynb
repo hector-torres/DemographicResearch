{
 "cells": [
  {
   "metadata": {},
   "cell_type": "markdown",
   "source": [
    "# Demographics by Geography EDA\n",
    "\n",
    "This notebook looks the available demographic data available collected geographies. \n",
    "\n",
    "## Data Preparation\n",
    "First, we import required libraries and make data calls that do not require user input. \n"
   ],
   "id": "97e1c390964ddf4c"
  },
  {
   "metadata": {
    "ExecuteTime": {
     "end_time": "2024-10-06T23:37:10.930936Z",
     "start_time": "2024-10-06T23:37:10.539804Z"
    }
   },
   "cell_type": "code",
   "source": [
    "from audioop import reverse\n",
    "\n",
    "import pandas as pd\n",
    "import os\n",
    "import sqlalchemy\n",
    "import ipywidgets as widgets\n",
    "from pandas.errors import MergeError"
   ],
   "id": "c2236729eb1d88f",
   "outputs": [],
   "execution_count": 1
  },
  {
   "metadata": {},
   "cell_type": "markdown",
   "source": [
    "## User Input\n",
    "\n",
    " ### Select Year of Analysis"
   ],
   "id": "a89f8dae3f32a3f5"
  },
  {
   "metadata": {
    "ExecuteTime": {
     "end_time": "2024-10-06T23:37:10.941723Z",
     "start_time": "2024-10-06T23:37:10.935800Z"
    }
   },
   "cell_type": "code",
   "source": [
    "years_available = ['2022']\n",
    "acs_survey_year = ''\n",
    "acs_survey_year = widgets.Dropdown(\n",
    "    options = years_available,\n",
    "    value = '2022',\n",
    "    # description = 'Select Year of Analysis',\n",
    "    disabled=False\n",
    ")\n",
    "acs_survey_year"
   ],
   "id": "63112211275b2ab3",
   "outputs": [
    {
     "data": {
      "text/plain": [
       "Dropdown(options=('2022',), value='2022')"
      ],
      "application/vnd.jupyter.widget-view+json": {
       "version_major": 2,
       "version_minor": 0,
       "model_id": "e02d57d9f9a2477995d54f1bbdea9a71"
      }
     },
     "execution_count": 2,
     "metadata": {},
     "output_type": "execute_result"
    }
   ],
   "execution_count": 2
  },
  {
   "metadata": {},
   "cell_type": "markdown",
   "source": [
    "### Select Survey\n",
    "Select whether to view ACS 1yr geographies (congressional district, county, place, or PUMA), or a specific block group at the 5yr level."
   ],
   "id": "6cc19a1cf5069f0f"
  },
  {
   "metadata": {
    "ExecuteTime": {
     "end_time": "2024-10-06T23:37:11.043605Z",
     "start_time": "2024-10-06T23:37:11.039389Z"
    }
   },
   "cell_type": "code",
   "source": [
    "survey_type = widgets.Dropdown(\n",
    "    options=[('1-Year Estimates', 'acsse'), ('5-Year Estimate', 'acs5')],\n",
    "    # description='ACS Survey Type',\n",
    "    disabled=False,\n",
    "    layout=widgets.Layout(width='max-content'),\n",
    "    tooltips=['Congressional District, County, Place, or PUMA', 'Block Group']\n",
    ")\n",
    "survey_type"
   ],
   "id": "dceb160fc9e8f790",
   "outputs": [
    {
     "data": {
      "text/plain": [
       "Dropdown(layout=Layout(width='max-content'), options=(('1-Year Estimates', 'acsse'), ('5-Year Estimate', 'acs5…"
      ],
      "application/vnd.jupyter.widget-view+json": {
       "version_major": 2,
       "version_minor": 0,
       "model_id": "47e624771acd4ebbb2e5584f59a801b9"
      }
     },
     "execution_count": 3,
     "metadata": {},
     "output_type": "execute_result"
    }
   ],
   "execution_count": 3
  },
  {
   "metadata": {},
   "cell_type": "markdown",
   "source": "### Select Geographic Level of Analysis",
   "id": "2508679b56005159"
  },
  {
   "metadata": {
    "ExecuteTime": {
     "end_time": "2024-10-06T23:37:11.059938Z",
     "start_time": "2024-10-06T23:37:11.055409Z"
    }
   },
   "cell_type": "code",
   "source": [
    "geography_type = ''\n",
    "if survey_type.value == 'acsse':\n",
    "    geography_type = widgets.Dropdown(\n",
    "        options = [('Congressional District', 'congressional_district'), ('County', 'county'), ('Place', 'place'), ('PUMA', 'puma')],\n",
    "        value = 'county',\n",
    "        # description = 'Select Geography',\n",
    "        disabled=False\n",
    "    )\n",
    "elif survey_type.value == 'acs5':\n",
    "    geography_type = ('Block Group', 'block_group')[1]\n",
    "geography_type"
   ],
   "id": "cc89d91979ff6ead",
   "outputs": [
    {
     "data": {
      "text/plain": [
       "Dropdown(index=1, options=(('Congressional District', 'congressional_district'), ('County', 'county'), ('Place…"
      ],
      "application/vnd.jupyter.widget-view+json": {
       "version_major": 2,
       "version_minor": 0,
       "model_id": "4367e2d2a4ef43a2b4feca52d05d4b2b"
      }
     },
     "execution_count": 4,
     "metadata": {},
     "output_type": "execute_result"
    }
   ],
   "execution_count": 4
  },
  {
   "metadata": {},
   "cell_type": "markdown",
   "source": "### Select Tables From Survey for Selected Geography",
   "id": "4f3cccea17e43d4b"
  },
  {
   "metadata": {
    "ExecuteTime": {
     "end_time": "2024-10-06T23:38:10.007309Z",
     "start_time": "2024-10-06T23:38:09.991030Z"
    }
   },
   "cell_type": "code",
   "source": [
    "# imports Census survey data\n",
    "db_filepath = os.path.join(f'data/databases/census_{survey_type.value}_{acs_survey_year.value}_{geography_type.value}.db')\n",
    "\n",
    "sql_engine = sqlalchemy.create_engine('sqlite:///' + db_filepath)\n",
    "tables = pd.read_sql_table('tables', sql_engine)\n",
    "concepts = list(tables.concept)\n",
    "\n",
    "# adds index as second item in each tuple for loading into widget\n",
    "concepts_for_widget = []\n",
    "for index, concept in enumerate(concepts):\n",
    "    concept = str(concept).capitalize().replace('_', ' ')\n",
    "    concepts_for_widget.append((concept, index))\n",
    "\n",
    "select_widget_tables = widgets.SelectMultiple(\n",
    "    options=list(concepts_for_widget),\n",
    "    rows=len(concepts_for_widget),\n",
    "    # description='Select Concept',\n",
    "    layout=widgets.Layout(width='max-content'),\n",
    "    disabled=False\n",
    ")\n",
    "\n",
    "select_widget_tables"
   ],
   "id": "f47d1e4d3895b6cd",
   "outputs": [
    {
     "data": {
      "text/plain": [
       "SelectMultiple(layout=Layout(width='max-content'), options=(('Veteran status for the civilian population 18 ye…"
      ],
      "application/vnd.jupyter.widget-view+json": {
       "version_major": 2,
       "version_minor": 0,
       "model_id": "fa53a08160844b7da9ba094300771a91"
      }
     },
     "execution_count": 9,
     "metadata": {},
     "output_type": "execute_result"
    }
   ],
   "execution_count": 9
  },
  {
   "metadata": {},
   "cell_type": "markdown",
   "source": "### Select Specific Geography",
   "id": "1dbd1613b4d921eb"
  },
  {
   "metadata": {
    "ExecuteTime": {
     "end_time": "2024-10-06T23:43:53.828914Z",
     "start_time": "2024-10-06T23:43:53.798480Z"
    }
   },
   "cell_type": "code",
   "source": [
    "# loads all database data locally and conducts any further filtering from this notebook locally\n",
    "selected_tables = []\n",
    "for table in select_widget_tables.value:\n",
    "    selected_tables.append(tables.iloc[table]['name'])\n",
    "    \n",
    "df = pd.DataFrame()\n",
    "if geography_type.value == 'block_group':    \n",
    "     geography_selector = widgets.Text(\n",
    "        value = '23893US9834092834',\n",
    "        placeholder = '23893US9834092834',\n",
    "        # description = 'Block Group UCGID',\n",
    "        disabled=False\n",
    "    )\n",
    "else:\n",
    "    # selects name of geographies available (each table in a given survey will have the same, so data only needs to be extracted from the first\n",
    "    for table in selected_tables:\n",
    "        try:\n",
    "            df = pd.merge(df, (pd.read_sql_table(table, sql_engine)), on=['ucgid', 'NAME'])\n",
    "            try:    \n",
    "                df.drop(['index_x'], inplace=True, axis=1)\n",
    "            except:\n",
    "                pass\n",
    "            try:\n",
    "                df.drop(['index_y'], inplace=True, axis=1)\n",
    "            except:\n",
    "                pass\n",
    "        except Exception as e:\n",
    "            df = pd.read_sql_table(table, sql_engine)    \n",
    "\n",
    "geography_names = list(df['NAME'])\n",
    "\n",
    "select_geography_tables = widgets.SelectMultiple(\n",
    "    options=geography_names,\n",
    "    rows=len(geography_names),\n",
    "    # description='Select Concept',\n",
    "    layout=widgets.Layout(width='max-content'),\n",
    "    disabled=False\n",
    ")\n",
    "select_geography_tables"
   ],
   "id": "d20fc505c069786f",
   "outputs": [
    {
     "data": {
      "text/plain": [
       "SelectMultiple(layout=Layout(width='max-content'), options=('Congressional District 20 (118th Congress), Texas…"
      ],
      "application/vnd.jupyter.widget-view+json": {
       "version_major": 2,
       "version_minor": 0,
       "model_id": "6ddb3359ffee4b5ea5c4f17eb73f15c1"
      }
     },
     "execution_count": 20,
     "metadata": {},
     "output_type": "execute_result"
    }
   ],
   "execution_count": 20
  },
  {
   "metadata": {
    "ExecuteTime": {
     "end_time": "2024-10-06T23:50:02.262794Z",
     "start_time": "2024-10-06T23:50:02.233390Z"
    }
   },
   "cell_type": "code",
   "source": [
    "select_geography_tables_list = select_geography_tables.value\n",
    "selected_geography_df = pd.DataFrame()\n",
    "\n",
    "for table in select_geography_tables_list:\n",
    "    temp_df = df[df['NAME'] == table]\n",
    "    selected_geography_df = pd.concat([selected_geography_df, temp_df])\n",
    "    \n",
    "# renames table column names with data from crosswalk database\n",
    "crosswalk_df = pd.read_sql_table('crosswalk', sql_engine)\n",
    "\n",
    "for series_name in selected_geography_df.columns:\n",
    "    if crosswalk_df['name'].str.contains(series_name).any():\n",
    "        # if the crosswalk contains the name of the DataFrame column (i.e., for any data column as opposed to names, descriptors, etc. ) replace table name based on key to one based on descriptor, then strip spaces, punctuation, etc. and replace with underscores for easier data manipulation and normalization, then convert from Series object to int dtype\n",
    "        new_label = str(crosswalk_df[crosswalk_df['name'].str.startswith(series_name)][['concept', 'label']].values)\n",
    "        new_label = new_label.replace('[', '').replace(']', '').replace('\\' \\'', '__').replace(' ', '_').replace('\\'', '').replace('!!', '_').replace(':', '').replace('\\n', '').lower()\n",
    "        try:\n",
    "            if series_name != 'ucgid':\n",
    "                selected_geography_df.rename(columns={series_name: new_label + '::' + series_name}, inplace=True, errors='raise')\n",
    "                selected_geography_df.rename(columns={series_name: new_label}, inplace=True, errors='raise')\n",
    "                selected_geography_df = selected_geography_df.astype({series_name: 'int'})\n",
    "        except (TypeError, ValueError, KeyError):\n",
    "            pass\n",
    "    elif series_name == 'NAME':\n",
    "        selected_geography_df.rename(columns={series_name: str(series_name).lower()}, inplace=True, errors='raise')\n",
    "\n",
    "selected_geography_df"
   ],
   "id": "5576ee37f06976c7",
   "outputs": [
    {
     "data": {
      "text/plain": [
       "                                                name  \\\n",
       "0  Congressional District 20 (118th Congress), Texas   \n",
       "1  Congressional District 23 (118th Congress), Texas   \n",
       "2  Congressional District 28 (118th Congress), Texas   \n",
       "3  Congressional District 35 (118th Congress), Texas   \n",
       "4  Congressional District 21 (118th Congress), Texas   \n",
       "\n",
       "   race__estimate_total::K200201_001E  \\\n",
       "0                              781188   \n",
       "1                              778355   \n",
       "2                              777758   \n",
       "3                              802077   \n",
       "4                              807859   \n",
       "\n",
       "   race__estimate_total_white_alone::K200201_002E  \\\n",
       "0                                          296043   \n",
       "1                                          339088   \n",
       "2                                          248104   \n",
       "3                                          322027   \n",
       "4                                          523543   \n",
       "\n",
       "   race__estimate_total_black_or_african_american_alone::K200201_003E  \\\n",
       "0                                              48095                    \n",
       "1                                              26683                    \n",
       "2                                              36557                    \n",
       "3                                              94886                    \n",
       "4                                              31169                    \n",
       "\n",
       "   race__estimate_total_american_indian_and_alaska_native_alone::K200201_004E  \\\n",
       "0                                               9425                            \n",
       "1                                              10982                            \n",
       "2                                               8341                            \n",
       "3                                               8388                            \n",
       "4                                               5672                            \n",
       "\n",
       "   race__estimate_total_asian_alone::K200201_005E  \\\n",
       "0                                           33417   \n",
       "1                                           17723   \n",
       "2                                            7458   \n",
       "3                                           29017   \n",
       "4                                           15981   \n",
       "\n",
       "   race__estimate_total_native_hawaiian_and_other_pacific_islander_alone::K200201_006E  \\\n",
       "0                                                487                                     \n",
       "1                                                750                                     \n",
       "2                                                903                                     \n",
       "3                                                749                                     \n",
       "4                                                955                                     \n",
       "\n",
       "   race__estimate_total_some_other_race_alone::K200201_007E  \\\n",
       "0                                              98412          \n",
       "1                                              94047          \n",
       "2                                              93044          \n",
       "3                                             103894          \n",
       "4                                              48611          \n",
       "\n",
       "   race__estimate_total_two_or_more_races::K200201_008E          ucgid  ...  \\\n",
       "0                                             295309     5001800US4820  ...   \n",
       "1                                             289082     5001800US4823  ...   \n",
       "2                                             383351     5001800US4828  ...   \n",
       "3                                             243116     5001800US4835  ...   \n",
       "4                                             181928     5001800US4821  ...   \n",
       "\n",
       "   population_by_age__estimate_total_65_years_and_over::K200104_008E  index  \\\n",
       "0                                              95295                      7   \n",
       "1                                             106198                      9   \n",
       "2                                              97208                     10   \n",
       "3                                              74073                     11   \n",
       "4                                             152369                      8   \n",
       "\n",
       "   educational_attainment_for_the_population_25_years_and_over__estimate_total::K201501_001E  \\\n",
       "0                                             499585                                           \n",
       "1                                             494117                                           \n",
       "2                                             483588                                           \n",
       "3                                             532320                                           \n",
       "4                                             562310                                           \n",
       "\n",
       "   educational_attainment_for_the_population_25_years_and_over__estimate_total_less_than_9th_grade::K201501_002E  \\\n",
       "0                                              36455                                                               \n",
       "1                                              38065                                                               \n",
       "2                                              53291                                                               \n",
       "3                                              36526                                                               \n",
       "4                                              14461                                                               \n",
       "\n",
       "   educational_attainment_for_the_population_25_years_and_over__estimate_total_9th_to_12th_grade,_no_diploma::K201501_003E  \\\n",
       "0                                              37804                                                                         \n",
       "1                                              35651                                                                         \n",
       "2                                              51965                                                                         \n",
       "3                                              35635                                                                         \n",
       "4                                              18080                                                                         \n",
       "\n",
       "   educational_attainment_for_the_population_25_years_and_over__estimate_total_high_school_graduate_(includes_equivalency)::K201501_004E  \\\n",
       "0                                             139182                                                                                       \n",
       "1                                             123924                                                                                       \n",
       "2                                             134121                                                                                       \n",
       "3                                             126553                                                                                       \n",
       "4                                              99684                                                                                       \n",
       "\n",
       "   educational_attainment_for_the_population_25_years_and_over__estimate_total_some_college,_no_degree::K201501_005E  \\\n",
       "0                                             113997                                                                   \n",
       "1                                              98384                                                                   \n",
       "2                                              97416                                                                   \n",
       "3                                             104509                                                                   \n",
       "4                                             112936                                                                   \n",
       "\n",
       "   educational_attainment_for_the_population_25_years_and_over__\"estimate_total_associates_degree\"::K201501_006E  \\\n",
       "0                                              45328                                                               \n",
       "1                                              43780                                                               \n",
       "2                                              42800                                                               \n",
       "3                                              42786                                                               \n",
       "4                                              44805                                                               \n",
       "\n",
       "   educational_attainment_for_the_population_25_years_and_over__\"estimate_total_bachelors_degree\"::K201501_007E  \\\n",
       "0                                              82239                                                              \n",
       "1                                              96308                                                              \n",
       "2                                              72869                                                              \n",
       "3                                             122817                                                              \n",
       "4                                             167138                                                              \n",
       "\n",
       "   educational_attainment_for_the_population_25_years_and_over__estimate_total_graduate_or_professional_degree::K201501_008E  \n",
       "0                                              44580                                                                          \n",
       "1                                              58005                                                                          \n",
       "2                                              31126                                                                          \n",
       "3                                              63494                                                                          \n",
       "4                                             105206                                                                          \n",
       "\n",
       "[5 rows x 27 columns]"
      ],
      "text/html": [
       "<div>\n",
       "<style scoped>\n",
       "    .dataframe tbody tr th:only-of-type {\n",
       "        vertical-align: middle;\n",
       "    }\n",
       "\n",
       "    .dataframe tbody tr th {\n",
       "        vertical-align: top;\n",
       "    }\n",
       "\n",
       "    .dataframe thead th {\n",
       "        text-align: right;\n",
       "    }\n",
       "</style>\n",
       "<table border=\"1\" class=\"dataframe\">\n",
       "  <thead>\n",
       "    <tr style=\"text-align: right;\">\n",
       "      <th></th>\n",
       "      <th>name</th>\n",
       "      <th>race__estimate_total::K200201_001E</th>\n",
       "      <th>race__estimate_total_white_alone::K200201_002E</th>\n",
       "      <th>race__estimate_total_black_or_african_american_alone::K200201_003E</th>\n",
       "      <th>race__estimate_total_american_indian_and_alaska_native_alone::K200201_004E</th>\n",
       "      <th>race__estimate_total_asian_alone::K200201_005E</th>\n",
       "      <th>race__estimate_total_native_hawaiian_and_other_pacific_islander_alone::K200201_006E</th>\n",
       "      <th>race__estimate_total_some_other_race_alone::K200201_007E</th>\n",
       "      <th>race__estimate_total_two_or_more_races::K200201_008E</th>\n",
       "      <th>ucgid</th>\n",
       "      <th>...</th>\n",
       "      <th>population_by_age__estimate_total_65_years_and_over::K200104_008E</th>\n",
       "      <th>index</th>\n",
       "      <th>educational_attainment_for_the_population_25_years_and_over__estimate_total::K201501_001E</th>\n",
       "      <th>educational_attainment_for_the_population_25_years_and_over__estimate_total_less_than_9th_grade::K201501_002E</th>\n",
       "      <th>educational_attainment_for_the_population_25_years_and_over__estimate_total_9th_to_12th_grade,_no_diploma::K201501_003E</th>\n",
       "      <th>educational_attainment_for_the_population_25_years_and_over__estimate_total_high_school_graduate_(includes_equivalency)::K201501_004E</th>\n",
       "      <th>educational_attainment_for_the_population_25_years_and_over__estimate_total_some_college,_no_degree::K201501_005E</th>\n",
       "      <th>educational_attainment_for_the_population_25_years_and_over__\"estimate_total_associates_degree\"::K201501_006E</th>\n",
       "      <th>educational_attainment_for_the_population_25_years_and_over__\"estimate_total_bachelors_degree\"::K201501_007E</th>\n",
       "      <th>educational_attainment_for_the_population_25_years_and_over__estimate_total_graduate_or_professional_degree::K201501_008E</th>\n",
       "    </tr>\n",
       "  </thead>\n",
       "  <tbody>\n",
       "    <tr>\n",
       "      <th>0</th>\n",
       "      <td>Congressional District 20 (118th Congress), Texas</td>\n",
       "      <td>781188</td>\n",
       "      <td>296043</td>\n",
       "      <td>48095</td>\n",
       "      <td>9425</td>\n",
       "      <td>33417</td>\n",
       "      <td>487</td>\n",
       "      <td>98412</td>\n",
       "      <td>295309</td>\n",
       "      <td>5001800US4820</td>\n",
       "      <td>...</td>\n",
       "      <td>95295</td>\n",
       "      <td>7</td>\n",
       "      <td>499585</td>\n",
       "      <td>36455</td>\n",
       "      <td>37804</td>\n",
       "      <td>139182</td>\n",
       "      <td>113997</td>\n",
       "      <td>45328</td>\n",
       "      <td>82239</td>\n",
       "      <td>44580</td>\n",
       "    </tr>\n",
       "    <tr>\n",
       "      <th>1</th>\n",
       "      <td>Congressional District 23 (118th Congress), Texas</td>\n",
       "      <td>778355</td>\n",
       "      <td>339088</td>\n",
       "      <td>26683</td>\n",
       "      <td>10982</td>\n",
       "      <td>17723</td>\n",
       "      <td>750</td>\n",
       "      <td>94047</td>\n",
       "      <td>289082</td>\n",
       "      <td>5001800US4823</td>\n",
       "      <td>...</td>\n",
       "      <td>106198</td>\n",
       "      <td>9</td>\n",
       "      <td>494117</td>\n",
       "      <td>38065</td>\n",
       "      <td>35651</td>\n",
       "      <td>123924</td>\n",
       "      <td>98384</td>\n",
       "      <td>43780</td>\n",
       "      <td>96308</td>\n",
       "      <td>58005</td>\n",
       "    </tr>\n",
       "    <tr>\n",
       "      <th>2</th>\n",
       "      <td>Congressional District 28 (118th Congress), Texas</td>\n",
       "      <td>777758</td>\n",
       "      <td>248104</td>\n",
       "      <td>36557</td>\n",
       "      <td>8341</td>\n",
       "      <td>7458</td>\n",
       "      <td>903</td>\n",
       "      <td>93044</td>\n",
       "      <td>383351</td>\n",
       "      <td>5001800US4828</td>\n",
       "      <td>...</td>\n",
       "      <td>97208</td>\n",
       "      <td>10</td>\n",
       "      <td>483588</td>\n",
       "      <td>53291</td>\n",
       "      <td>51965</td>\n",
       "      <td>134121</td>\n",
       "      <td>97416</td>\n",
       "      <td>42800</td>\n",
       "      <td>72869</td>\n",
       "      <td>31126</td>\n",
       "    </tr>\n",
       "    <tr>\n",
       "      <th>3</th>\n",
       "      <td>Congressional District 35 (118th Congress), Texas</td>\n",
       "      <td>802077</td>\n",
       "      <td>322027</td>\n",
       "      <td>94886</td>\n",
       "      <td>8388</td>\n",
       "      <td>29017</td>\n",
       "      <td>749</td>\n",
       "      <td>103894</td>\n",
       "      <td>243116</td>\n",
       "      <td>5001800US4835</td>\n",
       "      <td>...</td>\n",
       "      <td>74073</td>\n",
       "      <td>11</td>\n",
       "      <td>532320</td>\n",
       "      <td>36526</td>\n",
       "      <td>35635</td>\n",
       "      <td>126553</td>\n",
       "      <td>104509</td>\n",
       "      <td>42786</td>\n",
       "      <td>122817</td>\n",
       "      <td>63494</td>\n",
       "    </tr>\n",
       "    <tr>\n",
       "      <th>4</th>\n",
       "      <td>Congressional District 21 (118th Congress), Texas</td>\n",
       "      <td>807859</td>\n",
       "      <td>523543</td>\n",
       "      <td>31169</td>\n",
       "      <td>5672</td>\n",
       "      <td>15981</td>\n",
       "      <td>955</td>\n",
       "      <td>48611</td>\n",
       "      <td>181928</td>\n",
       "      <td>5001800US4821</td>\n",
       "      <td>...</td>\n",
       "      <td>152369</td>\n",
       "      <td>8</td>\n",
       "      <td>562310</td>\n",
       "      <td>14461</td>\n",
       "      <td>18080</td>\n",
       "      <td>99684</td>\n",
       "      <td>112936</td>\n",
       "      <td>44805</td>\n",
       "      <td>167138</td>\n",
       "      <td>105206</td>\n",
       "    </tr>\n",
       "  </tbody>\n",
       "</table>\n",
       "<p>5 rows × 27 columns</p>\n",
       "</div>"
      ]
     },
     "execution_count": 31,
     "metadata": {},
     "output_type": "execute_result"
    }
   ],
   "execution_count": 31
  }
 ],
 "metadata": {
  "kernelspec": {
   "display_name": "Python 3",
   "language": "python",
   "name": "python3"
  },
  "language_info": {
   "codemirror_mode": {
    "name": "ipython",
    "version": 2
   },
   "file_extension": ".py",
   "mimetype": "text/x-python",
   "name": "python",
   "nbconvert_exporter": "python",
   "pygments_lexer": "ipython2",
   "version": "2.7.6"
  }
 },
 "nbformat": 4,
 "nbformat_minor": 5
}
