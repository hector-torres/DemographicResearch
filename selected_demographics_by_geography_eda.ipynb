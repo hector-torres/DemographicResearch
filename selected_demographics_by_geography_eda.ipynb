{
 "cells": [
  {
   "metadata": {},
   "cell_type": "markdown",
   "source": [
    "# Demographics by Geography EDA\n",
    "\n",
    "This notebook allows users to select multiple geographies and demographic tables, and provides visualizations for a single combination of those at a time. \n",
    "\n",
    "## Data Preparation\n",
    "Import required libraries and make data calls that do not require user input. \n"
   ],
   "id": "97e1c390964ddf4c"
  },
  {
   "metadata": {
    "ExecuteTime": {
     "end_time": "2024-10-08T23:44:34.580827Z",
     "start_time": "2024-10-08T23:44:34.108908Z"
    }
   },
   "cell_type": "code",
   "source": [
    "from audioop import reverse\n",
    "\n",
    "import pandas as pd\n",
    "import os\n",
    "import sqlalchemy\n",
    "import ipywidgets as widgets\n",
    "from pandas.errors import MergeError"
   ],
   "id": "c2236729eb1d88f",
   "outputs": [],
   "execution_count": 1
  },
  {
   "metadata": {},
   "cell_type": "markdown",
   "source": [
    "## User Input\n",
    "\n",
    " ### Select Year of Analysis"
   ],
   "id": "a89f8dae3f32a3f5"
  },
  {
   "metadata": {
    "ExecuteTime": {
     "end_time": "2024-10-08T23:44:37.811464Z",
     "start_time": "2024-10-08T23:44:37.805437Z"
    }
   },
   "cell_type": "code",
   "source": [
    "years_available = ['2022']\n",
    "acs_survey_year = ''\n",
    "acs_survey_year = widgets.Dropdown(\n",
    "    options = years_available,\n",
    "    value = '2022',\n",
    "    # description = 'Select Year of Analysis',\n",
    "    disabled=False\n",
    ")\n",
    "acs_survey_year"
   ],
   "id": "63112211275b2ab3",
   "outputs": [
    {
     "data": {
      "text/plain": [
       "Dropdown(options=('2022',), value='2022')"
      ],
      "application/vnd.jupyter.widget-view+json": {
       "version_major": 2,
       "version_minor": 0,
       "model_id": "556da0cbd45b4e5d853024cbb94c55ba"
      }
     },
     "execution_count": 2,
     "metadata": {},
     "output_type": "execute_result"
    }
   ],
   "execution_count": 2
  },
  {
   "metadata": {},
   "cell_type": "markdown",
   "source": [
    "### Select Survey\n",
    "Select whether to view ACS 1yr geographies (congressional district, county, place, or PUMA), or a specific block group at the 5yr level."
   ],
   "id": "6cc19a1cf5069f0f"
  },
  {
   "metadata": {
    "ExecuteTime": {
     "end_time": "2024-10-08T23:44:44.457879Z",
     "start_time": "2024-10-08T23:44:44.453602Z"
    }
   },
   "cell_type": "code",
   "source": [
    "survey_type = widgets.Dropdown(\n",
    "    options=[('1-Year Estimates', 'acsse'), ('5-Year Estimate', 'acs5')],\n",
    "    # description='ACS Survey Type',\n",
    "    disabled=False,\n",
    "    layout=widgets.Layout(width='max-content'),\n",
    "    tooltips=['Congressional District, County, Place, or PUMA', 'Block Group']\n",
    ")\n",
    "survey_type"
   ],
   "id": "dceb160fc9e8f790",
   "outputs": [
    {
     "data": {
      "text/plain": [
       "Dropdown(layout=Layout(width='max-content'), options=(('1-Year Estimates', 'acsse'), ('5-Year Estimate', 'acs5…"
      ],
      "application/vnd.jupyter.widget-view+json": {
       "version_major": 2,
       "version_minor": 0,
       "model_id": "ece5795d37d8429597f2b20469c2f123"
      }
     },
     "execution_count": 3,
     "metadata": {},
     "output_type": "execute_result"
    }
   ],
   "execution_count": 3
  },
  {
   "metadata": {},
   "cell_type": "markdown",
   "source": "### Select Geographic Level of Analysis",
   "id": "2508679b56005159"
  },
  {
   "metadata": {
    "ExecuteTime": {
     "end_time": "2024-10-08T23:44:50.701230Z",
     "start_time": "2024-10-08T23:44:50.694277Z"
    }
   },
   "cell_type": "code",
   "source": [
    "geography_type = ''\n",
    "if survey_type.value == 'acsse':\n",
    "    geography_type = widgets.Dropdown(\n",
    "        options = [('Congressional District', 'congressional_district'), ('County', 'county'), ('Place', 'place'), ('PUMA', 'puma')],\n",
    "        value = 'county',\n",
    "        # description = 'Select Geography',\n",
    "        disabled=False\n",
    "    )\n",
    "elif survey_type.value == 'acs5':\n",
    "    geography_type = ('Block Group', 'block_group')[1]\n",
    "geography_type"
   ],
   "id": "cc89d91979ff6ead",
   "outputs": [
    {
     "data": {
      "text/plain": [
       "Dropdown(index=1, options=(('Congressional District', 'congressional_district'), ('County', 'county'), ('Place…"
      ],
      "application/vnd.jupyter.widget-view+json": {
       "version_major": 2,
       "version_minor": 0,
       "model_id": "fc24f1ddb5914c7689afda42c4ed291f"
      }
     },
     "execution_count": 4,
     "metadata": {},
     "output_type": "execute_result"
    }
   ],
   "execution_count": 4
  },
  {
   "metadata": {},
   "cell_type": "markdown",
   "source": "### Select Tables From Survey for Selected Geography",
   "id": "4f3cccea17e43d4b"
  },
  {
   "metadata": {
    "ExecuteTime": {
     "end_time": "2024-10-08T23:45:04.474353Z",
     "start_time": "2024-10-08T23:45:04.452945Z"
    }
   },
   "cell_type": "code",
   "source": [
    "# imports Census survey data\n",
    "db_filepath = os.path.join(f'data/databases/census_{survey_type.value}_{acs_survey_year.value}_{geography_type.value}.db')\n",
    "\n",
    "sql_engine = sqlalchemy.create_engine('sqlite:///' + db_filepath)\n",
    "tables = pd.read_sql_table('tables', sql_engine)\n",
    "concepts = list(tables.concept)\n",
    "\n",
    "# adds index as second item in each tuple for loading into widget\n",
    "concepts_for_widget = []\n",
    "for index, concept in enumerate(concepts):\n",
    "    concept = str(concept).capitalize().replace('_', ' ')\n",
    "    concepts_for_widget.append((concept, index))\n",
    "\n",
    "select_widget_tables = widgets.SelectMultiple(\n",
    "    options=list(concepts_for_widget),\n",
    "    rows=len(concepts_for_widget),\n",
    "    # description='Select Concept',\n",
    "    layout=widgets.Layout(width='max-content'),\n",
    "    disabled=False\n",
    ")\n",
    "\n",
    "select_widget_tables"
   ],
   "id": "f47d1e4d3895b6cd",
   "outputs": [
    {
     "data": {
      "text/plain": [
       "SelectMultiple(layout=Layout(width='max-content'), options=(('Veteran status for the civilian population 18 ye…"
      ],
      "application/vnd.jupyter.widget-view+json": {
       "version_major": 2,
       "version_minor": 0,
       "model_id": "6d8e2eb251f841e7b1e7c42e4a115261"
      }
     },
     "execution_count": 5,
     "metadata": {},
     "output_type": "execute_result"
    }
   ],
   "execution_count": 5
  },
  {
   "metadata": {},
   "cell_type": "markdown",
   "source": "### Select Specific Geography",
   "id": "1dbd1613b4d921eb"
  },
  {
   "metadata": {
    "ExecuteTime": {
     "end_time": "2024-10-09T02:09:52.642884Z",
     "start_time": "2024-10-09T02:09:52.625147Z"
    }
   },
   "cell_type": "code",
   "source": [
    "# loads all database data locally and conducts any further filtering from this notebook locally\n",
    "selected_tables = []\n",
    "for table in select_widget_tables.value:\n",
    "    selected_tables.append(tables.iloc[table]['name'])\n",
    "\n",
    "list_of_dataframes = []\n",
    "df = pd.DataFrame()\n",
    "if geography_type.value == 'block_group':    \n",
    "    #  geography_selector = widgets.Text(\n",
    "    #     value = '23893US9834092834',\n",
    "    #     placeholder = '23893US9834092834',\n",
    "    #     # description = 'Block Group UCGID',\n",
    "    #     disabled=False\n",
    "    # )\n",
    "     pass\n",
    "else:\n",
    "    # selects name of geographies available\n",
    "    for table in selected_tables:\n",
    "        df = pd.read_sql_table(table, sql_engine)\n",
    "        list_of_dataframes.append(df)\n",
    "\n",
    "geography_names = list(list_of_dataframes[0]['NAME'])\n",
    "\n",
    "select_geography_tables = widgets.SelectMultiple(\n",
    "    options=geography_names,\n",
    "    rows=len(geography_names),\n",
    "    # description='Select Concept',\n",
    "    layout=widgets.Layout(width='max-content'),\n",
    "    disabled=False\n",
    ")\n",
    "select_geography_tables"
   ],
   "id": "d20fc505c069786f",
   "outputs": [
    {
     "data": {
      "text/plain": [
       "SelectMultiple(layout=Layout(width='max-content'), options=('San Antonio City (Central) PUMA; Texas', 'San Ant…"
      ],
      "application/vnd.jupyter.widget-view+json": {
       "version_major": 2,
       "version_minor": 0,
       "model_id": "ad21c3a281c4496eb9149f9c4540e697"
      }
     },
     "execution_count": 9,
     "metadata": {},
     "output_type": "execute_result"
    }
   ],
   "execution_count": 9
  },
  {
   "metadata": {
    "ExecuteTime": {
     "end_time": "2024-10-09T03:11:35.429047Z",
     "start_time": "2024-10-09T03:11:35.412416Z"
    }
   },
   "cell_type": "code",
   "source": [
    "select_geography_tables_list = select_geography_tables.value\n",
    "finalized_list_of_dataframes = []\n",
    "\n",
    "crosswalk_df = pd.read_sql_table('crosswalk', sql_engine)\n",
    "\n",
    "for dataframe in list_of_dataframes:\n",
    "    for table in select_geography_tables_list:\n",
    "        table_name = str(dataframe.columns[3]).split('_')[0]\n",
    "        concept_name = (tables[tables['name'] == table_name]['concept']).to_string(index=False).capitalize().replace('_', ' ')\n",
    "        \n",
    "        dataframe['table'] = table_name\n",
    "        dataframe['concept'] = concept_name\n",
    "        finalized_list_of_dataframes.append(dataframe[dataframe['NAME'] == table])\n",
    "    \n",
    "finalized_list_of_dataframes[1]"
   ],
   "id": "5576ee37f06976c7",
   "outputs": [
    {
     "data": {
      "text/plain": [
       "   index                                               NAME K201703_001E  \\\n",
       "8     20  San Antonio (Northwest) & Leon Valley Cities P...        26126   \n",
       "\n",
       "  K201703_002E K201703_003E K201703_004E K201703_005E K201703_006E  \\\n",
       "8         1708          821          887            0          887   \n",
       "\n",
       "  K201703_007E K201703_008E K201703_009E K201703_010E K201703_011E  \\\n",
       "8        24418        18894         5524         1587         3937   \n",
       "\n",
       "              ucgid table_name  \\\n",
       "8  795P200US4805909    K201703   \n",
       "\n",
       "                                             concept    table  \n",
       "8  Poverty status in the past 12 months of famili...  K201703  "
      ],
      "text/html": [
       "<div>\n",
       "<style scoped>\n",
       "    .dataframe tbody tr th:only-of-type {\n",
       "        vertical-align: middle;\n",
       "    }\n",
       "\n",
       "    .dataframe tbody tr th {\n",
       "        vertical-align: top;\n",
       "    }\n",
       "\n",
       "    .dataframe thead th {\n",
       "        text-align: right;\n",
       "    }\n",
       "</style>\n",
       "<table border=\"1\" class=\"dataframe\">\n",
       "  <thead>\n",
       "    <tr style=\"text-align: right;\">\n",
       "      <th></th>\n",
       "      <th>index</th>\n",
       "      <th>NAME</th>\n",
       "      <th>K201703_001E</th>\n",
       "      <th>K201703_002E</th>\n",
       "      <th>K201703_003E</th>\n",
       "      <th>K201703_004E</th>\n",
       "      <th>K201703_005E</th>\n",
       "      <th>K201703_006E</th>\n",
       "      <th>K201703_007E</th>\n",
       "      <th>K201703_008E</th>\n",
       "      <th>K201703_009E</th>\n",
       "      <th>K201703_010E</th>\n",
       "      <th>K201703_011E</th>\n",
       "      <th>ucgid</th>\n",
       "      <th>table_name</th>\n",
       "      <th>concept</th>\n",
       "      <th>table</th>\n",
       "    </tr>\n",
       "  </thead>\n",
       "  <tbody>\n",
       "    <tr>\n",
       "      <th>8</th>\n",
       "      <td>20</td>\n",
       "      <td>San Antonio (Northwest) &amp; Leon Valley Cities P...</td>\n",
       "      <td>26126</td>\n",
       "      <td>1708</td>\n",
       "      <td>821</td>\n",
       "      <td>887</td>\n",
       "      <td>0</td>\n",
       "      <td>887</td>\n",
       "      <td>24418</td>\n",
       "      <td>18894</td>\n",
       "      <td>5524</td>\n",
       "      <td>1587</td>\n",
       "      <td>3937</td>\n",
       "      <td>795P200US4805909</td>\n",
       "      <td>K201703</td>\n",
       "      <td>Poverty status in the past 12 months of famili...</td>\n",
       "      <td>K201703</td>\n",
       "    </tr>\n",
       "  </tbody>\n",
       "</table>\n",
       "</div>"
      ]
     },
     "execution_count": 66,
     "metadata": {},
     "output_type": "execute_result"
    }
   ],
   "execution_count": 66
  },
  {
   "metadata": {},
   "cell_type": "markdown",
   "source": "## Visualizations",
   "id": "57c5fdcbd8e23224"
  },
  {
   "metadata": {},
   "cell_type": "code",
   "outputs": [],
   "execution_count": null,
   "source": [
    "# todo: for each table, add row for totals\n",
    "# todo: for each table, create bar chart to show distributions\n",
    "# todo: for each geography, display map of state / county (depending on geography) with selected geography highlighted\n",
    "# todo: rename each column with crosswalk info\n",
    "# selected_geography_df = pd.DataFrame()\n",
    "\n",
    "# for table in select_geography_tables_list:\n",
    "#     temp_df = df[df['NAME'] == table]\n",
    "#     selected_geography_df = pd.concat([selected_geography_df, temp_df])\n",
    "#     \n",
    "# # renames table column names with data from crosswalk database\n",
    "# for series_name in selected_geography_df.columns:\n",
    "#     if crosswalk_df['name'].str.contains(series_name).any():\n",
    "#         # if the crosswalk contains the name of the DataFrame column (i.e., for any data column as opposed to names, descriptors, etc. ) replace table name based on key to one based on descriptor, then strip spaces, punctuation, etc. and replace with underscores for easier data manipulation and normalization, then convert from Series object to int dtype\n",
    "#         new_label = str(crosswalk_df[crosswalk_df['name'].str.startswith(series_name)][['concept', 'label']].values)\n",
    "#         new_label = new_label.replace('[', '').replace(']', '').replace('\\' \\'', '__').replace(' ', '_').replace('\\'', '').replace('!!', '_').replace(':', '').replace('\\n', '').lower()\n",
    "#         try:\n",
    "#             if series_name != 'ucgid':\n",
    "#                 selected_geography_df.rename(columns={series_name: new_label + '::' + series_name}, inplace=True, errors='raise')\n",
    "#                 selected_geography_df.rename(columns={series_name: new_label}, inplace=True, errors='raise')\n",
    "#                 selected_geography_df = selected_geography_df.astype({series_name: 'int'})\n",
    "#         except (TypeError, ValueError, KeyError):\n",
    "#             pass\n",
    "#     elif series_name == 'NAME':\n",
    "#         selected_geography_df.rename(columns={series_name: str(series_name).lower()}, inplace=True, errors='raise')"
   ],
   "id": "bfca899de49421a4"
  }
 ],
 "metadata": {
  "kernelspec": {
   "display_name": "Python 3",
   "language": "python",
   "name": "python3"
  },
  "language_info": {
   "codemirror_mode": {
    "name": "ipython",
    "version": 2
   },
   "file_extension": ".py",
   "mimetype": "text/x-python",
   "name": "python",
   "nbconvert_exporter": "python",
   "pygments_lexer": "ipython2",
   "version": "2.7.6"
  }
 },
 "nbformat": 4,
 "nbformat_minor": 5
}
