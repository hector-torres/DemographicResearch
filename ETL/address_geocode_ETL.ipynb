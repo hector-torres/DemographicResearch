{
 "cells": [
  {
   "metadata": {},
   "cell_type": "markdown",
   "source": [
    "# Address Geocode ETL\n",
    "\n",
    "This notebook connects to our databases, extracts address and like data, and then passes them through third-party geocoding services in order to extract geometry data \n",
    "that can be used for geospatial analysis. \n",
    "\n",
    "\n",
    "Geocoding details:\n",
    "- MapBox API Pricing\n",
    "    - https://www.mapbox.com/pricing#temporary-geocoding-api\n",
    "| Monthly requests       | Cost per 1,000 (as of Nov 2024) |\n",
    "|------------------------|----------------------------|\n",
    "| Up to 100,000          | Free                       |\n",
    "| 100,001 to 500,000     | \\$0.75                     |\n",
    "| 500,001 to 1,000,000   | \\$0.60                     |\n",
    "| 1,000,001 to 4,999,999 | \\$0.45                     |\n",
    "| 5,000,000+             | Contact sales for discount |"
   ],
   "id": "cca3c005a7825856"
  },
  {
   "metadata": {},
   "cell_type": "markdown",
   "source": "## User Input",
   "id": "154e5800f4f948e1"
  },
  {
   "metadata": {
    "ExecuteTime": {
     "end_time": "2024-11-13T02:52:25.723809Z",
     "start_time": "2024-11-13T02:52:25.268630Z"
    }
   },
   "cell_type": "code",
   "source": [
    "import pandas as pd\n",
    "import ipywidgets as widgets\n",
    "import os\n",
    "import sqlalchemy\n",
    "from sqlalchemy import inspect\n",
    "from dotenv import load_dotenv\n",
    "from tqdm import tqdm\n",
    "from datetime import datetime\n",
    "from functools import partial\n",
    "from geopy.extra.rate_limiter import RateLimiter\n",
    "from geopy.geocoders import MapBox\n",
    "from shapely import wkt\n",
    "from sqlalchemy import text"
   ],
   "id": "6ed1447c61adf0e7",
   "outputs": [],
   "execution_count": 1
  },
  {
   "metadata": {},
   "cell_type": "markdown",
   "source": [
    "### Database Schema Selection\n",
    "\n",
    "Select the database schema."
   ],
   "id": "ad28629a2676c88b"
  },
  {
   "metadata": {
    "ExecuteTime": {
     "end_time": "2024-11-13T02:52:27.554100Z",
     "start_time": "2024-11-13T02:52:27.542587Z"
    }
   },
   "cell_type": "code",
   "source": [
    "database_dirpath = os.path.join('..', 'data', 'databases')\n",
    "database_schemas = []\n",
    "for r, d, f in os.walk(database_dirpath):\n",
    "    for file in f:\n",
    "        if file.endswith('.db'):\n",
    "            path = os.path.join(r, file)\n",
    "            database_schemas.append(path)\n",
    "\n",
    "    \n",
    "selected_database_schema = widgets.Dropdown(\n",
    "    options = database_schemas,\n",
    "    disabled=False,\n",
    "    layout=widgets.Layout(width='max-content'),\n",
    ")\n",
    "selected_database_schema"
   ],
   "id": "f471721bd7bb8b13",
   "outputs": [
    {
     "data": {
      "text/plain": [
       "Dropdown(layout=Layout(width='max-content'), options=('../data/databases/census_bureau/census_acsse_2022_count…"
      ],
      "application/vnd.jupyter.widget-view+json": {
       "version_major": 2,
       "version_minor": 0,
       "model_id": "5c813d56cc5c4e73a8ab693060f349a3"
      }
     },
     "execution_count": 2,
     "metadata": {},
     "output_type": "execute_result"
    }
   ],
   "execution_count": 2
  },
  {
   "metadata": {},
   "cell_type": "markdown",
   "source": "### Database Table Selection",
   "id": "b8a710e693d687f9"
  },
  {
   "metadata": {
    "ExecuteTime": {
     "end_time": "2024-11-13T02:52:34.239534Z",
     "start_time": "2024-11-13T02:52:34.198365Z"
    }
   },
   "cell_type": "code",
   "source": [
    "sql_engine = sqlalchemy.create_engine('sqlite:///' + selected_database_schema.value)\n",
    "insp = inspect(sql_engine)\n",
    "\n",
    "selected_database_table = widgets.Dropdown(\n",
    "    options = insp.get_table_names(),\n",
    "    disabled=False,\n",
    "    layout=widgets.Layout(width='max-content'),\n",
    ")\n",
    "selected_database_table"
   ],
   "id": "e167fa87acee8d9b",
   "outputs": [
    {
     "data": {
      "text/plain": [
       "Dropdown(layout=Layout(width='max-content'), options=('general_2024', 'general_2024_geocoded'), value='general…"
      ],
      "application/vnd.jupyter.widget-view+json": {
       "version_major": 2,
       "version_minor": 0,
       "model_id": "bf02296aeb7444fcb1b83e7df4b852b6"
      }
     },
     "execution_count": 3,
     "metadata": {},
     "output_type": "execute_result"
    }
   ],
   "execution_count": 3
  },
  {
   "metadata": {},
   "cell_type": "markdown",
   "source": "### Database Column Selection",
   "id": "4fea2f8e3d915962"
  },
  {
   "metadata": {
    "ExecuteTime": {
     "end_time": "2024-11-13T02:55:53.432959Z",
     "start_time": "2024-11-13T02:55:46.977387Z"
    }
   },
   "cell_type": "code",
   "source": [
    "df = pd.read_sql_table(selected_database_table.value, sql_engine)\n",
    "df.shape  # 879630"
   ],
   "id": "fa24026f64d9a14b",
   "outputs": [
    {
     "data": {
      "text/plain": [
       "(879532, 34)"
      ]
     },
     "execution_count": 23,
     "metadata": {},
     "output_type": "execute_result"
    }
   ],
   "execution_count": 23
  },
  {
   "metadata": {},
   "cell_type": "markdown",
   "source": "View the dataframe head above and select the column to be geocoded from the dropdown below.",
   "id": "a818a6b7ea46935"
  },
  {
   "metadata": {
    "ExecuteTime": {
     "end_time": "2024-11-13T02:54:30.567598Z",
     "start_time": "2024-11-13T02:54:30.555303Z"
    }
   },
   "cell_type": "code",
   "source": [
    "columns = df.columns.tolist()\n",
    "selected_database_column = widgets.Dropdown(\n",
    "    options = columns,\n",
    "    disabled=False,\n",
    "    layout=widgets.Layout(width='max-content'),\n",
    ")\n",
    "selected_database_column"
   ],
   "id": "ed7a0a73e04aa45d",
   "outputs": [
    {
     "data": {
      "text/plain": [
       "Dropdown(layout=Layout(width='max-content'), options=('index', 'county_code', 'precinct', 'vuid', 'last_name',…"
      ],
      "application/vnd.jupyter.widget-view+json": {
       "version_major": 2,
       "version_minor": 0,
       "model_id": "0577480317b34ebea37cf251dbc4007a"
      }
     },
     "execution_count": 11,
     "metadata": {},
     "output_type": "execute_result"
    }
   ],
   "execution_count": 11
  },
  {
   "metadata": {},
   "cell_type": "markdown",
   "source": "## Extract",
   "id": "b87175cb6cdc8fd8"
  },
  {
   "metadata": {
    "ExecuteTime": {
     "end_time": "2024-11-13T02:54:38.307454Z",
     "start_time": "2024-11-13T02:54:37.097466Z"
    }
   },
   "cell_type": "code",
   "source": [
    "# select only rows without geometry data (create geometry column if none exists)\n",
    "if 'geometry' in df.columns:\n",
    "    missing_geometries = df[df['geometry'].eq('')]\n",
    "else:\n",
    "    df['geometry'] = ''\n",
    "    missing_geometries = df['geometry']\n",
    "\n",
    "len(df[df['geometry'] == '']) # 879630"
   ],
   "id": "190c4650ce82339f",
   "outputs": [
    {
     "data": {
      "text/plain": [
       "879630"
      ]
     },
     "execution_count": 12,
     "metadata": {},
     "output_type": "execute_result"
    }
   ],
   "execution_count": 12
  },
  {
   "metadata": {
    "ExecuteTime": {
     "end_time": "2024-11-13T02:55:08.758987Z",
     "start_time": "2024-11-13T02:55:07.337824Z"
    }
   },
   "cell_type": "code",
   "source": [
    "# select only rows without geometry data (create geometry column if none exists)\n",
    "if 'last_updated' in df.columns:\n",
    "    last_updated = df[df['last_updated'].eq('')]\n",
    "else:\n",
    "    df['last_updated'] = ''\n",
    "    last_updated = df['last_updated']\n",
    "\n",
    "len(df[df['last_updated'] == '']) # 879287"
   ],
   "id": "188d44f997a6ed54",
   "outputs": [
    {
     "data": {
      "text/plain": [
       "879630"
      ]
     },
     "execution_count": 13,
     "metadata": {},
     "output_type": "execute_result"
    }
   ],
   "execution_count": 13
  },
  {
   "metadata": {
    "ExecuteTime": {
     "end_time": "2024-11-13T02:55:11.310044Z",
     "start_time": "2024-11-13T02:55:10.360413Z"
    }
   },
   "cell_type": "code",
   "source": [
    "# subset dataframe to keep within API limits \n",
    "df = df[df['geometry'].eq('')][-99:]\n",
    "df.shape"
   ],
   "id": "b044e804ef0b87d4",
   "outputs": [
    {
     "data": {
      "text/plain": [
       "(99, 36)"
      ]
     },
     "execution_count": 14,
     "metadata": {},
     "output_type": "execute_result"
    }
   ],
   "execution_count": 14
  },
  {
   "metadata": {},
   "cell_type": "markdown",
   "source": "## Transform",
   "id": "b082965cdcd33b30"
  },
  {
   "metadata": {
    "ExecuteTime": {
     "end_time": "2024-11-13T02:55:19.742839Z",
     "start_time": "2024-11-13T02:55:13.079134Z"
    }
   },
   "cell_type": "code",
   "source": [
    "# API key string, or import from .env file\n",
    "load_dotenv()\n",
    "api_key = os.getenv('mapbox_access_token')\n",
    "\n",
    "# initializes geocoder class using Mapbox as source\n",
    "geolocator = MapBox(api_key=api_key)\n",
    "geocode = RateLimiter(geolocator.geocode)\n",
    "# creates progress bar\n",
    "tqdm.pandas()\n",
    "\n",
    "# begin geocoding selected rows\n",
    "df['location'] = df[selected_database_column.value].progress_apply(partial(geocode, exactly_one=True))"
   ],
   "id": "68747b0f253c4aa1",
   "outputs": [
    {
     "name": "stderr",
     "output_type": "stream",
     "text": [
      "100%|██████████| 99/99 [00:06<00:00, 14.97it/s]\n"
     ]
    }
   ],
   "execution_count": 15
  },
  {
   "metadata": {
    "ExecuteTime": {
     "end_time": "2024-11-13T02:55:21.628681Z",
     "start_time": "2024-11-13T02:55:21.127135Z"
    }
   },
   "cell_type": "code",
   "source": [
    "# removes PERM ADDRESS column since location data is stored in new `location` column\n",
    "df = df.drop(['perm_address'], axis=1)\n",
    "\n",
    "# creates column that contains only latitude and longitude data for geospatial analysis\n",
    "df['geometry'] = df['location'].apply(lambda loc: (loc.latitude, loc.longitude) if loc else None)\n",
    "\n",
    "# adds string `POINT` to `geometry` field to fulfil geodataframe requirements\n",
    "df['geometry'] = 'POINT ' + df['geometry'].astype(str)\n",
    "\n",
    "# replaces extraneous commas in field\n",
    "df['geometry'] = df['geometry'].str.replace(',', '')\n",
    "\n",
    "# converts `geometry` field to geometry field\n",
    "df['geometry'] = df['geometry'].apply(wkt.loads)\n",
    "\n",
    "# removes extraneous data from `location` (validated address) field\n",
    "df['location'] = df['location'].apply(lambda loc: loc[0])\n",
    "\n",
    "# adds update timestamp\n",
    "df['last_updated'] = datetime.now()\n",
    "\n",
    "# transforms all fields to str in order to write data to SQLite\n",
    "df = df.astype(str)\n",
    "\n",
    "df = df.rename({'index': 'id'}, axis='columns')"
   ],
   "id": "3e356eb31d30adf6",
   "outputs": [],
   "execution_count": 16
  },
  {
   "metadata": {},
   "cell_type": "markdown",
   "source": [
    "### Load\n",
    "Loads dataframe data into new database table"
   ],
   "id": "f882938e57ead811"
  },
  {
   "metadata": {
    "ExecuteTime": {
     "end_time": "2024-11-13T02:55:27.807523Z",
     "start_time": "2024-11-13T02:55:27.790783Z"
    }
   },
   "cell_type": "code",
   "source": "df.to_sql(f'{selected_database_table.value}_geocoded', sql_engine, if_exists='append', index=True)",
   "id": "1732b32fd59e86a",
   "outputs": [
    {
     "data": {
      "text/plain": [
       "99"
      ]
     },
     "execution_count": 17,
     "metadata": {},
     "output_type": "execute_result"
    }
   ],
   "execution_count": 17
  },
  {
   "metadata": {},
   "cell_type": "markdown",
   "source": [
    "### Post-ETL\n",
    "Clean up original database by deleting rows that are in geocoded database from original database."
   ],
   "id": "d978a601b373e653"
  },
  {
   "metadata": {
    "ExecuteTime": {
     "end_time": "2024-11-13T02:55:29.798922Z",
     "start_time": "2024-11-13T02:55:29.796848Z"
    }
   },
   "cell_type": "code",
   "source": "count_duplicate_sql = text('SELECT id from {}'.format(f'{selected_database_table.value}_geocoded'))",
   "id": "caa6c36bbd0cd9ce",
   "outputs": [],
   "execution_count": 18
  },
  {
   "metadata": {
    "ExecuteTime": {
     "end_time": "2024-11-13T02:55:30.630401Z",
     "start_time": "2024-11-13T02:55:30.623950Z"
    }
   },
   "cell_type": "code",
   "source": [
    "with sql_engine.connect() as conn:\n",
    "    trans = conn.begin()\n",
    "    try:\n",
    "        cursor = conn.execute(count_duplicate_sql)\n",
    "        result = cursor.mappings().fetchall()\n",
    "        trans.commit()\n",
    "    except:\n",
    "        trans.rollback()\n",
    "        raise "
   ],
   "id": "f98b875fe6a7343",
   "outputs": [],
   "execution_count": 19
  },
  {
   "metadata": {
    "ExecuteTime": {
     "end_time": "2024-11-13T02:55:31.496487Z",
     "start_time": "2024-11-13T02:55:31.494136Z"
    }
   },
   "cell_type": "code",
   "source": [
    "database_ids_list = []\n",
    "for item in result:\n",
    "    for key, value in item.items():\n",
    "        database_ids_list.append(value)\n",
    "        \n",
    "database_ids = ', '.join(database_ids_list)"
   ],
   "id": "2b47d933267a0fc7",
   "outputs": [],
   "execution_count": 20
  },
  {
   "metadata": {
    "ExecuteTime": {
     "end_time": "2024-11-13T02:55:32.734490Z",
     "start_time": "2024-11-13T02:55:32.730586Z"
    }
   },
   "cell_type": "code",
   "source": "delete_duplicate_sql = text('DELETE from {} WHERE rowid IN ({})'.format(f'{selected_database_table.value}', database_ids))",
   "id": "bb763f0ad08b1fcd",
   "outputs": [],
   "execution_count": 21
  },
  {
   "metadata": {
    "ExecuteTime": {
     "end_time": "2024-11-13T02:55:34.069372Z",
     "start_time": "2024-11-13T02:55:34.064014Z"
    }
   },
   "cell_type": "code",
   "source": [
    "with sql_engine.connect() as conn:\n",
    "    trans = conn.begin()\n",
    "    try:\n",
    "        cursor = conn.execute(delete_duplicate_sql)\n",
    "        result = cursor\n",
    "        trans.commit()\n",
    "    except:\n",
    "        trans.rollback()\n",
    "        raise "
   ],
   "id": "5961b33d1e8d7ad8",
   "outputs": [],
   "execution_count": 22
  }
 ],
 "metadata": {
  "kernelspec": {
   "display_name": "Python 3",
   "language": "python",
   "name": "python3"
  },
  "language_info": {
   "codemirror_mode": {
    "name": "ipython",
    "version": 2
   },
   "file_extension": ".py",
   "mimetype": "text/x-python",
   "name": "python",
   "nbconvert_exporter": "python",
   "pygments_lexer": "ipython2",
   "version": "2.7.6"
  }
 },
 "nbformat": 4,
 "nbformat_minor": 5
}
