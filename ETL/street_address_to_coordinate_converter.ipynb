{
 "cells": [
  {
   "metadata": {},
   "cell_type": "markdown",
   "source": [
    "# Address Geocode ETL\n",
    "\n",
    "This notebook connects to our databases, extracts address and like data, and then passes them through third-party geocoding services in order to extract geometry data that can be used for geospatial analysis. \n",
    "\n",
    "Remaining API calls can be found at https://account.mapbox.com.\n",
    "\n",
    "\n",
    "Geocoding details:\n",
    "- MapBox API Pricing\n",
    "    - https://www.mapbox.com/pricing#temporary-geocoding-api\n",
    "| Monthly requests       | Cost per 1,000 (as of Nov 2024) |\n",
    "|------------------------|----------------------------|\n",
    "| Up to 100,000          | Free                       |\n",
    "| 100,001 to 500,000     | \\$0.75                     |\n",
    "| 500,001 to 1,000,000   | \\$0.60                     |\n",
    "| 1,000,001 to 4,999,999 | \\$0.45                     |\n",
    "| 5,000,000+             | Contact sales for discount |"
   ],
   "id": "cca3c005a7825856"
  },
  {
   "metadata": {},
   "cell_type": "markdown",
   "source": "## User Input",
   "id": "154e5800f4f948e1"
  },
  {
   "metadata": {
    "ExecuteTime": {
     "end_time": "2024-12-01T01:20:05.321931Z",
     "start_time": "2024-12-01T01:20:04.922555Z"
    }
   },
   "cell_type": "code",
   "source": [
    "import pandas as pd\n",
    "import ipywidgets as widgets\n",
    "import os\n",
    "import sqlalchemy\n",
    "from sqlalchemy import inspect\n",
    "from dotenv import load_dotenv\n",
    "from tqdm import tqdm\n",
    "from datetime import datetime\n",
    "from functools import partial\n",
    "from geopy.extra.rate_limiter import RateLimiter\n",
    "from geopy.geocoders import MapBox\n",
    "from shapely import wkt\n",
    "from sqlalchemy import text"
   ],
   "id": "6ed1447c61adf0e7",
   "outputs": [],
   "execution_count": 1
  },
  {
   "metadata": {},
   "cell_type": "markdown",
   "source": "### Number of rows to geocode (check API calls remaining)",
   "id": "1b0a6ed724b148d6"
  },
  {
   "metadata": {
    "ExecuteTime": {
     "end_time": "2024-12-01T01:20:18.611543Z",
     "start_time": "2024-12-01T01:20:18.608119Z"
    }
   },
   "cell_type": "code",
   "source": [
    "# max free tier API calls is 100,000\n",
    "number_of_api_calls = 100000"
   ],
   "id": "efb661256211d027",
   "outputs": [],
   "execution_count": 2
  },
  {
   "metadata": {},
   "cell_type": "markdown",
   "source": [
    "### Database Schema Selection\n",
    "\n",
    "Select the database schema."
   ],
   "id": "ad28629a2676c88b"
  },
  {
   "metadata": {
    "ExecuteTime": {
     "end_time": "2024-12-01T01:20:20.940254Z",
     "start_time": "2024-12-01T01:20:20.931248Z"
    }
   },
   "cell_type": "code",
   "source": [
    "database_dirpath = os.path.join('..', 'data', 'databases')\n",
    "database_schemas = []\n",
    "for r, d, f in os.walk(database_dirpath):\n",
    "    for file in f:\n",
    "        if file.endswith('.db'):\n",
    "            path = os.path.join(r, file)\n",
    "            database_schemas.append(path)\n",
    "\n",
    "    \n",
    "selected_database_schema = widgets.Dropdown(\n",
    "    options = database_schemas,\n",
    "    disabled=False,\n",
    "    layout=widgets.Layout(width='max-content'),\n",
    ")\n",
    "selected_database_schema"
   ],
   "id": "f471721bd7bb8b13",
   "outputs": [
    {
     "data": {
      "text/plain": [
       "Dropdown(layout=Layout(width='max-content'), options=('../data/databases/census_bureau/census_acsse_2022_count…"
      ],
      "application/vnd.jupyter.widget-view+json": {
       "version_major": 2,
       "version_minor": 0,
       "model_id": "ffb9a33fcc5541deac2decf6cc799c93"
      }
     },
     "execution_count": 3,
     "metadata": {},
     "output_type": "execute_result"
    }
   ],
   "execution_count": 3
  },
  {
   "metadata": {},
   "cell_type": "markdown",
   "source": "### Database Table Selection",
   "id": "b8a710e693d687f9"
  },
  {
   "metadata": {
    "ExecuteTime": {
     "end_time": "2024-12-01T01:20:41.310134Z",
     "start_time": "2024-12-01T01:20:41.302026Z"
    }
   },
   "cell_type": "code",
   "source": [
    "sql_engine = sqlalchemy.create_engine('sqlite:///' + selected_database_schema.value)\n",
    "insp = inspect(sql_engine)\n",
    "\n",
    "selected_database_table = widgets.Dropdown(\n",
    "    options = insp.get_table_names(),\n",
    "    disabled=False,\n",
    "    layout=widgets.Layout(width='max-content'),\n",
    ")\n",
    "selected_database_table"
   ],
   "id": "e167fa87acee8d9b",
   "outputs": [
    {
     "data": {
      "text/plain": [
       "Dropdown(layout=Layout(width='max-content'), options=('general_2024', 'general_2024_geocoded'), value='general…"
      ],
      "application/vnd.jupyter.widget-view+json": {
       "version_major": 2,
       "version_minor": 0,
       "model_id": "b601185b937f412686c2b4445e32c01f"
      }
     },
     "execution_count": 5,
     "metadata": {},
     "output_type": "execute_result"
    }
   ],
   "execution_count": 5
  },
  {
   "metadata": {},
   "cell_type": "markdown",
   "source": "### Database Column Selection",
   "id": "4fea2f8e3d915962"
  },
  {
   "metadata": {
    "ExecuteTime": {
     "end_time": "2024-12-01T01:20:51.118714Z",
     "start_time": "2024-12-01T01:20:44.689214Z"
    }
   },
   "cell_type": "code",
   "source": [
    "df = pd.read_sql_table(selected_database_table.value, sql_engine)\n",
    "df.shape  # 879532"
   ],
   "id": "fa24026f64d9a14b",
   "outputs": [
    {
     "data": {
      "text/plain": [
       "(878533, 34)"
      ]
     },
     "execution_count": 6,
     "metadata": {},
     "output_type": "execute_result"
    }
   ],
   "execution_count": 6
  },
  {
   "metadata": {},
   "cell_type": "markdown",
   "source": "View the dataframe head above and select the column to be geocoded from the dropdown below.",
   "id": "a818a6b7ea46935"
  },
  {
   "metadata": {
    "ExecuteTime": {
     "end_time": "2024-12-01T01:21:01.507489Z",
     "start_time": "2024-12-01T01:21:01.501831Z"
    }
   },
   "cell_type": "code",
   "source": [
    "columns = df.columns.tolist()\n",
    "selected_database_column = widgets.Dropdown(\n",
    "    options = columns,\n",
    "    disabled=False,\n",
    "    layout=widgets.Layout(width='max-content'),\n",
    ")\n",
    "selected_database_column"
   ],
   "id": "ed7a0a73e04aa45d",
   "outputs": [
    {
     "data": {
      "text/plain": [
       "Dropdown(layout=Layout(width='max-content'), options=('index', 'county_code', 'precinct', 'vuid', 'last_name',…"
      ],
      "application/vnd.jupyter.widget-view+json": {
       "version_major": 2,
       "version_minor": 0,
       "model_id": "590194c4d050451284c693d7c1b60cfe"
      }
     },
     "execution_count": 7,
     "metadata": {},
     "output_type": "execute_result"
    }
   ],
   "execution_count": 7
  },
  {
   "metadata": {},
   "cell_type": "markdown",
   "source": "## Extract",
   "id": "b87175cb6cdc8fd8"
  },
  {
   "metadata": {
    "ExecuteTime": {
     "end_time": "2024-12-01T01:21:15.519816Z",
     "start_time": "2024-12-01T01:21:14.564011Z"
    }
   },
   "cell_type": "code",
   "source": [
    "# select only rows without geometry data (create geometry column if none exists)\n",
    "if 'geometry' in df.columns:\n",
    "    missing_geometries = df[df['geometry'].eq('')]\n",
    "else:\n",
    "    df['geometry'] = ''\n",
    "    missing_geometries = df['geometry']\n",
    "\n",
    "non_geocoded_db_original_size = len(df[df['geometry'] == '']) # 879630\n",
    "non_geocoded_db_original_size"
   ],
   "id": "190c4650ce82339f",
   "outputs": [
    {
     "data": {
      "text/plain": [
       "878533"
      ]
     },
     "execution_count": 8,
     "metadata": {},
     "output_type": "execute_result"
    }
   ],
   "execution_count": 8
  },
  {
   "metadata": {
    "ExecuteTime": {
     "end_time": "2024-12-01T01:21:18.892311Z",
     "start_time": "2024-12-01T01:21:17.984447Z"
    }
   },
   "cell_type": "code",
   "source": [
    "# select only rows without geometry data (create geometry column if none exists)\n",
    "if 'last_updated' in df.columns:\n",
    "    last_updated = df[df['last_updated'].eq('')]\n",
    "else:\n",
    "    df['last_updated'] = ''\n",
    "    last_updated = df['last_updated']\n",
    "\n",
    "len(df[df['last_updated'] == '']) # 879287"
   ],
   "id": "188d44f997a6ed54",
   "outputs": [
    {
     "data": {
      "text/plain": [
       "878533"
      ]
     },
     "execution_count": 9,
     "metadata": {},
     "output_type": "execute_result"
    }
   ],
   "execution_count": 9
  },
  {
   "metadata": {},
   "cell_type": "markdown",
   "source": "Dataframe size should match the number of user-set API calls remaining, set in the first cell of this notebook. ",
   "id": "2bf4d23456411b35"
  },
  {
   "metadata": {
    "ExecuteTime": {
     "end_time": "2024-12-01T01:21:22.096738Z",
     "start_time": "2024-12-01T01:21:21.217864Z"
    }
   },
   "cell_type": "code",
   "source": [
    "# subset dataframe to keep within API limits \n",
    "df = df[df['geometry'].eq('')][:number_of_api_calls:]\n",
    "df.shape"
   ],
   "id": "b044e804ef0b87d4",
   "outputs": [
    {
     "data": {
      "text/plain": [
       "(100000, 36)"
      ]
     },
     "execution_count": 10,
     "metadata": {},
     "output_type": "execute_result"
    }
   ],
   "execution_count": 10
  },
  {
   "metadata": {},
   "cell_type": "markdown",
   "source": "## Transform",
   "id": "b082965cdcd33b30"
  },
  {
   "metadata": {
    "ExecuteTime": {
     "end_time": "2024-12-01T07:45:00.813296Z",
     "start_time": "2024-12-01T01:21:30.537711Z"
    }
   },
   "cell_type": "code",
   "source": [
    "# API key string, or import from .env file\n",
    "load_dotenv()\n",
    "api_key = os.getenv('mapbox_access_token')\n",
    "\n",
    "# initializes geocoder class using Mapbox as source\n",
    "geolocator = MapBox(api_key=api_key)\n",
    "geocode = RateLimiter(geolocator.geocode)\n",
    "# creates progress bar\n",
    "tqdm.pandas()\n",
    "\n",
    "# begin geocoding selected rows\n",
    "df['location'] = df[selected_database_column.value].progress_apply(partial(geocode, exactly_one=True))"
   ],
   "id": "68747b0f253c4aa1",
   "outputs": [
    {
     "name": "stderr",
     "output_type": "stream",
     "text": [
      "100%|██████████| 100000/100000 [6:23:30<00:00,  4.35it/s]     \n"
     ]
    }
   ],
   "execution_count": 11
  },
  {
   "metadata": {
    "ExecuteTime": {
     "end_time": "2024-12-01T13:10:04.850943Z",
     "start_time": "2024-12-01T13:10:02.676958Z"
    }
   },
   "cell_type": "code",
   "source": [
    "# removes PERM ADDRESS column since location data is stored in new `location` column\n",
    "df = df.drop(['perm_address'], axis=1)\n",
    "\n",
    "# creates column that contains only latitude and longitude data for geospatial analysis\n",
    "df['geometry'] = df['location'].apply(lambda loc: (loc.latitude, loc.longitude) if loc else None)\n",
    "\n",
    "# adds string `POINT` to `geometry` field to fulfil geodataframe requirements\n",
    "df['geometry'] = 'POINT ' + df['geometry'].astype(str)\n",
    "\n",
    "# replaces extraneous commas in field\n",
    "df['geometry'] = df['geometry'].str.replace(',', '')\n",
    "\n",
    "# converts `geometry` field to geometry field\n",
    "df['geometry'] = df['geometry'].apply(wkt.loads)\n",
    "\n",
    "# removes extraneous data from `location` (validated address) field\n",
    "df['location'] = df['location'].apply(lambda loc: loc[0])\n",
    "\n",
    "# adds update timestamp\n",
    "df['last_updated'] = datetime.now()\n",
    "\n",
    "# transforms all fields to str in order to write data to SQLite\n",
    "df = df.astype(str)\n",
    "\n",
    "df = df.rename({'index': 'id'}, axis='columns')"
   ],
   "id": "3e356eb31d30adf6",
   "outputs": [],
   "execution_count": 12
  },
  {
   "metadata": {},
   "cell_type": "markdown",
   "source": [
    "### Load\n",
    "Loads dataframe data into new database table"
   ],
   "id": "f882938e57ead811"
  },
  {
   "metadata": {
    "ExecuteTime": {
     "end_time": "2024-12-01T13:10:12.327647Z",
     "start_time": "2024-12-01T13:10:10.601165Z"
    }
   },
   "cell_type": "code",
   "source": "df.to_sql(f'{selected_database_table.value}_geocoded', sql_engine, if_exists='append', index=True)",
   "id": "1732b32fd59e86a",
   "outputs": [
    {
     "data": {
      "text/plain": [
       "100000"
      ]
     },
     "execution_count": 13,
     "metadata": {},
     "output_type": "execute_result"
    }
   ],
   "execution_count": 13
  },
  {
   "metadata": {},
   "cell_type": "markdown",
   "source": [
    "### Post-ETL\n",
    "Clean up original database by deleting rows that are in geocoded database from original database."
   ],
   "id": "d978a601b373e653"
  },
  {
   "metadata": {
    "ExecuteTime": {
     "end_time": "2024-12-01T13:10:16.531799Z",
     "start_time": "2024-12-01T13:10:16.529188Z"
    }
   },
   "cell_type": "code",
   "source": "count_duplicate_sql = text('SELECT id from {}'.format(f'{selected_database_table.value}_geocoded'))",
   "id": "caa6c36bbd0cd9ce",
   "outputs": [],
   "execution_count": 14
  },
  {
   "metadata": {
    "ExecuteTime": {
     "end_time": "2024-12-01T13:10:17.781932Z",
     "start_time": "2024-12-01T13:10:17.656822Z"
    }
   },
   "cell_type": "code",
   "source": [
    "with sql_engine.connect() as conn:\n",
    "    trans = conn.begin()\n",
    "    try:\n",
    "        cursor = conn.execute(count_duplicate_sql)\n",
    "        result = cursor.mappings().fetchall()\n",
    "        trans.commit()\n",
    "    except:\n",
    "        trans.rollback()\n",
    "        raise "
   ],
   "id": "f98b875fe6a7343",
   "outputs": [],
   "execution_count": 15
  },
  {
   "metadata": {
    "ExecuteTime": {
     "end_time": "2024-12-01T13:10:18.773722Z",
     "start_time": "2024-12-01T13:10:18.666789Z"
    }
   },
   "cell_type": "code",
   "source": [
    "database_ids_list = []\n",
    "for item in result:\n",
    "    for key, value in item.items():\n",
    "        database_ids_list.append(value)\n",
    "        \n",
    "database_ids = ', '.join(database_ids_list)"
   ],
   "id": "2b47d933267a0fc7",
   "outputs": [],
   "execution_count": 16
  },
  {
   "metadata": {
    "ExecuteTime": {
     "end_time": "2024-12-01T13:10:21.058447Z",
     "start_time": "2024-12-01T13:10:21.031640Z"
    }
   },
   "cell_type": "code",
   "source": "delete_duplicate_sql = text('DELETE from {} WHERE rowid IN ({})'.format(f'{selected_database_table.value}', database_ids))",
   "id": "bb763f0ad08b1fcd",
   "outputs": [],
   "execution_count": 17
  },
  {
   "metadata": {
    "ExecuteTime": {
     "end_time": "2024-12-01T13:10:22.180694Z",
     "start_time": "2024-12-01T13:10:22.006947Z"
    }
   },
   "cell_type": "code",
   "source": [
    "with sql_engine.connect() as conn:\n",
    "    trans = conn.begin()\n",
    "    try:\n",
    "        cursor = conn.execute(delete_duplicate_sql)\n",
    "        result = cursor\n",
    "        trans.commit()\n",
    "    except:\n",
    "        trans.rollback()\n",
    "        raise "
   ],
   "id": "5961b33d1e8d7ad8",
   "outputs": [],
   "execution_count": 18
  },
  {
   "metadata": {
    "ExecuteTime": {
     "end_time": "2024-12-01T13:10:28.764556Z",
     "start_time": "2024-12-01T13:10:23.047579Z"
    }
   },
   "cell_type": "code",
   "source": [
    "df = pd.read_sql_table(selected_database_table.value, sql_engine)\n",
    "non_geocoded_db_new_size = df.shape[0]\n",
    "non_geocoded_db_new_size"
   ],
   "id": "68b25e510bd02688",
   "outputs": [
    {
     "data": {
      "text/plain": [
       "778534"
      ]
     },
     "execution_count": 19,
     "metadata": {},
     "output_type": "execute_result"
    }
   ],
   "execution_count": 19
  },
  {
   "metadata": {
    "ExecuteTime": {
     "end_time": "2024-12-01T13:10:28.843195Z",
     "start_time": "2024-12-01T13:10:28.840894Z"
    }
   },
   "cell_type": "code",
   "source": [
    "non_geocoded_db_size_delta = non_geocoded_db_original_size -  non_geocoded_db_new_size\n",
    "if non_geocoded_db_size_delta != number_of_api_calls:\n",
    "    print(f'non-geocoded database size mismatch: delta of {number_of_api_calls - non_geocoded_db_size_delta}')\n",
    "else:\n",
    "    print('successful non-geocoded database deletes')"
   ],
   "id": "141cf025663c770b",
   "outputs": [
    {
     "name": "stdout",
     "output_type": "stream",
     "text": [
      "non-geocoded database size mismatch: delta of 1\n"
     ]
    }
   ],
   "execution_count": 20
  }
 ],
 "metadata": {
  "kernelspec": {
   "display_name": "Python 3",
   "language": "python",
   "name": "python3"
  },
  "language_info": {
   "codemirror_mode": {
    "name": "ipython",
    "version": 2
   },
   "file_extension": ".py",
   "mimetype": "text/x-python",
   "name": "python",
   "nbconvert_exporter": "python",
   "pygments_lexer": "ipython2",
   "version": "2.7.6"
  }
 },
 "nbformat": 4,
 "nbformat_minor": 5
}
