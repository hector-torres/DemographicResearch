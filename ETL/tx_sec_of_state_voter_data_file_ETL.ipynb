{
 "cells": [
  {
   "metadata": {},
   "cell_type": "markdown",
   "source": [
    "# Texas Secretary of State Voter Data File ETL\n",
    "\n",
    "This notebook extracts voter data from flat files provided by the Texas Secretary of State office, and loads into a database schema for further transformation and analysis.\n",
    "\n",
    "\n"
   ],
   "id": "ecdd32ce3a863a4c"
  },
  {
   "metadata": {
    "ExecuteTime": {
     "end_time": "2024-11-11T21:37:40.228226Z",
     "start_time": "2024-11-11T21:37:40.222240Z"
    }
   },
   "cell_type": "code",
   "source": [
    "# user data\n",
    "year = '2024'\n",
    "election = 'general'"
   ],
   "id": "b107080bffb18cf2",
   "outputs": [],
   "execution_count": 1
  },
  {
   "metadata": {
    "ExecuteTime": {
     "end_time": "2024-11-11T21:37:40.573884Z",
     "start_time": "2024-11-11T21:37:40.230749Z"
    }
   },
   "cell_type": "code",
   "source": [
    "import os\n",
    "import pandas as pd\n",
    "import sqlalchemy"
   ],
   "id": "c4579bc230da81fc",
   "outputs": [],
   "execution_count": 2
  },
  {
   "metadata": {
    "ExecuteTime": {
     "end_time": "2024-11-11T21:37:40.681808Z",
     "start_time": "2024-11-11T21:37:40.679898Z"
    }
   },
   "cell_type": "code",
   "source": [
    "# file path to dataset\n",
    "# todo: update to real file once data available\n",
    "voter_data_file = os.path.join('..', 'data', 'inputs', 'tx_secretary_of_state', 'mock_data', 'TEST_voter_data_file.xlsx')"
   ],
   "id": "5c4a961d307c7597",
   "outputs": [],
   "execution_count": 3
  },
  {
   "metadata": {
    "ExecuteTime": {
     "end_time": "2024-11-11T21:37:40.689393Z",
     "start_time": "2024-11-11T21:37:40.686328Z"
    }
   },
   "cell_type": "code",
   "source": [
    "# sets the fields for each dataset, pasted from the documentation, as list of lists\n",
    "voter_data_file_fields = [['COUNTY CODE', 1, 3],\n",
    "                          ['PRECINCT', 4, 10],\n",
    "                          ['VUID', 13, 10],\n",
    "                          ['LAST NAME', 23, 50],\n",
    "                          ['FIRST NAME', 73, 50],\n",
    "                          ['MIDDLE NAME', 123, 50],\n",
    "                          ['FORMER LAST NAME', 173, 50],\n",
    "                          ['SUFFIX', 223, 4],\n",
    "                          ['GENDER', 227, 1],\n",
    "                          ['DOB', 228, 8],\n",
    "                          ['PERM HOUSE NUMBER', 236, 9],\n",
    "                          ['PERM DESIGNATOR', 245, 12],\n",
    "                          ['PERM DIRECTIONAL PREFIX', 257, 2],\n",
    "                          ['PERM STREET NAME', 259, 50],\n",
    "                          ['PERM STREET TYPE', 309, 12],\n",
    "                          ['PERM DIRECTIONAL SUFFIX', 321, 2],\n",
    "                          ['PERM UNIT NUMBER', 323, 12],\n",
    "                          ['PERM UNIT TYPE', 335, 12],\n",
    "                          ['PERM CITY', 347, 50],\n",
    "                          ['PERM ZIPCODE', 397, 9],\n",
    "                          ['MAILING ADDRESS 1', 406, 110],\n",
    "                          ['MAILING ADDRESS 2', 516, 50],\n",
    "                          ['MAILING CITY', 566, 50],\n",
    "                          ['MAILING STATE', 616, 20],\n",
    "                          ['MAILING ZIPCODE', 636, 20],\n",
    "                          ['EDR (EFFECTIVE DATE OF REGISTRATION)', 656, 8],\n",
    "                          ['STATUS CODE', 664, 1],\n",
    "                          ['HISPANIC SURNAME FLAG', 665, 1],\n",
    "                          ['ELECTION DATE', 666, 8],\n",
    "                          ['ELECTION TYPE', 674, 2],\n",
    "                          ['ELECTION PARTY', 676, 3],\n",
    "                          ['ELECTION VOTING METHOD', 679, 6]]\n",
    "                          #TOTAL N/A 685"
   ],
   "id": "6a5b97fc4248f30",
   "outputs": [],
   "execution_count": 4
  },
  {
   "metadata": {
    "ExecuteTime": {
     "end_time": "2024-11-11T21:37:40.700829Z",
     "start_time": "2024-11-11T21:37:40.698777Z"
    }
   },
   "cell_type": "code",
   "source": [
    "# creates list of tuples that can be passed to pandas fixed width file parser\n",
    "fixed_width_file_colspec = []\n",
    "for index, field in enumerate(voter_data_file_fields):\n",
    "    # subtract one (1) from initial condition from documentation to match zero index\n",
    "    fixed_width_file_colspec.append((voter_data_file_fields[index][1] - 1,  voter_data_file_fields[index][1] - 1 + voter_data_file_fields[index][2]))"
   ],
   "id": "f06fafc129f8c896",
   "outputs": [],
   "execution_count": 5
  },
  {
   "metadata": {
    "ExecuteTime": {
     "end_time": "2024-11-11T21:38:43.141709Z",
     "start_time": "2024-11-11T21:37:40.710919Z"
    }
   },
   "cell_type": "code",
   "source": [
    "# parses fixed width file\n",
    "# todo: once real file available, replace excel reader with fwf reader\n",
    "# voter_data_file_df = pd.read_fwf(voter_data_file, col=voter_data_file_fields[0][0].to_lower().replace(' ', ''))\n",
    "voter_data_file_df = pd.read_excel(voter_data_file, na_filter=False).astype(str)"
   ],
   "id": "e6177652e9eda304",
   "outputs": [],
   "execution_count": 6
  },
  {
   "metadata": {
    "ExecuteTime": {
     "end_time": "2024-11-11T21:38:45.246037Z",
     "start_time": "2024-11-11T21:38:43.252560Z"
    }
   },
   "cell_type": "code",
   "source": [
    "# aggregates address data from the individual columns\n",
    "voter_data_file_df['PERM ADDRESS'] = voter_data_file_df[['PERM HOUSE NUMBER', 'PERM DESIGNATOR', 'PERM DIRECTIONAL PREFIX', 'PERM STREET NAME', 'PERM STREET TYPE', 'PERM DIRECTIONAL SUFFIX', 'PERM UNIT TYPE', 'PERM UNIT NUMBER', 'PERM CITY', 'PERM ZIPCODE']].agg(' '.join, axis=1)"
   ],
   "id": "ebeeca350620b24a",
   "outputs": [],
   "execution_count": 7
  },
  {
   "metadata": {
    "ExecuteTime": {
     "end_time": "2024-11-11T21:38:54.787577Z",
     "start_time": "2024-11-11T21:38:45.253196Z"
    }
   },
   "cell_type": "code",
   "source": [
    "# removes any extraneous spaces from entire dataframe (needed for normalization and to deal with fixed width file)\n",
    "voter_data_file_df = voter_data_file_df.replace(\"\\s+\", \" \", regex=True).apply(lambda x: x.str.strip())"
   ],
   "id": "69cd2ba3da699108",
   "outputs": [],
   "execution_count": 8
  },
  {
   "metadata": {
    "ExecuteTime": {
     "end_time": "2024-11-11T21:38:54.797435Z",
     "start_time": "2024-11-11T21:38:54.794828Z"
    }
   },
   "cell_type": "code",
   "source": [
    "# normalizes column names\n",
    "voter_data_file_df.columns = voter_data_file_df.columns.str.lower().str.replace(' ', '_')"
   ],
   "id": "374a6b9dd99f712f",
   "outputs": [],
   "execution_count": 9
  },
  {
   "metadata": {
    "ExecuteTime": {
     "end_time": "2024-11-11T22:36:59.571938Z",
     "start_time": "2024-11-11T22:36:59.550511Z"
    }
   },
   "cell_type": "code",
   "source": "voter_data_file_df.head()",
   "id": "bb3b03347fdaf1f0",
   "outputs": [
    {
     "data": {
      "text/plain": [
       "  county_code precinct        vuid last_name first_name middle_name  \\\n",
       "0         453           1130141897   PADILLA      VICKI        RENE   \n",
       "1         453           1130141907    MEEKER   COURTNEY        MATA   \n",
       "2         453           1130141948     BANKS       KARL               \n",
       "3         453           1130005458      YANG     DINGYI               \n",
       "4         453           1130133042    MENDEZ     SANDRA      TABHAN   \n",
       "\n",
       "  former_last_name suffix gender dob  ... mailing_state mailing_zipcode  \\\n",
       "0                              F      ...                                 \n",
       "1                              F      ...            TX       787310000   \n",
       "2                              M      ...                                 \n",
       "3                              M      ...                                 \n",
       "4                              F      ...                                 \n",
       "\n",
       "  edr_(effective_date_of_registration) status_code hispanic_surname_flag  \\\n",
       "0                            1/12/2000                                     \n",
       "1                             1/8/2000                                     \n",
       "2                             1/8/2000                                     \n",
       "3                            1/12/2000                                     \n",
       "4                             1/1/2000                                     \n",
       "\n",
       "  election_date election_type election_party election_voting_method  \\\n",
       "0                                                                     \n",
       "1                                                                     \n",
       "2                                                                     \n",
       "3                                                                     \n",
       "4                                                                     \n",
       "\n",
       "                          perm_address  \n",
       "0        307 CLEARSKY CIR AUSTIN 78745  \n",
       "1       5504 LAKEMOORE DR AUSTIN 78731  \n",
       "2  15309 VELIAS WAY PFLUGERVILLE 78660  \n",
       "3         9309 SANFORD DR AUSTIN 78748  \n",
       "4        909 E VILLAGE LN AUSTIN 78758  \n",
       "\n",
       "[5 rows x 33 columns]"
      ],
      "text/html": [
       "<div>\n",
       "<style scoped>\n",
       "    .dataframe tbody tr th:only-of-type {\n",
       "        vertical-align: middle;\n",
       "    }\n",
       "\n",
       "    .dataframe tbody tr th {\n",
       "        vertical-align: top;\n",
       "    }\n",
       "\n",
       "    .dataframe thead th {\n",
       "        text-align: right;\n",
       "    }\n",
       "</style>\n",
       "<table border=\"1\" class=\"dataframe\">\n",
       "  <thead>\n",
       "    <tr style=\"text-align: right;\">\n",
       "      <th></th>\n",
       "      <th>county_code</th>\n",
       "      <th>precinct</th>\n",
       "      <th>vuid</th>\n",
       "      <th>last_name</th>\n",
       "      <th>first_name</th>\n",
       "      <th>middle_name</th>\n",
       "      <th>former_last_name</th>\n",
       "      <th>suffix</th>\n",
       "      <th>gender</th>\n",
       "      <th>dob</th>\n",
       "      <th>...</th>\n",
       "      <th>mailing_state</th>\n",
       "      <th>mailing_zipcode</th>\n",
       "      <th>edr_(effective_date_of_registration)</th>\n",
       "      <th>status_code</th>\n",
       "      <th>hispanic_surname_flag</th>\n",
       "      <th>election_date</th>\n",
       "      <th>election_type</th>\n",
       "      <th>election_party</th>\n",
       "      <th>election_voting_method</th>\n",
       "      <th>perm_address</th>\n",
       "    </tr>\n",
       "  </thead>\n",
       "  <tbody>\n",
       "    <tr>\n",
       "      <th>0</th>\n",
       "      <td>453</td>\n",
       "      <td></td>\n",
       "      <td>1130141897</td>\n",
       "      <td>PADILLA</td>\n",
       "      <td>VICKI</td>\n",
       "      <td>RENE</td>\n",
       "      <td></td>\n",
       "      <td></td>\n",
       "      <td>F</td>\n",
       "      <td></td>\n",
       "      <td>...</td>\n",
       "      <td></td>\n",
       "      <td></td>\n",
       "      <td>1/12/2000</td>\n",
       "      <td></td>\n",
       "      <td></td>\n",
       "      <td></td>\n",
       "      <td></td>\n",
       "      <td></td>\n",
       "      <td></td>\n",
       "      <td>307 CLEARSKY CIR AUSTIN 78745</td>\n",
       "    </tr>\n",
       "    <tr>\n",
       "      <th>1</th>\n",
       "      <td>453</td>\n",
       "      <td></td>\n",
       "      <td>1130141907</td>\n",
       "      <td>MEEKER</td>\n",
       "      <td>COURTNEY</td>\n",
       "      <td>MATA</td>\n",
       "      <td></td>\n",
       "      <td></td>\n",
       "      <td>F</td>\n",
       "      <td></td>\n",
       "      <td>...</td>\n",
       "      <td>TX</td>\n",
       "      <td>787310000</td>\n",
       "      <td>1/8/2000</td>\n",
       "      <td></td>\n",
       "      <td></td>\n",
       "      <td></td>\n",
       "      <td></td>\n",
       "      <td></td>\n",
       "      <td></td>\n",
       "      <td>5504 LAKEMOORE DR AUSTIN 78731</td>\n",
       "    </tr>\n",
       "    <tr>\n",
       "      <th>2</th>\n",
       "      <td>453</td>\n",
       "      <td></td>\n",
       "      <td>1130141948</td>\n",
       "      <td>BANKS</td>\n",
       "      <td>KARL</td>\n",
       "      <td></td>\n",
       "      <td></td>\n",
       "      <td></td>\n",
       "      <td>M</td>\n",
       "      <td></td>\n",
       "      <td>...</td>\n",
       "      <td></td>\n",
       "      <td></td>\n",
       "      <td>1/8/2000</td>\n",
       "      <td></td>\n",
       "      <td></td>\n",
       "      <td></td>\n",
       "      <td></td>\n",
       "      <td></td>\n",
       "      <td></td>\n",
       "      <td>15309 VELIAS WAY PFLUGERVILLE 78660</td>\n",
       "    </tr>\n",
       "    <tr>\n",
       "      <th>3</th>\n",
       "      <td>453</td>\n",
       "      <td></td>\n",
       "      <td>1130005458</td>\n",
       "      <td>YANG</td>\n",
       "      <td>DINGYI</td>\n",
       "      <td></td>\n",
       "      <td></td>\n",
       "      <td></td>\n",
       "      <td>M</td>\n",
       "      <td></td>\n",
       "      <td>...</td>\n",
       "      <td></td>\n",
       "      <td></td>\n",
       "      <td>1/12/2000</td>\n",
       "      <td></td>\n",
       "      <td></td>\n",
       "      <td></td>\n",
       "      <td></td>\n",
       "      <td></td>\n",
       "      <td></td>\n",
       "      <td>9309 SANFORD DR AUSTIN 78748</td>\n",
       "    </tr>\n",
       "    <tr>\n",
       "      <th>4</th>\n",
       "      <td>453</td>\n",
       "      <td></td>\n",
       "      <td>1130133042</td>\n",
       "      <td>MENDEZ</td>\n",
       "      <td>SANDRA</td>\n",
       "      <td>TABHAN</td>\n",
       "      <td></td>\n",
       "      <td></td>\n",
       "      <td>F</td>\n",
       "      <td></td>\n",
       "      <td>...</td>\n",
       "      <td></td>\n",
       "      <td></td>\n",
       "      <td>1/1/2000</td>\n",
       "      <td></td>\n",
       "      <td></td>\n",
       "      <td></td>\n",
       "      <td></td>\n",
       "      <td></td>\n",
       "      <td></td>\n",
       "      <td>909 E VILLAGE LN AUSTIN 78758</td>\n",
       "    </tr>\n",
       "  </tbody>\n",
       "</table>\n",
       "<p>5 rows × 33 columns</p>\n",
       "</div>"
      ]
     },
     "execution_count": 12,
     "metadata": {},
     "output_type": "execute_result"
    }
   ],
   "execution_count": 12
  },
  {
   "metadata": {
    "ExecuteTime": {
     "end_time": "2024-11-11T21:59:27.068291Z",
     "start_time": "2024-11-11T21:59:11.988480Z"
    }
   },
   "cell_type": "code",
   "source": [
    "# loads dataframe into database\n",
    "database_dirpath = os.path.join('..', 'data', 'databases', 'texas_secretary_of_state')\n",
    "if not os.path.exists(database_dirpath):\n",
    "    os.makedirs(database_dirpath)\n",
    "    \n",
    "sql_engine = sqlalchemy.create_engine(os.path.join('sqlite:///', database_dirpath, f'voter_data_file.db'))\n",
    "voter_data_file_df.to_sql(f'{election}_{year}', sql_engine, if_exists='replace')"
   ],
   "id": "ee228e08a11f7465",
   "outputs": [
    {
     "data": {
      "text/plain": [
       "879827"
      ]
     },
     "execution_count": 11,
     "metadata": {},
     "output_type": "execute_result"
    }
   ],
   "execution_count": 11
  },
  {
   "metadata": {},
   "cell_type": "code",
   "outputs": [],
   "execution_count": null,
   "source": "",
   "id": "22d36772d7c076e0"
  }
 ],
 "metadata": {
  "kernelspec": {
   "display_name": "Python 3",
   "language": "python",
   "name": "python3"
  },
  "language_info": {
   "codemirror_mode": {
    "name": "ipython",
    "version": 2
   },
   "file_extension": ".py",
   "mimetype": "text/x-python",
   "name": "python",
   "nbconvert_exporter": "python",
   "pygments_lexer": "ipython2",
   "version": "2.7.6"
  }
 },
 "nbformat": 4,
 "nbformat_minor": 5
}
