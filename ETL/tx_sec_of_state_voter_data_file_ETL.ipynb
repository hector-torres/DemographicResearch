{
 "cells": [
  {
   "metadata": {},
   "cell_type": "markdown",
   "source": [
    "# Texas Secretary of State Voter Data File ETL\n",
    "\n",
    "\n",
    "\n",
    "\n",
    "Sources:\n",
    "- MapBox API Pricing\n",
    "    - https://www.mapbox.com/pricing#temporary-geocoding-api\n",
    "| Monthly requests       | Cost per 1,000 (as of Nov 2024) |\n",
    "|------------------------|----------------------------|\n",
    "| Up to 100,000          | Free                       |\n",
    "| 100,001 to 500,000     | \\$0.75                     |\n",
    "| 500,001 to 1,000,000   | \\$0.60                     |\n",
    "| 1,000,001 to 4,999,999 | \\$0.45                     |\n",
    "| 5,000,000+             | Contact sales for discount |"
   ],
   "id": "ecdd32ce3a863a4c"
  },
  {
   "metadata": {
    "ExecuteTime": {
     "end_time": "2024-11-04T03:45:08.026138Z",
     "start_time": "2024-11-04T03:45:07.261517Z"
    }
   },
   "cell_type": "code",
   "source": [
    "import os\n",
    "import pandas as pd\n",
    "import geopandas as gpd\n",
    "from dotenv import load_dotenv\n",
    "from tqdm import tqdm\n",
    "from functools import partial\n",
    "from geopy.extra.rate_limiter import RateLimiter\n",
    "from geopy.geocoders import MapBox\n",
    "from shapely import wkt"
   ],
   "id": "c4579bc230da81fc",
   "outputs": [],
   "execution_count": 1
  },
  {
   "metadata": {
    "ExecuteTime": {
     "end_time": "2024-11-04T03:45:08.033299Z",
     "start_time": "2024-11-04T03:45:08.031232Z"
    }
   },
   "cell_type": "code",
   "source": [
    "# file path to dataset\n",
    "# todo: update to real file once data available\n",
    "voter_data_file = os.path.join('..', 'data', 'inputs', 'tx_secretary_of_state', 'TEST_voter_data_file.xlsx')"
   ],
   "id": "5c4a961d307c7597",
   "outputs": [],
   "execution_count": 2
  },
  {
   "metadata": {
    "ExecuteTime": {
     "end_time": "2024-11-04T03:45:08.137227Z",
     "start_time": "2024-11-04T03:45:08.133662Z"
    }
   },
   "cell_type": "code",
   "source": [
    "# sets the fields for each dataset, pasted from the documentation, as list of lists\n",
    "voter_data_file_fields = [['COUNTY CODE', 1, 3],\n",
    "                          ['PRECINCT', 4, 10],\n",
    "                          ['VUID', 13, 10],\n",
    "                          ['LAST NAME', 23, 50],\n",
    "                          ['FIRST NAME', 73, 50],\n",
    "                          ['MIDDLE NAME', 123, 50],\n",
    "                          ['FORMER LAST NAME', 173, 50],\n",
    "                          ['SUFFIX', 223, 4],\n",
    "                          ['GENDER', 227, 1],\n",
    "                          ['DOB', 228, 8],\n",
    "                          ['PERM HOUSE NUMBER', 236, 9],\n",
    "                          ['PERM DESIGNATOR', 245, 12],\n",
    "                          ['PERM DIRECTIONAL PREFIX', 257, 2],\n",
    "                          ['PERM STREET NAME', 259, 50],\n",
    "                          ['PERM STREET TYPE', 309, 12],\n",
    "                          ['PERM DIRECTIONAL SUFFIX', 321, 2],\n",
    "                          ['PERM UNIT NUMBER', 323, 12],\n",
    "                          ['PERM UNIT TYPE', 335, 12],\n",
    "                          ['PERM CITY', 347, 50],\n",
    "                          ['PERM ZIPCODE', 397, 9],\n",
    "                          ['MAILING ADDRESS 1', 406, 110],\n",
    "                          ['MAILING ADDRESS 2', 516, 50],\n",
    "                          ['MAILING CITY', 566, 50],\n",
    "                          ['MAILING STATE', 616, 20],\n",
    "                          ['MAILING ZIPCODE', 636, 20],\n",
    "                          ['EDR (EFFECTIVE DATE OF REGISTRATION)', 656, 8],\n",
    "                          ['STATUS CODE', 664, 1],\n",
    "                          ['HISPANIC SURNAME FLAG', 665, 1],\n",
    "                          ['ELECTION DATE', 666, 8],\n",
    "                          ['ELECTION TYPE', 674, 2],\n",
    "                          ['ELECTION PARTY', 676, 3],\n",
    "                          ['ELECTION VOTING METHOD', 679, 6]]\n",
    "                          #TOTAL N/A 685"
   ],
   "id": "6a5b97fc4248f30",
   "outputs": [],
   "execution_count": 3
  },
  {
   "metadata": {
    "ExecuteTime": {
     "end_time": "2024-11-04T03:45:08.145881Z",
     "start_time": "2024-11-04T03:45:08.143707Z"
    }
   },
   "cell_type": "code",
   "source": [
    "# creates list of tuples that can be passed to pandas fixed width file parser\n",
    "fixed_width_file_colspec = []\n",
    "for index, field in enumerate(voter_data_file_fields):\n",
    "    # subtract one (1) from initial condition from documentation to match zero index\n",
    "    fixed_width_file_colspec.append((voter_data_file_fields[index][1] - 1,  voter_data_file_fields[index][1] - 1 + voter_data_file_fields[index][2]))"
   ],
   "id": "f06fafc129f8c896",
   "outputs": [],
   "execution_count": 4
  },
  {
   "metadata": {
    "ExecuteTime": {
     "end_time": "2024-11-04T03:46:12.046536Z",
     "start_time": "2024-11-04T03:45:08.151338Z"
    }
   },
   "cell_type": "code",
   "source": [
    "# parses fixed width file\n",
    "# todo: once real file available, replace excel reader with fwf reader\n",
    "# voter_data_file_df = pd.read_fwf(voter_data_file, col=voter_data_file_fields[0][0].to_lower().replace(' ', ''))\n",
    "voter_data_file_df = pd.read_excel(voter_data_file, na_filter=False).astype(str)"
   ],
   "id": "e6177652e9eda304",
   "outputs": [],
   "execution_count": 5
  },
  {
   "metadata": {
    "ExecuteTime": {
     "end_time": "2024-11-04T03:46:14.120668Z",
     "start_time": "2024-11-04T03:46:12.152530Z"
    }
   },
   "cell_type": "code",
   "source": [
    "# aggregates address data from the individual columns\n",
    "voter_data_file_df['PERM ADDRESS'] = voter_data_file_df[['PERM HOUSE NUMBER', 'PERM DESIGNATOR', 'PERM DIRECTIONAL PREFIX', 'PERM STREET NAME', 'PERM STREET TYPE', 'PERM DIRECTIONAL SUFFIX', 'PERM UNIT TYPE', 'PERM UNIT NUMBER', 'PERM CITY', 'PERM ZIPCODE']].agg(' '.join, axis=1)"
   ],
   "id": "ebeeca350620b24a",
   "outputs": [],
   "execution_count": 6
  },
  {
   "metadata": {
    "ExecuteTime": {
     "end_time": "2024-11-04T03:46:23.991248Z",
     "start_time": "2024-11-04T03:46:14.127560Z"
    }
   },
   "cell_type": "code",
   "source": [
    "# voter_data_file_df['PERM ADDRESS'] = voter_data_file_df['PERM ADDRESS'].replace(\"\\s+\", \" \", regex=True).apply(lambda x: x.strip())\n",
    "\n",
    "# removes any extraneous spaces from entire dataframe (needed for normalization and to deal with fixed width file)\n",
    "voter_data_file_df = voter_data_file_df.replace(\"\\s+\", \" \", regex=True).apply(lambda x: x.str.strip())"
   ],
   "id": "69cd2ba3da699108",
   "outputs": [],
   "execution_count": 7
  },
  {
   "metadata": {
    "ExecuteTime": {
     "end_time": "2024-11-04T03:46:24.001548Z",
     "start_time": "2024-11-04T03:46:23.999647Z"
    }
   },
   "cell_type": "code",
   "source": [
    "# todo: delete dataframe sample creation code\n",
    "# creates small sample dataframe to test geocoding source without testing rate limits\n",
    "voter_data_file_df = voter_data_file_df.iloc[:5]"
   ],
   "id": "3369d1f7c86e5604",
   "outputs": [],
   "execution_count": 8
  },
  {
   "metadata": {
    "ExecuteTime": {
     "end_time": "2024-11-04T03:46:24.220102Z",
     "start_time": "2024-11-04T03:46:24.008817Z"
    }
   },
   "cell_type": "code",
   "source": [
    "# API key string, or import from .env file\n",
    "load_dotenv()\n",
    "api_key = os.getenv('mapbox_access_token')\n",
    "\n",
    "# initializes geocoder class  using Nominatim (OpenStreeMaps) as source\n",
    "geolocator = MapBox(api_key=api_key)\n",
    "geocode = RateLimiter(geolocator.geocode)\n",
    "# creates progress bar\n",
    "tqdm.pandas()\n",
    "\n",
    "voter_data_file_df['location'] = voter_data_file_df['PERM ADDRESS'].progress_apply(partial(geocode, exactly_one=True))"
   ],
   "id": "e5377a2a52209cce",
   "outputs": [
    {
     "name": "stderr",
     "output_type": "stream",
     "text": [
      "100%|██████████| 5/5 [00:00<00:00, 29.71it/s]\n"
     ]
    }
   ],
   "execution_count": 9
  },
  {
   "metadata": {
    "ExecuteTime": {
     "end_time": "2024-11-04T03:46:24.364568Z",
     "start_time": "2024-11-04T03:46:24.229248Z"
    }
   },
   "cell_type": "code",
   "source": [
    "# removes PERM ADDRESS column since location data is stored in new `location` column\n",
    "voter_data_file_df = voter_data_file_df.drop(['PERM ADDRESS'], axis=1)\n",
    "\n",
    "# creates column that contains only latitude and longitude data for geospatial analysis\n",
    "voter_data_file_df['geometry'] = voter_data_file_df['location'].apply(lambda loc: (loc.latitude, loc.longitude) if loc else None)\n",
    "\n",
    "# adds string `POINT` to `geometry` field to fulfil geodataframe requirements\n",
    "voter_data_file_df['geometry'] = 'POINT ' + voter_data_file_df['geometry'].astype(str)\n",
    "\n",
    "# repplaces extraneous commas in field\n",
    "voter_data_file_df['geometry'] = voter_data_file_df['geometry'].str.replace(',', '')\n",
    "\n",
    "# converts `geometry` field to geometry field\n",
    "voter_data_file_df['geometry'] = voter_data_file_df['geometry'].apply(wkt.loads)\n",
    "\n",
    "# transforms dataframe into geodataframe for proper handling of geographic data\n",
    "voter_data_file_gdf = gpd.GeoDataFrame(voter_data_file_df, geometry=voter_data_file_df['geometry'])\n",
    "\n",
    "# removes extraneous data from `location` (validated address) field\n",
    "voter_data_file_gdf['location'] = voter_data_file_gdf['location'].apply(lambda loc: loc[0])"
   ],
   "id": "6bd48c5cb645064b",
   "outputs": [],
   "execution_count": 10
  },
  {
   "metadata": {
    "ExecuteTime": {
     "end_time": "2024-11-04T03:47:41.137290Z",
     "start_time": "2024-11-04T03:47:40.952450Z"
    }
   },
   "cell_type": "code",
   "source": "voter_data_file_gdf.style.hide(['VUID', 'DOB', 'FIRST NAME', 'MIDDLE NAME', 'LAST NAME'], axis='columns')",
   "id": "951f3dfb289dc9f9",
   "outputs": [
    {
     "data": {
      "text/plain": [
       "<pandas.io.formats.style.Styler at 0x10fcb8d90>"
      ],
      "text/html": [
       "<style type=\"text/css\">\n",
       "</style>\n",
       "<table id=\"T_57456\">\n",
       "  <thead>\n",
       "    <tr>\n",
       "      <th class=\"blank level0\" >&nbsp;</th>\n",
       "      <th id=\"T_57456_level0_col0\" class=\"col_heading level0 col0\" >COUNTY CODE</th>\n",
       "      <th id=\"T_57456_level0_col1\" class=\"col_heading level0 col1\" >PRECINCT</th>\n",
       "      <th id=\"T_57456_level0_col6\" class=\"col_heading level0 col6\" >FORMER LAST NAME</th>\n",
       "      <th id=\"T_57456_level0_col7\" class=\"col_heading level0 col7\" >SUFFIX</th>\n",
       "      <th id=\"T_57456_level0_col8\" class=\"col_heading level0 col8\" >GENDER</th>\n",
       "      <th id=\"T_57456_level0_col10\" class=\"col_heading level0 col10\" >PERM HOUSE NUMBER</th>\n",
       "      <th id=\"T_57456_level0_col11\" class=\"col_heading level0 col11\" >PERM DESIGNATOR</th>\n",
       "      <th id=\"T_57456_level0_col12\" class=\"col_heading level0 col12\" >PERM DIRECTIONAL PREFIX</th>\n",
       "      <th id=\"T_57456_level0_col13\" class=\"col_heading level0 col13\" >PERM STREET NAME</th>\n",
       "      <th id=\"T_57456_level0_col14\" class=\"col_heading level0 col14\" >PERM STREET TYPE</th>\n",
       "      <th id=\"T_57456_level0_col15\" class=\"col_heading level0 col15\" >PERM DIRECTIONAL SUFFIX</th>\n",
       "      <th id=\"T_57456_level0_col16\" class=\"col_heading level0 col16\" >PERM UNIT NUMBER</th>\n",
       "      <th id=\"T_57456_level0_col17\" class=\"col_heading level0 col17\" >PERM UNIT TYPE</th>\n",
       "      <th id=\"T_57456_level0_col18\" class=\"col_heading level0 col18\" >PERM CITY</th>\n",
       "      <th id=\"T_57456_level0_col19\" class=\"col_heading level0 col19\" >PERM ZIPCODE</th>\n",
       "      <th id=\"T_57456_level0_col20\" class=\"col_heading level0 col20\" >MAILING ADDRESS 1</th>\n",
       "      <th id=\"T_57456_level0_col21\" class=\"col_heading level0 col21\" >MAILING ADDRESS 2</th>\n",
       "      <th id=\"T_57456_level0_col22\" class=\"col_heading level0 col22\" >MAILING CITY</th>\n",
       "      <th id=\"T_57456_level0_col23\" class=\"col_heading level0 col23\" >MAILING STATE</th>\n",
       "      <th id=\"T_57456_level0_col24\" class=\"col_heading level0 col24\" >MAILING ZIPCODE</th>\n",
       "      <th id=\"T_57456_level0_col25\" class=\"col_heading level0 col25\" >EDR (EFFECTIVE DATE OF REGISTRATION)</th>\n",
       "      <th id=\"T_57456_level0_col26\" class=\"col_heading level0 col26\" >STATUS CODE</th>\n",
       "      <th id=\"T_57456_level0_col27\" class=\"col_heading level0 col27\" >HISPANIC SURNAME FLAG</th>\n",
       "      <th id=\"T_57456_level0_col28\" class=\"col_heading level0 col28\" >ELECTION DATE</th>\n",
       "      <th id=\"T_57456_level0_col29\" class=\"col_heading level0 col29\" >ELECTION TYPE</th>\n",
       "      <th id=\"T_57456_level0_col30\" class=\"col_heading level0 col30\" >ELECTION PARTY</th>\n",
       "      <th id=\"T_57456_level0_col31\" class=\"col_heading level0 col31\" >ELECTION VOTING METHOD</th>\n",
       "      <th id=\"T_57456_level0_col32\" class=\"col_heading level0 col32\" >location</th>\n",
       "      <th id=\"T_57456_level0_col33\" class=\"col_heading level0 col33\" >geometry</th>\n",
       "    </tr>\n",
       "  </thead>\n",
       "  <tbody>\n",
       "    <tr>\n",
       "      <th id=\"T_57456_level0_row0\" class=\"row_heading level0 row0\" >0</th>\n",
       "      <td id=\"T_57456_row0_col0\" class=\"data row0 col0\" >453</td>\n",
       "      <td id=\"T_57456_row0_col1\" class=\"data row0 col1\" ></td>\n",
       "      <td id=\"T_57456_row0_col6\" class=\"data row0 col6\" ></td>\n",
       "      <td id=\"T_57456_row0_col7\" class=\"data row0 col7\" ></td>\n",
       "      <td id=\"T_57456_row0_col8\" class=\"data row0 col8\" >F</td>\n",
       "      <td id=\"T_57456_row0_col10\" class=\"data row0 col10\" >307</td>\n",
       "      <td id=\"T_57456_row0_col11\" class=\"data row0 col11\" ></td>\n",
       "      <td id=\"T_57456_row0_col12\" class=\"data row0 col12\" ></td>\n",
       "      <td id=\"T_57456_row0_col13\" class=\"data row0 col13\" >CLEARSKY</td>\n",
       "      <td id=\"T_57456_row0_col14\" class=\"data row0 col14\" >CIR</td>\n",
       "      <td id=\"T_57456_row0_col15\" class=\"data row0 col15\" ></td>\n",
       "      <td id=\"T_57456_row0_col16\" class=\"data row0 col16\" ></td>\n",
       "      <td id=\"T_57456_row0_col17\" class=\"data row0 col17\" ></td>\n",
       "      <td id=\"T_57456_row0_col18\" class=\"data row0 col18\" >AUSTIN</td>\n",
       "      <td id=\"T_57456_row0_col19\" class=\"data row0 col19\" >78745</td>\n",
       "      <td id=\"T_57456_row0_col20\" class=\"data row0 col20\" ></td>\n",
       "      <td id=\"T_57456_row0_col21\" class=\"data row0 col21\" ></td>\n",
       "      <td id=\"T_57456_row0_col22\" class=\"data row0 col22\" ></td>\n",
       "      <td id=\"T_57456_row0_col23\" class=\"data row0 col23\" ></td>\n",
       "      <td id=\"T_57456_row0_col24\" class=\"data row0 col24\" ></td>\n",
       "      <td id=\"T_57456_row0_col25\" class=\"data row0 col25\" >1/12/2000</td>\n",
       "      <td id=\"T_57456_row0_col26\" class=\"data row0 col26\" ></td>\n",
       "      <td id=\"T_57456_row0_col27\" class=\"data row0 col27\" ></td>\n",
       "      <td id=\"T_57456_row0_col28\" class=\"data row0 col28\" ></td>\n",
       "      <td id=\"T_57456_row0_col29\" class=\"data row0 col29\" ></td>\n",
       "      <td id=\"T_57456_row0_col30\" class=\"data row0 col30\" ></td>\n",
       "      <td id=\"T_57456_row0_col31\" class=\"data row0 col31\" ></td>\n",
       "      <td id=\"T_57456_row0_col32\" class=\"data row0 col32\" >307 Clearsky Circle, Austin, Texas 78745, United States</td>\n",
       "      <td id=\"T_57456_row0_col33\" class=\"data row0 col33\" >POINT (30.19578 -97.78391)</td>\n",
       "    </tr>\n",
       "    <tr>\n",
       "      <th id=\"T_57456_level0_row1\" class=\"row_heading level0 row1\" >1</th>\n",
       "      <td id=\"T_57456_row1_col0\" class=\"data row1 col0\" >453</td>\n",
       "      <td id=\"T_57456_row1_col1\" class=\"data row1 col1\" ></td>\n",
       "      <td id=\"T_57456_row1_col6\" class=\"data row1 col6\" ></td>\n",
       "      <td id=\"T_57456_row1_col7\" class=\"data row1 col7\" ></td>\n",
       "      <td id=\"T_57456_row1_col8\" class=\"data row1 col8\" >F</td>\n",
       "      <td id=\"T_57456_row1_col10\" class=\"data row1 col10\" >5504</td>\n",
       "      <td id=\"T_57456_row1_col11\" class=\"data row1 col11\" ></td>\n",
       "      <td id=\"T_57456_row1_col12\" class=\"data row1 col12\" ></td>\n",
       "      <td id=\"T_57456_row1_col13\" class=\"data row1 col13\" >LAKEMOORE</td>\n",
       "      <td id=\"T_57456_row1_col14\" class=\"data row1 col14\" >DR</td>\n",
       "      <td id=\"T_57456_row1_col15\" class=\"data row1 col15\" ></td>\n",
       "      <td id=\"T_57456_row1_col16\" class=\"data row1 col16\" ></td>\n",
       "      <td id=\"T_57456_row1_col17\" class=\"data row1 col17\" ></td>\n",
       "      <td id=\"T_57456_row1_col18\" class=\"data row1 col18\" >AUSTIN</td>\n",
       "      <td id=\"T_57456_row1_col19\" class=\"data row1 col19\" >78731</td>\n",
       "      <td id=\"T_57456_row1_col20\" class=\"data row1 col20\" >5504 LAKEMOORE DR</td>\n",
       "      <td id=\"T_57456_row1_col21\" class=\"data row1 col21\" ></td>\n",
       "      <td id=\"T_57456_row1_col22\" class=\"data row1 col22\" >AUSTIN</td>\n",
       "      <td id=\"T_57456_row1_col23\" class=\"data row1 col23\" >TX</td>\n",
       "      <td id=\"T_57456_row1_col24\" class=\"data row1 col24\" >787310000</td>\n",
       "      <td id=\"T_57456_row1_col25\" class=\"data row1 col25\" >1/8/2000</td>\n",
       "      <td id=\"T_57456_row1_col26\" class=\"data row1 col26\" ></td>\n",
       "      <td id=\"T_57456_row1_col27\" class=\"data row1 col27\" ></td>\n",
       "      <td id=\"T_57456_row1_col28\" class=\"data row1 col28\" ></td>\n",
       "      <td id=\"T_57456_row1_col29\" class=\"data row1 col29\" ></td>\n",
       "      <td id=\"T_57456_row1_col30\" class=\"data row1 col30\" ></td>\n",
       "      <td id=\"T_57456_row1_col31\" class=\"data row1 col31\" ></td>\n",
       "      <td id=\"T_57456_row1_col32\" class=\"data row1 col32\" >5504 Lakemore Drive, Austin, Texas 78731, United States</td>\n",
       "      <td id=\"T_57456_row1_col33\" class=\"data row1 col33\" >POINT (30.365635 -97.785962)</td>\n",
       "    </tr>\n",
       "    <tr>\n",
       "      <th id=\"T_57456_level0_row2\" class=\"row_heading level0 row2\" >2</th>\n",
       "      <td id=\"T_57456_row2_col0\" class=\"data row2 col0\" >453</td>\n",
       "      <td id=\"T_57456_row2_col1\" class=\"data row2 col1\" ></td>\n",
       "      <td id=\"T_57456_row2_col6\" class=\"data row2 col6\" ></td>\n",
       "      <td id=\"T_57456_row2_col7\" class=\"data row2 col7\" ></td>\n",
       "      <td id=\"T_57456_row2_col8\" class=\"data row2 col8\" >M</td>\n",
       "      <td id=\"T_57456_row2_col10\" class=\"data row2 col10\" >15309</td>\n",
       "      <td id=\"T_57456_row2_col11\" class=\"data row2 col11\" ></td>\n",
       "      <td id=\"T_57456_row2_col12\" class=\"data row2 col12\" ></td>\n",
       "      <td id=\"T_57456_row2_col13\" class=\"data row2 col13\" >VELIAS</td>\n",
       "      <td id=\"T_57456_row2_col14\" class=\"data row2 col14\" >WAY</td>\n",
       "      <td id=\"T_57456_row2_col15\" class=\"data row2 col15\" ></td>\n",
       "      <td id=\"T_57456_row2_col16\" class=\"data row2 col16\" ></td>\n",
       "      <td id=\"T_57456_row2_col17\" class=\"data row2 col17\" ></td>\n",
       "      <td id=\"T_57456_row2_col18\" class=\"data row2 col18\" >PFLUGERVILLE</td>\n",
       "      <td id=\"T_57456_row2_col19\" class=\"data row2 col19\" >78660</td>\n",
       "      <td id=\"T_57456_row2_col20\" class=\"data row2 col20\" ></td>\n",
       "      <td id=\"T_57456_row2_col21\" class=\"data row2 col21\" ></td>\n",
       "      <td id=\"T_57456_row2_col22\" class=\"data row2 col22\" ></td>\n",
       "      <td id=\"T_57456_row2_col23\" class=\"data row2 col23\" ></td>\n",
       "      <td id=\"T_57456_row2_col24\" class=\"data row2 col24\" ></td>\n",
       "      <td id=\"T_57456_row2_col25\" class=\"data row2 col25\" >1/8/2000</td>\n",
       "      <td id=\"T_57456_row2_col26\" class=\"data row2 col26\" ></td>\n",
       "      <td id=\"T_57456_row2_col27\" class=\"data row2 col27\" ></td>\n",
       "      <td id=\"T_57456_row2_col28\" class=\"data row2 col28\" ></td>\n",
       "      <td id=\"T_57456_row2_col29\" class=\"data row2 col29\" ></td>\n",
       "      <td id=\"T_57456_row2_col30\" class=\"data row2 col30\" ></td>\n",
       "      <td id=\"T_57456_row2_col31\" class=\"data row2 col31\" ></td>\n",
       "      <td id=\"T_57456_row2_col32\" class=\"data row2 col32\" >15309 Velia's Way, Pflugerville, Texas 78660, United States</td>\n",
       "      <td id=\"T_57456_row2_col33\" class=\"data row2 col33\" >POINT (30.443957 -97.656907)</td>\n",
       "    </tr>\n",
       "    <tr>\n",
       "      <th id=\"T_57456_level0_row3\" class=\"row_heading level0 row3\" >3</th>\n",
       "      <td id=\"T_57456_row3_col0\" class=\"data row3 col0\" >453</td>\n",
       "      <td id=\"T_57456_row3_col1\" class=\"data row3 col1\" ></td>\n",
       "      <td id=\"T_57456_row3_col6\" class=\"data row3 col6\" ></td>\n",
       "      <td id=\"T_57456_row3_col7\" class=\"data row3 col7\" ></td>\n",
       "      <td id=\"T_57456_row3_col8\" class=\"data row3 col8\" >M</td>\n",
       "      <td id=\"T_57456_row3_col10\" class=\"data row3 col10\" >9309</td>\n",
       "      <td id=\"T_57456_row3_col11\" class=\"data row3 col11\" ></td>\n",
       "      <td id=\"T_57456_row3_col12\" class=\"data row3 col12\" ></td>\n",
       "      <td id=\"T_57456_row3_col13\" class=\"data row3 col13\" >SANFORD</td>\n",
       "      <td id=\"T_57456_row3_col14\" class=\"data row3 col14\" >DR</td>\n",
       "      <td id=\"T_57456_row3_col15\" class=\"data row3 col15\" ></td>\n",
       "      <td id=\"T_57456_row3_col16\" class=\"data row3 col16\" ></td>\n",
       "      <td id=\"T_57456_row3_col17\" class=\"data row3 col17\" ></td>\n",
       "      <td id=\"T_57456_row3_col18\" class=\"data row3 col18\" >AUSTIN</td>\n",
       "      <td id=\"T_57456_row3_col19\" class=\"data row3 col19\" >78748</td>\n",
       "      <td id=\"T_57456_row3_col20\" class=\"data row3 col20\" ></td>\n",
       "      <td id=\"T_57456_row3_col21\" class=\"data row3 col21\" ></td>\n",
       "      <td id=\"T_57456_row3_col22\" class=\"data row3 col22\" ></td>\n",
       "      <td id=\"T_57456_row3_col23\" class=\"data row3 col23\" ></td>\n",
       "      <td id=\"T_57456_row3_col24\" class=\"data row3 col24\" ></td>\n",
       "      <td id=\"T_57456_row3_col25\" class=\"data row3 col25\" >1/12/2000</td>\n",
       "      <td id=\"T_57456_row3_col26\" class=\"data row3 col26\" ></td>\n",
       "      <td id=\"T_57456_row3_col27\" class=\"data row3 col27\" ></td>\n",
       "      <td id=\"T_57456_row3_col28\" class=\"data row3 col28\" ></td>\n",
       "      <td id=\"T_57456_row3_col29\" class=\"data row3 col29\" ></td>\n",
       "      <td id=\"T_57456_row3_col30\" class=\"data row3 col30\" ></td>\n",
       "      <td id=\"T_57456_row3_col31\" class=\"data row3 col31\" ></td>\n",
       "      <td id=\"T_57456_row3_col32\" class=\"data row3 col32\" >9309 Sanford Drive, Austin, Texas 78748, United States</td>\n",
       "      <td id=\"T_57456_row3_col33\" class=\"data row3 col33\" >POINT (30.18516 -97.8344)</td>\n",
       "    </tr>\n",
       "    <tr>\n",
       "      <th id=\"T_57456_level0_row4\" class=\"row_heading level0 row4\" >4</th>\n",
       "      <td id=\"T_57456_row4_col0\" class=\"data row4 col0\" >453</td>\n",
       "      <td id=\"T_57456_row4_col1\" class=\"data row4 col1\" ></td>\n",
       "      <td id=\"T_57456_row4_col6\" class=\"data row4 col6\" ></td>\n",
       "      <td id=\"T_57456_row4_col7\" class=\"data row4 col7\" ></td>\n",
       "      <td id=\"T_57456_row4_col8\" class=\"data row4 col8\" >F</td>\n",
       "      <td id=\"T_57456_row4_col10\" class=\"data row4 col10\" >909</td>\n",
       "      <td id=\"T_57456_row4_col11\" class=\"data row4 col11\" ></td>\n",
       "      <td id=\"T_57456_row4_col12\" class=\"data row4 col12\" >E</td>\n",
       "      <td id=\"T_57456_row4_col13\" class=\"data row4 col13\" >VILLAGE</td>\n",
       "      <td id=\"T_57456_row4_col14\" class=\"data row4 col14\" >LN</td>\n",
       "      <td id=\"T_57456_row4_col15\" class=\"data row4 col15\" ></td>\n",
       "      <td id=\"T_57456_row4_col16\" class=\"data row4 col16\" ></td>\n",
       "      <td id=\"T_57456_row4_col17\" class=\"data row4 col17\" ></td>\n",
       "      <td id=\"T_57456_row4_col18\" class=\"data row4 col18\" >AUSTIN</td>\n",
       "      <td id=\"T_57456_row4_col19\" class=\"data row4 col19\" >78758</td>\n",
       "      <td id=\"T_57456_row4_col20\" class=\"data row4 col20\" ></td>\n",
       "      <td id=\"T_57456_row4_col21\" class=\"data row4 col21\" ></td>\n",
       "      <td id=\"T_57456_row4_col22\" class=\"data row4 col22\" ></td>\n",
       "      <td id=\"T_57456_row4_col23\" class=\"data row4 col23\" ></td>\n",
       "      <td id=\"T_57456_row4_col24\" class=\"data row4 col24\" ></td>\n",
       "      <td id=\"T_57456_row4_col25\" class=\"data row4 col25\" >1/1/2000</td>\n",
       "      <td id=\"T_57456_row4_col26\" class=\"data row4 col26\" ></td>\n",
       "      <td id=\"T_57456_row4_col27\" class=\"data row4 col27\" ></td>\n",
       "      <td id=\"T_57456_row4_col28\" class=\"data row4 col28\" ></td>\n",
       "      <td id=\"T_57456_row4_col29\" class=\"data row4 col29\" ></td>\n",
       "      <td id=\"T_57456_row4_col30\" class=\"data row4 col30\" ></td>\n",
       "      <td id=\"T_57456_row4_col31\" class=\"data row4 col31\" ></td>\n",
       "      <td id=\"T_57456_row4_col32\" class=\"data row4 col32\" >909 East Village Lane, Austin, Texas 78758, United States</td>\n",
       "      <td id=\"T_57456_row4_col33\" class=\"data row4 col33\" >POINT (30.368842 -97.697656)</td>\n",
       "    </tr>\n",
       "  </tbody>\n",
       "</table>\n"
      ]
     },
     "execution_count": 14,
     "metadata": {},
     "output_type": "execute_result"
    }
   ],
   "execution_count": 14
  }
 ],
 "metadata": {
  "kernelspec": {
   "display_name": "Python 3",
   "language": "python",
   "name": "python3"
  },
  "language_info": {
   "codemirror_mode": {
    "name": "ipython",
    "version": 2
   },
   "file_extension": ".py",
   "mimetype": "text/x-python",
   "name": "python",
   "nbconvert_exporter": "python",
   "pygments_lexer": "ipython2",
   "version": "2.7.6"
  }
 },
 "nbformat": 4,
 "nbformat_minor": 5
}
