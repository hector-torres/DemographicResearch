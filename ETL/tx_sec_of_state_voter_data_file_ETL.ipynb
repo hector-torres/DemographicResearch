{
 "cells": [
  {
   "metadata": {},
   "cell_type": "markdown",
   "source": [
    "# Texas Secretary of State Voter Data File ETL\n",
    "\n",
    "This notebook extracts voter data from flat files provided by the Texas Secretary of State office, and loads into a database schema for further transformation and analysis.\n",
    "\n",
    "\n"
   ],
   "id": "ecdd32ce3a863a4c"
  },
  {
   "metadata": {
    "ExecuteTime": {
     "end_time": "2024-11-10T16:14:19.565592Z",
     "start_time": "2024-11-10T16:14:19.559509Z"
    }
   },
   "cell_type": "code",
   "source": [
    "# user data\n",
    "year = '2024'\n",
    "election = 'general'"
   ],
   "id": "b107080bffb18cf2",
   "outputs": [],
   "execution_count": 1
  },
  {
   "metadata": {
    "ExecuteTime": {
     "end_time": "2024-11-10T16:14:19.881014Z",
     "start_time": "2024-11-10T16:14:19.569666Z"
    }
   },
   "cell_type": "code",
   "source": [
    "import os\n",
    "import pandas as pd\n",
    "import sqlalchemy"
   ],
   "id": "c4579bc230da81fc",
   "outputs": [],
   "execution_count": 2
  },
  {
   "metadata": {
    "ExecuteTime": {
     "end_time": "2024-11-10T16:14:19.973554Z",
     "start_time": "2024-11-10T16:14:19.971546Z"
    }
   },
   "cell_type": "code",
   "source": [
    "# file path to dataset\n",
    "# todo: update to real file once data available\n",
    "voter_data_file = os.path.join('..', 'data', 'inputs', 'tx_secretary_of_state', 'mock_data', 'TEST_voter_data_file.xlsx')"
   ],
   "id": "5c4a961d307c7597",
   "outputs": [],
   "execution_count": 3
  },
  {
   "metadata": {
    "ExecuteTime": {
     "end_time": "2024-11-10T16:14:19.981456Z",
     "start_time": "2024-11-10T16:14:19.978205Z"
    }
   },
   "cell_type": "code",
   "source": [
    "# sets the fields for each dataset, pasted from the documentation, as list of lists\n",
    "voter_data_file_fields = [['COUNTY CODE', 1, 3],\n",
    "                          ['PRECINCT', 4, 10],\n",
    "                          ['VUID', 13, 10],\n",
    "                          ['LAST NAME', 23, 50],\n",
    "                          ['FIRST NAME', 73, 50],\n",
    "                          ['MIDDLE NAME', 123, 50],\n",
    "                          ['FORMER LAST NAME', 173, 50],\n",
    "                          ['SUFFIX', 223, 4],\n",
    "                          ['GENDER', 227, 1],\n",
    "                          ['DOB', 228, 8],\n",
    "                          ['PERM HOUSE NUMBER', 236, 9],\n",
    "                          ['PERM DESIGNATOR', 245, 12],\n",
    "                          ['PERM DIRECTIONAL PREFIX', 257, 2],\n",
    "                          ['PERM STREET NAME', 259, 50],\n",
    "                          ['PERM STREET TYPE', 309, 12],\n",
    "                          ['PERM DIRECTIONAL SUFFIX', 321, 2],\n",
    "                          ['PERM UNIT NUMBER', 323, 12],\n",
    "                          ['PERM UNIT TYPE', 335, 12],\n",
    "                          ['PERM CITY', 347, 50],\n",
    "                          ['PERM ZIPCODE', 397, 9],\n",
    "                          ['MAILING ADDRESS 1', 406, 110],\n",
    "                          ['MAILING ADDRESS 2', 516, 50],\n",
    "                          ['MAILING CITY', 566, 50],\n",
    "                          ['MAILING STATE', 616, 20],\n",
    "                          ['MAILING ZIPCODE', 636, 20],\n",
    "                          ['EDR (EFFECTIVE DATE OF REGISTRATION)', 656, 8],\n",
    "                          ['STATUS CODE', 664, 1],\n",
    "                          ['HISPANIC SURNAME FLAG', 665, 1],\n",
    "                          ['ELECTION DATE', 666, 8],\n",
    "                          ['ELECTION TYPE', 674, 2],\n",
    "                          ['ELECTION PARTY', 676, 3],\n",
    "                          ['ELECTION VOTING METHOD', 679, 6]]\n",
    "                          #TOTAL N/A 685"
   ],
   "id": "6a5b97fc4248f30",
   "outputs": [],
   "execution_count": 4
  },
  {
   "metadata": {
    "ExecuteTime": {
     "end_time": "2024-11-10T16:14:19.988547Z",
     "start_time": "2024-11-10T16:14:19.986446Z"
    }
   },
   "cell_type": "code",
   "source": [
    "# creates list of tuples that can be passed to pandas fixed width file parser\n",
    "fixed_width_file_colspec = []\n",
    "for index, field in enumerate(voter_data_file_fields):\n",
    "    # subtract one (1) from initial condition from documentation to match zero index\n",
    "    fixed_width_file_colspec.append((voter_data_file_fields[index][1] - 1,  voter_data_file_fields[index][1] - 1 + voter_data_file_fields[index][2]))"
   ],
   "id": "f06fafc129f8c896",
   "outputs": [],
   "execution_count": 5
  },
  {
   "metadata": {
    "ExecuteTime": {
     "end_time": "2024-11-10T16:15:21.005851Z",
     "start_time": "2024-11-10T16:14:19.993416Z"
    }
   },
   "cell_type": "code",
   "source": [
    "# parses fixed width file\n",
    "# todo: once real file available, replace excel reader with fwf reader\n",
    "# voter_data_file_df = pd.read_fwf(voter_data_file, col=voter_data_file_fields[0][0].to_lower().replace(' ', ''))\n",
    "voter_data_file_df = pd.read_excel(voter_data_file, na_filter=False).astype(str)"
   ],
   "id": "e6177652e9eda304",
   "outputs": [],
   "execution_count": 6
  },
  {
   "metadata": {
    "ExecuteTime": {
     "end_time": "2024-11-10T16:15:23.137540Z",
     "start_time": "2024-11-10T16:15:21.111905Z"
    }
   },
   "cell_type": "code",
   "source": [
    "# aggregates address data from the individual columns\n",
    "voter_data_file_df['PERM ADDRESS'] = voter_data_file_df[['PERM HOUSE NUMBER', 'PERM DESIGNATOR', 'PERM DIRECTIONAL PREFIX', 'PERM STREET NAME', 'PERM STREET TYPE', 'PERM DIRECTIONAL SUFFIX', 'PERM UNIT TYPE', 'PERM UNIT NUMBER', 'PERM CITY', 'PERM ZIPCODE']].agg(' '.join, axis=1)"
   ],
   "id": "ebeeca350620b24a",
   "outputs": [],
   "execution_count": 7
  },
  {
   "metadata": {
    "ExecuteTime": {
     "end_time": "2024-11-10T16:15:32.693760Z",
     "start_time": "2024-11-10T16:15:23.144670Z"
    }
   },
   "cell_type": "code",
   "source": [
    "# removes any extraneous spaces from entire dataframe (needed for normalization and to deal with fixed width file)\n",
    "voter_data_file_df = voter_data_file_df.replace(\"\\s+\", \" \", regex=True).apply(lambda x: x.str.strip())"
   ],
   "id": "69cd2ba3da699108",
   "outputs": [],
   "execution_count": 8
  },
  {
   "metadata": {
    "ExecuteTime": {
     "end_time": "2024-11-10T16:15:32.702793Z",
     "start_time": "2024-11-10T16:15:32.700577Z"
    }
   },
   "cell_type": "code",
   "source": [
    "# normalizes column names\n",
    "voter_data_file_df.columns = voter_data_file_df.columns.str.lower().str.replace(' ', '_')"
   ],
   "id": "374a6b9dd99f712f",
   "outputs": [],
   "execution_count": 9
  },
  {
   "metadata": {
    "ExecuteTime": {
     "end_time": "2024-11-10T16:15:49.387013Z",
     "start_time": "2024-11-10T16:15:33.408105Z"
    }
   },
   "cell_type": "code",
   "source": [
    "# loads dataframe into database\n",
    "database_dirpath = os.path.join('..', 'data', 'databases', 'texas_secretary_of_state')\n",
    "if not os.path.exists(database_dirpath):\n",
    "    os.makedirs(database_dirpath)\n",
    "    \n",
    "sql_engine = sqlalchemy.create_engine(os.path.join('sqlite:///', database_dirpath, f'voter_data_file.db'))\n",
    "\n",
    "voter_data_file_df.to_sql(f'{year}_{election}', sql_engine, if_exists='replace')"
   ],
   "id": "ee228e08a11f7465",
   "outputs": [
    {
     "data": {
      "text/plain": [
       "879827"
      ]
     },
     "execution_count": 12,
     "metadata": {},
     "output_type": "execute_result"
    }
   ],
   "execution_count": 12
  }
 ],
 "metadata": {
  "kernelspec": {
   "display_name": "Python 3",
   "language": "python",
   "name": "python3"
  },
  "language_info": {
   "codemirror_mode": {
    "name": "ipython",
    "version": 2
   },
   "file_extension": ".py",
   "mimetype": "text/x-python",
   "name": "python",
   "nbconvert_exporter": "python",
   "pygments_lexer": "ipython2",
   "version": "2.7.6"
  }
 },
 "nbformat": 4,
 "nbformat_minor": 5
}
