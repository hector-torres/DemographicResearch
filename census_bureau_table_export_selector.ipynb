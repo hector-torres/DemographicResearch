{
 "cells": [
  {
   "metadata": {},
   "cell_type": "markdown",
   "source": [
    "# Geography and Table Export Selector\n",
    "\n",
    "This notebook allows users to select multiple geographies and demographic tables and extracts data in format that can be imported into Tableau Public Desktop for data visualization \n",
    "\n",
    "## Data Preparation\n",
    "Import required libraries and make data calls that do not require user input. \n"
   ],
   "id": "97e1c390964ddf4c"
  },
  {
   "metadata": {
    "ExecuteTime": {
     "end_time": "2024-12-09T15:28:49.980622Z",
     "start_time": "2024-12-09T15:28:49.530720Z"
    }
   },
   "cell_type": "code",
   "source": [
    "import pandas as pd\n",
    "import os\n",
    "import sqlalchemy\n",
    "import datetime\n",
    "import geopandas as gpd\n",
    "import ipywidgets as widgets"
   ],
   "id": "c2236729eb1d88f",
   "outputs": [],
   "execution_count": 1
  },
  {
   "metadata": {
    "ExecuteTime": {
     "end_time": "2024-12-09T15:28:50.618113Z",
     "start_time": "2024-12-09T15:28:50.614420Z"
    }
   },
   "cell_type": "code",
   "source": [
    "# enables pandas copy-on-write globally\n",
    "pd.set_option(\"mode.copy_on_write\", True)"
   ],
   "id": "e1bd17daf138970c",
   "outputs": [],
   "execution_count": 2
  },
  {
   "metadata": {},
   "cell_type": "markdown",
   "source": [
    "## User Input\n",
    "\n",
    "Select `Survey Year`, `Survey Type`, and `Geography Type`.\n",
    "\n",
    "If `Survey Type` is `5 Year Estimates`, then select the overarching geography type and (in a later selection box) the specific geography from which \n",
    "the block groups will be selected from. All block groups will be extracted for the targets overarching geography. "
   ],
   "id": "a89f8dae3f32a3f5"
  },
  {
   "metadata": {
    "ExecuteTime": {
     "end_time": "2024-12-09T15:28:51.735316Z",
     "start_time": "2024-12-09T15:28:51.723889Z"
    }
   },
   "cell_type": "code",
   "source": [
    "years_available = ['2022']\n",
    "acs_survey_year = widgets.Dropdown(\n",
    "    options = years_available,\n",
    "    value = '2022',\n",
    "    disabled=False\n",
    ")\n",
    "\n",
    "survey_type = widgets.Dropdown(\n",
    "    options=[('1-Year Estimates', 'acsse'), ('5-Year Estimate', 'acs5')],\n",
    "    disabled=False,\n",
    "    layout=widgets.Layout(width='max-content'),\n",
    ")\n",
    "\n",
    "geography_type = widgets.Dropdown(\n",
    "        options=[('Congressional District', 'congressional_district'), ('County', 'county'), ('Place', 'place'), ('PUMA', 'puma')],\n",
    "        value='county',\n",
    "        disabled=False\n",
    "    )\n",
    "\n",
    "accordion = widgets.Accordion(\n",
    "    children=[acs_survey_year, survey_type, geography_type], \n",
    "    titles=('ACS Survey Year', 'Survey Type', 'Geography Type'), \n",
    "    selected_index=0)\n",
    "\n",
    "# todo: add toggle for selecting between `All Available Tables` and `Cross-Referenced Tables Only`\n",
    "\n",
    "accordion"
   ],
   "id": "63112211275b2ab3",
   "outputs": [
    {
     "data": {
      "text/plain": [
       "Accordion(children=(Dropdown(options=('2022',), value='2022'), Dropdown(layout=Layout(width='max-content'), op…"
      ],
      "application/vnd.jupyter.widget-view+json": {
       "version_major": 2,
       "version_minor": 0,
       "model_id": "8b5def70f9e24b96903c983c2fd802d5"
      }
     },
     "execution_count": 3,
     "metadata": {},
     "output_type": "execute_result"
    }
   ],
   "execution_count": 3
  },
  {
   "metadata": {
    "ExecuteTime": {
     "end_time": "2024-12-09T15:29:48.459510Z",
     "start_time": "2024-12-09T15:29:48.368230Z"
    }
   },
   "cell_type": "code",
   "source": [
    "# todo: add logic for showing tables based on user-selected `All Available Tables` or `Cross-Referenced Tables Only`\n",
    "# imports crosswalked survey data to math ACS SE 1yr and ACS 5yr data\n",
    "db_filepath = os.path.join(f'data/databases/census_bureau/census_acs-acsse_crosswalk.db')\n",
    "sql_engine = sqlalchemy.create_engine('sqlite:///' + db_filepath)\n",
    "crosswalk_tables = pd.read_sql_table(f'acs5_{acs_survey_year.value}-acsse_{acs_survey_year.value}_crosswalk', sql_engine)\n",
    "concepts = list(crosswalk_tables.concept)\n",
    "\n",
    "# imports Census survey data - both survey types require ACS SE table data, but ACS5 data is only imported if required\n",
    "acsse_survey_db_filepath = os.path.join(f'data/databases/census_bureau/census_acsse_{acs_survey_year.value}_{geography_type.value}.db')\n",
    "acsse_survey_sql_engine = sqlalchemy.create_engine('sqlite:///' + acsse_survey_db_filepath)\n",
    "if survey_type.value == 'acs5':\n",
    "    acs5_survey_db_filepath = os.path.join(f'data/databases/census_bureau/census_{survey_type.value}_{acs_survey_year.value}_block_group.db')\n",
    "    acs5_survey_sql_engine = sqlalchemy.create_engine('sqlite:///' + acs5_survey_db_filepath)\n",
    "    tables = pd.read_sql_table('tables', acs5_survey_sql_engine)\n",
    "else:\n",
    "    tables = pd.read_sql_table('tables', acsse_survey_sql_engine)\n",
    "\n",
    "\n",
    "# adds index as second item in each tuple for loading into widget\n",
    "concepts_for_widget = []\n",
    "for index, concept in enumerate(concepts):\n",
    "    concept = str(concept).capitalize().replace('_', ' ')\n",
    "    concepts_for_widget.append((concept, index))\n",
    "\n",
    "select_widget_tables = widgets.SelectMultiple(\n",
    "    options=list(concepts_for_widget),\n",
    "    rows=len(concepts_for_widget),\n",
    "    layout=widgets.Layout(width='max-content'),\n",
    "    disabled=False\n",
    ")\n",
    "\n",
    "select_widget_tables"
   ],
   "id": "f47d1e4d3895b6cd",
   "outputs": [
    {
     "data": {
      "text/plain": [
       "SelectMultiple(layout=Layout(width='max-content'), options=(('Race', 0), ('Year structure built', 1), ('School…"
      ],
      "application/vnd.jupyter.widget-view+json": {
       "version_major": 2,
       "version_minor": 0,
       "model_id": "d95818b64a4f47779f1c444b5eb39072"
      }
     },
     "execution_count": 4,
     "metadata": {},
     "output_type": "execute_result"
    }
   ],
   "execution_count": 4
  },
  {
   "metadata": {},
   "cell_type": "markdown",
   "source": "### Select Specific Geography",
   "id": "1dbd1613b4d921eb"
  },
  {
   "metadata": {
    "ExecuteTime": {
     "end_time": "2024-11-09T13:57:05.349626Z",
     "start_time": "2024-11-09T13:57:05.312437Z"
    }
   },
   "cell_type": "code",
   "source": [
    "# loads all database data locally and conducts any further filtering from this notebook locally\n",
    "selected_tables = []\n",
    "for table in select_widget_tables.value:\n",
    "    selected_tables.append(crosswalk_tables.iloc[table][f'{survey_type.value}_table_name'])\n",
    "\n",
    "list_of_dataframes = []\n",
    "# selects name of geographies available\n",
    "for table in selected_tables:\n",
    "    if survey_type.value == 'acs5':\n",
    "        df = pd.read_sql_table(table, acs5_survey_sql_engine)\n",
    "    elif survey_type.value == 'acsse':\n",
    "        # calls appropriate database and extracts selected table from each into its own dataframe\n",
    "        df = pd.read_sql_table(table, acsse_survey_sql_engine)\n",
    "    # adds each crated dataframe to a list of dataframes\n",
    "    list_of_dataframes.append(df)\n",
    "\n",
    "# pulls specific geographies from the first dataframe for user selection\n",
    "if survey_type.value == 'acsse':\n",
    "    geography_names = list(list_of_dataframes[0]['NAME'])\n",
    "elif survey_type.value == 'acs5':\n",
    "    acsse_correlate = crosswalk_tables.loc[crosswalk_tables['acs5_table_name'] == selected_tables[0]]\n",
    "    table_for_geography = (acsse_correlate['acsse_table_name'].to_string(index=False))\n",
    "    available_geography_df = pd.read_sql_table(table_for_geography, acsse_survey_sql_engine)\n",
    "    geography_names = list(available_geography_df['NAME'])\n",
    "\n",
    "select_geography_tables = widgets.SelectMultiple(\n",
    "    options=geography_names,\n",
    "    rows=len(geography_names),\n",
    "    layout=widgets.Layout(width='max-content'),\n",
    "    disabled=False\n",
    ")\n",
    "select_geography_tables"
   ],
   "id": "d20fc505c069786f",
   "outputs": [
    {
     "data": {
      "text/plain": [
       "SelectMultiple(layout=Layout(width='max-content'), options=('Travis County, Texas',), rows=1, value=())"
      ],
      "application/vnd.jupyter.widget-view+json": {
       "version_major": 2,
       "version_minor": 0,
       "model_id": "3422ab50fb854b6b97f66d1f21bc103c"
      }
     },
     "execution_count": 9,
     "metadata": {},
     "output_type": "execute_result"
    }
   ],
   "execution_count": 9
  },
  {
   "metadata": {
    "ExecuteTime": {
     "end_time": "2024-11-09T13:57:13.750642Z",
     "start_time": "2024-11-09T13:57:10.600878Z"
    }
   },
   "cell_type": "code",
   "source": [
    "# loads crosswalk table from the selected survey's database that correlates table column code `name` fields with human-readable `label`\n",
    "select_geography_tables_list = select_geography_tables.value\n",
    "\n",
    "crosswalk_df = pd.DataFrame()\n",
    "\n",
    "# filters available data by the geographies we selected and creates crosswalk dataframe to match table \n",
    "if survey_type.value == 'acs5':\n",
    "    crosswalk_df = pd.read_sql_table('crosswalk', acs5_survey_sql_engine)\n",
    "    if geography_type.value == 'county':\n",
    "        # parses state and county FIPS codes from available geography dataframe used for selecting geography \n",
    "        state_fips = available_geography_df['ucgid'].to_string(index=False)[9:11]\n",
    "        county_fips = available_geography_df['ucgid'].to_string(index=False)[11:]\n",
    "\n",
    "        block_group_gpd = gpd.read_file(\n",
    "            f'data/geospatial_files/census_bureau/block_groups/{acs_survey_year.value}/tl_{acs_survey_year.value}_{state_fips}_bg.shp')\n",
    "        block_group_gpd.set_crs(epsg=3395, inplace=True)\n",
    "                \n",
    "        block_group_gpd = block_group_gpd[block_group_gpd['COUNTYFP'] == county_fips]\n",
    "        selected_ucgids = block_group_gpd['GEOID'].tolist()\n",
    "elif survey_type.value == 'acsse':\n",
    "    crosswalk_df = pd.read_sql_table('crosswalk', acsse_survey_sql_engine)\n",
    "\n",
    "crosswalk_df.head()"
   ],
   "id": "5576ee37f06976c7",
   "outputs": [
    {
     "data": {
      "text/plain": [
       "   index           name                                              label  \\\n",
       "0      4    B24022_060E  Estimate!!Total:!!Female:!!Service occupations...   \n",
       "1      5   B19001B_014E             Estimate!!Total:!!$100,000 to $124,999   \n",
       "2      6  B07007PR_019E  Estimate!!Total:!!Moved from different municip...   \n",
       "3      7   B19101A_004E               Estimate!!Total:!!$15,000 to $19,999   \n",
       "4      8    B24022_061E  Estimate!!Total:!!Female:!!Service occupations...   \n",
       "\n",
       "                                             concept  \n",
       "0  Sex by Occupation and Median Earnings in the P...  \n",
       "1  Household Income in the Past 12 Months (in 202...  \n",
       "2  Geographical Mobility in the Past Year by Citi...  \n",
       "3  Family Income in the Past 12 Months (in 2022 I...  \n",
       "4  Sex by Occupation and Median Earnings in the P...  "
      ],
      "text/html": [
       "<div>\n",
       "<style scoped>\n",
       "    .dataframe tbody tr th:only-of-type {\n",
       "        vertical-align: middle;\n",
       "    }\n",
       "\n",
       "    .dataframe tbody tr th {\n",
       "        vertical-align: top;\n",
       "    }\n",
       "\n",
       "    .dataframe thead th {\n",
       "        text-align: right;\n",
       "    }\n",
       "</style>\n",
       "<table border=\"1\" class=\"dataframe\">\n",
       "  <thead>\n",
       "    <tr style=\"text-align: right;\">\n",
       "      <th></th>\n",
       "      <th>index</th>\n",
       "      <th>name</th>\n",
       "      <th>label</th>\n",
       "      <th>concept</th>\n",
       "    </tr>\n",
       "  </thead>\n",
       "  <tbody>\n",
       "    <tr>\n",
       "      <th>0</th>\n",
       "      <td>4</td>\n",
       "      <td>B24022_060E</td>\n",
       "      <td>Estimate!!Total:!!Female:!!Service occupations...</td>\n",
       "      <td>Sex by Occupation and Median Earnings in the P...</td>\n",
       "    </tr>\n",
       "    <tr>\n",
       "      <th>1</th>\n",
       "      <td>5</td>\n",
       "      <td>B19001B_014E</td>\n",
       "      <td>Estimate!!Total:!!$100,000 to $124,999</td>\n",
       "      <td>Household Income in the Past 12 Months (in 202...</td>\n",
       "    </tr>\n",
       "    <tr>\n",
       "      <th>2</th>\n",
       "      <td>6</td>\n",
       "      <td>B07007PR_019E</td>\n",
       "      <td>Estimate!!Total:!!Moved from different municip...</td>\n",
       "      <td>Geographical Mobility in the Past Year by Citi...</td>\n",
       "    </tr>\n",
       "    <tr>\n",
       "      <th>3</th>\n",
       "      <td>7</td>\n",
       "      <td>B19101A_004E</td>\n",
       "      <td>Estimate!!Total:!!$15,000 to $19,999</td>\n",
       "      <td>Family Income in the Past 12 Months (in 2022 I...</td>\n",
       "    </tr>\n",
       "    <tr>\n",
       "      <th>4</th>\n",
       "      <td>8</td>\n",
       "      <td>B24022_061E</td>\n",
       "      <td>Estimate!!Total:!!Female:!!Service occupations...</td>\n",
       "      <td>Sex by Occupation and Median Earnings in the P...</td>\n",
       "    </tr>\n",
       "  </tbody>\n",
       "</table>\n",
       "</div>"
      ]
     },
     "execution_count": 10,
     "metadata": {},
     "output_type": "execute_result"
    }
   ],
   "execution_count": 10
  },
  {
   "metadata": {
    "ExecuteTime": {
     "end_time": "2024-11-09T13:59:15.480155Z",
     "start_time": "2024-11-09T13:57:13.771047Z"
    }
   },
   "cell_type": "code",
   "source": [
    "# list to append human-readable table names to for printing later\n",
    "table_names = []\n",
    "\n",
    "# sets timestamp and geography type values to create unique directory name for each set of files created\n",
    "timestamp = datetime.datetime.strftime(datetime.datetime.now(), \"%m-%d-%Y %I:%M:%S%p\")\n",
    "timestamp = timestamp.lower()\n",
    "output_path_dir = ''\n",
    "if survey_type.value == 'acs5':\n",
    "    output_path_dir = os.path.join('data', 'outputs', 'census_bureau', f'{timestamp} - block group.csv')\n",
    "elif survey_type.value == 'acsse':\n",
    "    output_path_dir = os.path.join('data', 'outputs', 'census_bureau', f'{timestamp} - {geography_type.value}.csv')\n",
    "os.makedirs(output_path_dir, exist_ok=True)\n",
    "\n",
    "combined_dataframe = pd.DataFrame()\n",
    "\n",
    "# subset dataframe by selected geographies in select geography list\n",
    "for dataframe in list_of_dataframes:    \n",
    "    if survey_type.value == 'acsse':\n",
    "        dataframe = dataframe[dataframe['NAME'].isin(select_geography_tables_list)]\n",
    "    elif survey_type.value == 'acs5':\n",
    "        dataframe = dataframe[dataframe['ucgid'].str.endswith(tuple(selected_ucgids))]\n",
    "\n",
    "    # parses table name from table column, before it gets renamed using crosswalk\n",
    "    table_code = str(dataframe.columns[2]).split('_')[0]\n",
    "    table_name_df = tables[tables['name'].isin([table_code])]\n",
    "    table_name = table_name_df['concept'].iloc[0]\n",
    "    table_names.append(table_name)\n",
    "\n",
    "    # renames table column names with data from crosswalk \n",
    "    for series_name in dataframe.columns:\n",
    "        if crosswalk_df['name'].str.contains(series_name).any():\n",
    "            # if the crosswalk contains the name of the DataFrame column (i.e., for any data column as opposed to names, descriptors, etc.) replace table name based on key to one based on descriptor, then strip spaces, punctuation, etc. and replace with underscores for easier data manipulation and normalization, then convert from Series object to int dtype\n",
    "            new_label = str(crosswalk_df[crosswalk_df['name'].str.startswith(series_name)][['label']].values)\n",
    "            new_label = new_label.replace('[', '').replace(']', '').replace('\\' \\'', ': ').replace('\\'', '').replace('!!', ': ').replace(':', '').replace('\\n', '').replace('Estimate ', '').replace('Total ', '').replace('\"', '')\n",
    "            try:\n",
    "                if series_name != 'ucgid':\n",
    "                    dataframe.rename(columns={series_name: new_label}, inplace=True, errors='raise')\n",
    "                    dataframe = dataframe.astype({series_name: 'int'})\n",
    "            except (TypeError, ValueError, KeyError):\n",
    "                pass\n",
    "        elif series_name == 'NAME':\n",
    "            dataframe = dataframe.rename(columns={series_name: str(series_name).title()}, errors='raise')\n",
    "            \n",
    "        geodf = gpd.GeoDataFrame()\n",
    "        # adds selected geography shapefile to analysis directory \n",
    "        if survey_type.value == 'acsse':\n",
    "            dataframe_ucgids = dataframe['ucgid'].values.tolist()\n",
    "        elif survey_type.value == 'acs5':\n",
    "            dataframe['ucgid'] = dataframe['ucgid'].str.lstrip('1500000US')\n",
    "            dataframe_ucgids = dataframe['ucgid'].values.tolist()\n",
    "        \n",
    "        # loads shapefiles, extracts key information, then merges that data with our dataframe\n",
    "        if survey_type.value == 'acsse':\n",
    "            if geography_type.value == 'puma':\n",
    "                shapefile = f'data/geospatial_files/shapefiles/census_bureau/pumas/tl_2023_{state_fips}_puma20.shp'\n",
    "                shapefile_ucgid_column_name = 'GEOIDFQ20'\n",
    "            elif geography_type.value == 'congressional_district':\n",
    "                shapefile = f'data/geospatial_files/shapefiles/census_bureau/congressional_districts/118th_congress/tl_2023_{state_fips}_cd118.shp'\n",
    "                shapefile_ucgid_column_name = 'GEOIDFQ'\n",
    "            elif geography_type.value == 'county':\n",
    "                shapefile = f'data/geospatial_files/shapefiles/census_bureau/counties/tl_2023_us_county.shp'\n",
    "                shapefile_ucgid_column_name = 'GEOIDFQ'\n",
    "            elif geography_type.value == 'place':\n",
    "                shapefile = f'data/geospatial_files/shapefiles/census_bureau/places/tl_2023_{state_fips}_place.shp'\n",
    "                shapefile_ucgid_column_name = 'GEOIDFQ'\n",
    "        elif survey_type.value == 'acs5':\n",
    "            shapefile = f'data/geospatial_files/shapefiles/census_bureau/block_groups/{acs_survey_year.value}/tl_{acs_survey_year.value}_{state_fips}_bg.shp'\n",
    "            shapefile_ucgid_column_name = 'GEOID'\n",
    "            \n",
    "        geodf = gpd.read_file(shapefile)\n",
    "        \n",
    "        # searches shapefile UCGID field for correlates from dataframe UCGID field\n",
    "        geodf = geodf[geodf[shapefile_ucgid_column_name].isin(dataframe_ucgids)]\n",
    "        # drops all columns that are not necessary for merging or geospatial analysis \n",
    "        geodf = geodf.loc[:,geodf.columns.isin([shapefile_ucgid_column_name, 'geometry'])]\n",
    "        # merges the geodataframe and dataframe \n",
    "        combined_dataframe = dataframe.merge(geodf, how='right', left_on='ucgid', right_on=shapefile_ucgid_column_name)\n",
    "        \n",
    "        # drops `index` and non-standard UCGID columns (does not drop *actual* index, just the column named `index`\n",
    "        columns_to_remove = combined_dataframe.columns[combined_dataframe.columns.str.startswith(('index', 'GEOID'))]\n",
    "        combined_dataframe = combined_dataframe.drop(columns_to_remove, axis=1)\n",
    "        \n",
    "        combined_dataframe.to_csv(os.path.join(output_path_dir, f'{table_name}.csv'))\n",
    "\n",
    "print(f'{len(table_names)} table(s) saved: {\" | \".join(table_names)}')\n",
    "print(f'\\n\\tTable shown below (head only): {table_names[-1]}')\n",
    "print(f'\\tTable shape: {combined_dataframe.shape[0]} rows, {combined_dataframe.shape[1]} columns')\n",
    "combined_dataframe.head()"
   ],
   "id": "8c3a12dd8786997e",
   "outputs": [
    {
     "name": "stdout",
     "output_type": "stream",
     "text": [
      "2 table(s) saved: race | educational_attainment_for_the_population_25_years_and_over\n",
      "\n",
      "\tTable shown below (head only): educational_attainment_for_the_population_25_years_and_over\n",
      "\tTable shape: 0 rows, 28 columns\n"
     ]
    },
    {
     "data": {
      "text/plain": [
       "Empty DataFrame\n",
       "Columns: [Total, No schooling completed, Nursery school, Kindergarten, 1st grade, 2nd grade, 3rd grade, 4th grade, 5th grade, 6th grade, 7th grade, 8th grade, 9th grade, 10th grade, 11th grade, 12th grade, no diploma, Regular high school diploma, GED or alternative credential, Some college, less than 1 year, Some college, 1 or more years, no degree, Associates degree, Bachelors degree, Masters degree, Professional school degree, Doctorate degree, Name, ucgid, geometry]\n",
       "Index: []\n",
       "\n",
       "[0 rows x 28 columns]"
      ],
      "text/html": [
       "<div>\n",
       "<style scoped>\n",
       "    .dataframe tbody tr th:only-of-type {\n",
       "        vertical-align: middle;\n",
       "    }\n",
       "\n",
       "    .dataframe tbody tr th {\n",
       "        vertical-align: top;\n",
       "    }\n",
       "\n",
       "    .dataframe thead th {\n",
       "        text-align: right;\n",
       "    }\n",
       "</style>\n",
       "<table border=\"1\" class=\"dataframe\">\n",
       "  <thead>\n",
       "    <tr style=\"text-align: right;\">\n",
       "      <th></th>\n",
       "      <th>Total</th>\n",
       "      <th>No schooling completed</th>\n",
       "      <th>Nursery school</th>\n",
       "      <th>Kindergarten</th>\n",
       "      <th>1st grade</th>\n",
       "      <th>2nd grade</th>\n",
       "      <th>3rd grade</th>\n",
       "      <th>4th grade</th>\n",
       "      <th>5th grade</th>\n",
       "      <th>6th grade</th>\n",
       "      <th>...</th>\n",
       "      <th>Some college, less than 1 year</th>\n",
       "      <th>Some college, 1 or more years, no degree</th>\n",
       "      <th>Associates degree</th>\n",
       "      <th>Bachelors degree</th>\n",
       "      <th>Masters degree</th>\n",
       "      <th>Professional school degree</th>\n",
       "      <th>Doctorate degree</th>\n",
       "      <th>Name</th>\n",
       "      <th>ucgid</th>\n",
       "      <th>geometry</th>\n",
       "    </tr>\n",
       "  </thead>\n",
       "  <tbody>\n",
       "  </tbody>\n",
       "</table>\n",
       "<p>0 rows × 28 columns</p>\n",
       "</div>"
      ]
     },
     "execution_count": 11,
     "metadata": {},
     "output_type": "execute_result"
    }
   ],
   "execution_count": 11
  }
 ],
 "metadata": {
  "kernelspec": {
   "display_name": "Python 3",
   "language": "python",
   "name": "python3"
  },
  "language_info": {
   "codemirror_mode": {
    "name": "ipython",
    "version": 2
   },
   "file_extension": ".py",
   "mimetype": "text/x-python",
   "name": "python",
   "nbconvert_exporter": "python",
   "pygments_lexer": "ipython2",
   "version": "2.7.6"
  }
 },
 "nbformat": 4,
 "nbformat_minor": 5
}
