{
 "cells": [
  {
   "metadata": {},
   "cell_type": "markdown",
   "source": "# Voting Results by Geography Table Exporter",
   "id": "cb83f78b8baad61e"
  },
  {
   "metadata": {
    "ExecuteTime": {
     "end_time": "2024-12-12T13:36:42.006507Z",
     "start_time": "2024-12-12T13:36:42.001506Z"
    }
   },
   "cell_type": "code",
   "source": [
    "import os\n",
    "import sqlalchemy\n",
    "import pandas as pd\n",
    "import datetime\n",
    "import ipywidgets as widgets"
   ],
   "id": "eedb84c7e54d04f7",
   "outputs": [],
   "execution_count": 27
  },
  {
   "metadata": {
    "ExecuteTime": {
     "end_time": "2024-12-09T15:03:03.172548Z",
     "start_time": "2024-12-09T15:03:03.169129Z"
    }
   },
   "cell_type": "code",
   "source": [
    "# enables pandas copy-on-write globally\n",
    "pd.set_option(\"mode.copy_on_write\", True)"
   ],
   "id": "bbf39df7f5ad4278",
   "outputs": [],
   "execution_count": 2
  },
  {
   "metadata": {},
   "cell_type": "markdown",
   "source": [
    "## User Input\n",
    "Input county FIPS ID and election data to be analyzed."
   ],
   "id": "acbb7821377df6c3"
  },
  {
   "metadata": {
    "ExecuteTime": {
     "end_time": "2024-12-09T15:03:05.573071Z",
     "start_time": "2024-12-09T15:03:05.565174Z"
    }
   },
   "cell_type": "code",
   "source": [
    "county_fips = widgets.BoundedIntText(\n",
    "    value=453,\n",
    "    min=1,\n",
    "    max=999,\n",
    "    step=1,\n",
    "    # description='Text:',\n",
    "    disabled=False\n",
    ")\n",
    "county_fips"
   ],
   "id": "e68442028be5f28a",
   "outputs": [
    {
     "data": {
      "text/plain": [
       "BoundedIntText(value=453, max=999, min=1)"
      ],
      "application/vnd.jupyter.widget-view+json": {
       "version_major": 2,
       "version_minor": 0,
       "model_id": "94f2febe9aa9413a80afe65bc89fec32"
      }
     },
     "execution_count": 4,
     "metadata": {},
     "output_type": "execute_result"
    }
   ],
   "execution_count": 4
  },
  {
   "metadata": {
    "ExecuteTime": {
     "end_time": "2024-12-09T15:03:06.634870Z",
     "start_time": "2024-12-09T15:03:06.627484Z"
    }
   },
   "cell_type": "code",
   "source": [
    "election_years_available = ['2022']\n",
    "election_year = widgets.Dropdown(\n",
    "    options = election_years_available,\n",
    "    value = '2022',\n",
    "    disabled=False\n",
    ")\n",
    "election_year"
   ],
   "id": "56b9a56450547c68",
   "outputs": [
    {
     "data": {
      "text/plain": [
       "Dropdown(options=('2022',), value='2022')"
      ],
      "application/vnd.jupyter.widget-view+json": {
       "version_major": 2,
       "version_minor": 0,
       "model_id": "e9ecdd392fc0462989965294fd090da5"
      }
     },
     "execution_count": 5,
     "metadata": {},
     "output_type": "execute_result"
    }
   ],
   "execution_count": 5
  },
  {
   "metadata": {
    "ExecuteTime": {
     "end_time": "2024-12-09T15:03:07.743256Z",
     "start_time": "2024-12-09T15:03:07.729653Z"
    }
   },
   "cell_type": "code",
   "source": [
    "db_filepath = os.path.join('data', 'databases', 'texas_legislative_council', f'texas_legislative_council_election_dataset_{election_year.value}.db')\n",
    "sql_engine = sqlalchemy.create_engine('sqlite:///' + db_filepath)"
   ],
   "id": "43c984a5c2fb58a7",
   "outputs": [],
   "execution_count": 6
  },
  {
   "metadata": {
    "ExecuteTime": {
     "end_time": "2024-12-13T03:24:06.561141Z",
     "start_time": "2024-12-13T03:24:06.178159Z"
    }
   },
   "cell_type": "code",
   "source": "df = pd.read_sql('election_returns', sql_engine)",
   "id": "310f62197e2287ab",
   "outputs": [],
   "execution_count": 32
  },
  {
   "metadata": {
    "ExecuteTime": {
     "end_time": "2024-12-13T03:24:08.450387Z",
     "start_time": "2024-12-13T03:24:08.443460Z"
    }
   },
   "cell_type": "code",
   "source": "df.head(), df.shape",
   "id": "c2fb1cf1188014b6",
   "outputs": [
    {
     "data": {
      "text/plain": [
       "(   index County  FIPS   VTD cntyvtd  vtdkeyvalue       Office    Name Party  \\\n",
       " 0  10450  Bexar    29  1001  291001          251  U.S. Rep 35   Casar     D   \n",
       " 1  10451  Bexar    29  1002  291002          252  U.S. Rep 20  Castro     D   \n",
       " 2  10452  Bexar    29  1003  291003          253  U.S. Rep 35   Casar     D   \n",
       " 3  10453  Bexar    29  1004  291004          254  U.S. Rep 20  Castro     D   \n",
       " 4  10454  Bexar    29  1005  291005          255  U.S. Rep 20  Castro     D   \n",
       " \n",
       "   Incumbent  Votes  \n",
       " 0         N    416  \n",
       " 1         Y    185  \n",
       " 2         N    718  \n",
       " 3         Y    274  \n",
       " 4         Y    196  ,\n",
       " (114403, 11))"
      ]
     },
     "execution_count": 33,
     "metadata": {},
     "output_type": "execute_result"
    }
   ],
   "execution_count": 33
  },
  {
   "metadata": {
    "ExecuteTime": {
     "end_time": "2024-12-13T03:24:09.796672Z",
     "start_time": "2024-12-13T03:24:09.772857Z"
    }
   },
   "cell_type": "code",
   "source": [
    "df = df[df['FIPS'] == county_fips.value]\n",
    "df.head(), df.shape"
   ],
   "id": "d247588d8e63fca9",
   "outputs": [
    {
     "data": {
      "text/plain": [
       "(        index  County  FIPS   VTD  cntyvtd  vtdkeyvalue       Office     Name  \\\n",
       " 82311  635664  Travis   453  0100  4530100         8706  U.S. Rep 35    Casar   \n",
       " 82312  635665  Travis   453  0101  4530101         8707  U.S. Rep 35    Casar   \n",
       " 82313  635666  Travis   453  0102  4530102         8708  U.S. Rep 35    Casar   \n",
       " 82314  635667  Travis   453  0103  4530103         8709  U.S. Rep 35    Casar   \n",
       " 82315  635668  Travis   453  0104  4530104         8710  U.S. Rep 37  Doggett   \n",
       " \n",
       "       Party Incumbent  Votes  \n",
       " 82311     D         N   1415  \n",
       " 82312     D         N   1220  \n",
       " 82313     D         N   1601  \n",
       " 82314     D         N   1091  \n",
       " 82315     D         Y   1976  ,\n",
       " (32092, 11))"
      ]
     },
     "execution_count": 34,
     "metadata": {},
     "output_type": "execute_result"
    }
   ],
   "execution_count": 34
  },
  {
   "metadata": {
    "ExecuteTime": {
     "end_time": "2024-12-13T03:24:22.751750Z",
     "start_time": "2024-12-13T03:24:22.743082Z"
    }
   },
   "cell_type": "code",
   "source": [
    "offices = pd.unique(df['Office'])\n",
    "offices.tolist()\n",
    "office = widgets.Dropdown(\n",
    "    options = offices.tolist(),\n",
    "    disabled=False\n",
    ")\n",
    "office"
   ],
   "id": "7004c2798add817a",
   "outputs": [
    {
     "data": {
      "text/plain": [
       "Dropdown(options=('U.S. Rep 35', 'U.S. Rep 37', 'U.S. Rep 10', 'U.S. Rep 17', 'U.S. Rep 21', 'Governor', 'Lt. …"
      ],
      "application/vnd.jupyter.widget-view+json": {
       "version_major": 2,
       "version_minor": 0,
       "model_id": "6260b61c6ffe4fce8fe53ff44b4a13ba"
      }
     },
     "execution_count": 36,
     "metadata": {},
     "output_type": "execute_result"
    }
   ],
   "execution_count": 36
  },
  {
   "metadata": {
    "ExecuteTime": {
     "end_time": "2024-12-13T03:24:23.794657Z",
     "start_time": "2024-12-13T03:24:23.780162Z"
    }
   },
   "cell_type": "code",
   "source": [
    "df = df[df['Office'] == office.value]\n",
    "df.columns = [x.lower() for x in df.columns]\n",
    "df.head(),  df.shape"
   ],
   "id": "f7624a24010b76",
   "outputs": [
    {
     "data": {
      "text/plain": [
       "(        index  county  fips   vtd  cntyvtd  vtdkeyvalue       office   name  \\\n",
       " 82311  635664  Travis   453  0100  4530100         8706  U.S. Rep 35  Casar   \n",
       " 82312  635665  Travis   453  0101  4530101         8707  U.S. Rep 35  Casar   \n",
       " 82313  635666  Travis   453  0102  4530102         8708  U.S. Rep 35  Casar   \n",
       " 82314  635667  Travis   453  0103  4530103         8709  U.S. Rep 35  Casar   \n",
       " 82316  635669  Travis   453  0105  4530105         8711  U.S. Rep 35  Casar   \n",
       " \n",
       "       party incumbent  votes  \n",
       " 82311     D         N   1415  \n",
       " 82312     D         N   1220  \n",
       " 82313     D         N   1601  \n",
       " 82314     D         N   1091  \n",
       " 82316     D         N   1428  ,\n",
       " (236, 11))"
      ]
     },
     "execution_count": 37,
     "metadata": {},
     "output_type": "execute_result"
    }
   ],
   "execution_count": 37
  },
  {
   "metadata": {
    "ExecuteTime": {
     "end_time": "2024-12-13T03:33:52.516504Z",
     "start_time": "2024-12-13T03:33:52.510723Z"
    }
   },
   "cell_type": "code",
   "source": [
    "# sets timestamp and data fields to create unique directory name for each set of files created\n",
    "timestamp = datetime.datetime.strftime(datetime.datetime.now(), \"%m-%d-%Y %I:%M:%S%p\")\n",
    "timestamp = timestamp.lower()\n",
    "\n",
    "output_path_dir = os.path.join('data', 'outputs', 'texas_legislative_council', timestamp)\n",
    "os.makedirs(output_path_dir, exist_ok=True)\n",
    "\n",
    "df.to_csv(os.path.join(output_path_dir, f'{county_fips.value} - {office.value.lower()}.csv'))"
   ],
   "id": "660663bb5bf40602",
   "outputs": [],
   "execution_count": 40
  }
 ],
 "metadata": {
  "kernelspec": {
   "display_name": "Python 3",
   "language": "python",
   "name": "python3"
  },
  "language_info": {
   "codemirror_mode": {
    "name": "ipython",
    "version": 2
   },
   "file_extension": ".py",
   "mimetype": "text/x-python",
   "name": "python",
   "nbconvert_exporter": "python",
   "pygments_lexer": "ipython2",
   "version": "2.7.6"
  }
 },
 "nbformat": 4,
 "nbformat_minor": 5
}
