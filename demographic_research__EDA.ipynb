{
 "cells": [
  {
   "metadata": {},
   "cell_type": "markdown",
   "source": [
    "# Exploratory Data Analysis\n",
    "\n",
    "This notebook combines various data sets (demographic data, voting turnout numbers, voting registration figures) from various sources (Census Bureau, Texas Legislative Council, the Texas Secretary of State) of various types (datasets, geospatial files) in order to gain insights into patterns of behavior in targeted geographies.\n"
   ],
   "id": "51966a3774f6476"
  },
  {
   "metadata": {},
   "cell_type": "markdown",
   "source": "## User Input and Pre-ETL Prep\n",
   "id": "eeae2ef808e78873"
  },
  {
   "metadata": {
    "ExecuteTime": {
     "end_time": "2024-09-24T02:59:40.162432Z",
     "start_time": "2024-09-24T02:59:40.156674Z"
    }
   },
   "cell_type": "code",
   "source": [
    "# reference county or counties, as FIPS state + county code\n",
    "state_fips = ['48']\n",
    "county_fips = ['029']\n",
    "# specify the data source by year\n",
    "year = '2022' "
   ],
   "id": "a955cbc583d0e87b",
   "outputs": [],
   "execution_count": 1
  },
  {
   "metadata": {
    "ExecuteTime": {
     "end_time": "2024-09-24T02:59:40.609891Z",
     "start_time": "2024-09-24T02:59:40.165356Z"
    }
   },
   "cell_type": "code",
   "source": [
    "import geopandas as gpd\n",
    "import pandas as pd\n",
    "import os\n",
    "import sqlalchemy\n",
    "import requests"
   ],
   "id": "951963c621eb7b46",
   "outputs": [],
   "execution_count": 2
  },
  {
   "metadata": {},
   "cell_type": "markdown",
   "source": [
    "## Local ETL\n",
    "\n",
    "### Census Data ETL\n",
    "#### ACS Crosswalk\n",
    "This crosswalk is used to map names to individual columns within ACS tables."
   ],
   "id": "5624bc5db012edb8"
  },
  {
   "metadata": {
    "ExecuteTime": {
     "end_time": "2024-09-24T02:59:43.430597Z",
     "start_time": "2024-09-24T02:59:40.693679Z"
    }
   },
   "cell_type": "code",
   "source": [
    "# imports crosswalk\n",
    "surveys = ['acsse', 'acs5']\n",
    "# creates dictionary to contain data for ACS 1yr and ACS 5yr data\n",
    "acs_data_dict = {}\n",
    "\n",
    "for survey in surveys:\n",
    "    crosswalk_df = pd.DataFrame()\n",
    "    headers = {'User-Agent': 'Mozilla/5.0 (Windows NT 6.1; WOW64) AppleWebKit/537.36 (KHTML, like Gecko) Chrome/56.0.2924.76 Safari/537.36'}\n",
    "    crosswalk_url = f'https://api.census.gov/data/{year}/acs/{survey}/variables/'\n",
    "    \n",
    "    crosswalk_response = requests.get(crosswalk_url, headers=headers)\n",
    "    if crosswalk_response.status_code == 200:\n",
    "        crosswalk_df = pd.DataFrame(crosswalk_response.json())\n",
    "    \n",
    "    acs_data_dict[f'{survey}_crosswalk_df'] = crosswalk_df\n",
    "    \n",
    "    crosswalk_df = acs_data_dict[f'{survey}_crosswalk_df']\n",
    "    crosswalk_df.columns = crosswalk_df.iloc[0]\n",
    "    crosswalk_df = crosswalk_df[1:]\n",
    "    \n",
    "    # removes rows not used to for naming columns locally\n",
    "    crosswalk_df = crosswalk_df[crosswalk_df['name'].str.startswith('K') | crosswalk_df['name'].str.startswith('B')]\n",
    "    \n",
    "    if survey == 'acs5':\n",
    "        idx = crosswalk_df.index[crosswalk_df['name'] == 'BLKGRP']\n",
    "        crosswalk_df.drop(idx, inplace=True)\n",
    "        \n",
    "    acs_data_dict[f'{survey}_crosswalk_df'] = crosswalk_df"
   ],
   "id": "d7630760e32f950f",
   "outputs": [],
   "execution_count": 3
  },
  {
   "metadata": {
    "ExecuteTime": {
     "end_time": "2024-09-24T03:25:20.932957Z",
     "start_time": "2024-09-24T03:25:20.926978Z"
    }
   },
   "cell_type": "code",
   "source": "acs_data_dict['acs5_crosswalk_df'].head()",
   "id": "8c6092a48985595b",
   "outputs": [
    {
     "data": {
      "text/plain": [
       "0           name                                              label  \\\n",
       "4    B24022_060E  Estimate!!Total:!!Female:!!Service occupations...   \n",
       "5   B19001B_014E             Estimate!!Total:!!$100,000 to $124,999   \n",
       "6  B07007PR_019E  Estimate!!Total:!!Moved from different municip...   \n",
       "7   B19101A_004E               Estimate!!Total:!!$15,000 to $19,999   \n",
       "8    B24022_061E  Estimate!!Total:!!Female:!!Service occupations...   \n",
       "\n",
       "0                                            concept  \n",
       "4  Sex by Occupation and Median Earnings in the P...  \n",
       "5  Household Income in the Past 12 Months (in 202...  \n",
       "6  Geographical Mobility in the Past Year by Citi...  \n",
       "7  Family Income in the Past 12 Months (in 2022 I...  \n",
       "8  Sex by Occupation and Median Earnings in the P...  "
      ],
      "text/html": [
       "<div>\n",
       "<style scoped>\n",
       "    .dataframe tbody tr th:only-of-type {\n",
       "        vertical-align: middle;\n",
       "    }\n",
       "\n",
       "    .dataframe tbody tr th {\n",
       "        vertical-align: top;\n",
       "    }\n",
       "\n",
       "    .dataframe thead th {\n",
       "        text-align: right;\n",
       "    }\n",
       "</style>\n",
       "<table border=\"1\" class=\"dataframe\">\n",
       "  <thead>\n",
       "    <tr style=\"text-align: right;\">\n",
       "      <th></th>\n",
       "      <th>name</th>\n",
       "      <th>label</th>\n",
       "      <th>concept</th>\n",
       "    </tr>\n",
       "  </thead>\n",
       "  <tbody>\n",
       "    <tr>\n",
       "      <th>4</th>\n",
       "      <td>B24022_060E</td>\n",
       "      <td>Estimate!!Total:!!Female:!!Service occupations...</td>\n",
       "      <td>Sex by Occupation and Median Earnings in the P...</td>\n",
       "    </tr>\n",
       "    <tr>\n",
       "      <th>5</th>\n",
       "      <td>B19001B_014E</td>\n",
       "      <td>Estimate!!Total:!!$100,000 to $124,999</td>\n",
       "      <td>Household Income in the Past 12 Months (in 202...</td>\n",
       "    </tr>\n",
       "    <tr>\n",
       "      <th>6</th>\n",
       "      <td>B07007PR_019E</td>\n",
       "      <td>Estimate!!Total:!!Moved from different municip...</td>\n",
       "      <td>Geographical Mobility in the Past Year by Citi...</td>\n",
       "    </tr>\n",
       "    <tr>\n",
       "      <th>7</th>\n",
       "      <td>B19101A_004E</td>\n",
       "      <td>Estimate!!Total:!!$15,000 to $19,999</td>\n",
       "      <td>Family Income in the Past 12 Months (in 2022 I...</td>\n",
       "    </tr>\n",
       "    <tr>\n",
       "      <th>8</th>\n",
       "      <td>B24022_061E</td>\n",
       "      <td>Estimate!!Total:!!Female:!!Service occupations...</td>\n",
       "      <td>Sex by Occupation and Median Earnings in the P...</td>\n",
       "    </tr>\n",
       "  </tbody>\n",
       "</table>\n",
       "</div>"
      ]
     },
     "execution_count": 15,
     "metadata": {},
     "output_type": "execute_result"
    }
   ],
   "execution_count": 15
  },
  {
   "metadata": {},
   "cell_type": "markdown",
   "source": [
    "#### ACS Tables\n",
    "This table is used to map names to the various ACS tables."
   ],
   "id": "9349426b297479d6"
  },
  {
   "metadata": {
    "ExecuteTime": {
     "end_time": "2024-09-24T02:59:43.491641Z",
     "start_time": "2024-09-24T02:59:43.471675Z"
    }
   },
   "cell_type": "code",
   "source": [
    "# transforms crosswalk_df by truncating `name` column to its table 'group' name (and deleting anything that's not a table name) and normalizing text in `concept` field to lowercase/no spaces format\n",
    "for survey in surveys:\n",
    "    tables_df = acs_data_dict[f'{survey}_crosswalk_df'].copy()\n",
    "    tables_df['name'] = acs_data_dict[f'{survey}_crosswalk_df']['name'].str.split('_').str[0]\n",
    "    tables_df = tables_df.drop_duplicates(subset='name')\n",
    "    tables_df = tables_df.drop(columns='label')\n",
    "    tables_df['concept'] = tables_df['concept'].str.replace(' ', '_').str.lower()\n",
    "    \n",
    "    acs_data_dict[f'{survey}_tables_df'] = tables_df    "
   ],
   "id": "15428afcd60d562a",
   "outputs": [],
   "execution_count": 5
  },
  {
   "metadata": {
    "ExecuteTime": {
     "end_time": "2024-09-24T03:25:25.433949Z",
     "start_time": "2024-09-24T03:25:25.428872Z"
    }
   },
   "cell_type": "code",
   "source": "acs_data_dict['acs5_tables_df'].head()",
   "id": "cd4cd07873996e50",
   "outputs": [
    {
     "data": {
      "text/plain": [
       "0       name                                            concept\n",
       "4     B24022  sex_by_occupation_and_median_earnings_in_the_p...\n",
       "5    B19001B  household_income_in_the_past_12_months_(in_202...\n",
       "6   B07007PR  geographical_mobility_in_the_past_year_by_citi...\n",
       "7    B19101A  family_income_in_the_past_12_months_(in_2022_i...\n",
       "14   B01001B       sex_by_age_(black_or_african_american_alone)"
      ],
      "text/html": [
       "<div>\n",
       "<style scoped>\n",
       "    .dataframe tbody tr th:only-of-type {\n",
       "        vertical-align: middle;\n",
       "    }\n",
       "\n",
       "    .dataframe tbody tr th {\n",
       "        vertical-align: top;\n",
       "    }\n",
       "\n",
       "    .dataframe thead th {\n",
       "        text-align: right;\n",
       "    }\n",
       "</style>\n",
       "<table border=\"1\" class=\"dataframe\">\n",
       "  <thead>\n",
       "    <tr style=\"text-align: right;\">\n",
       "      <th></th>\n",
       "      <th>name</th>\n",
       "      <th>concept</th>\n",
       "    </tr>\n",
       "  </thead>\n",
       "  <tbody>\n",
       "    <tr>\n",
       "      <th>4</th>\n",
       "      <td>B24022</td>\n",
       "      <td>sex_by_occupation_and_median_earnings_in_the_p...</td>\n",
       "    </tr>\n",
       "    <tr>\n",
       "      <th>5</th>\n",
       "      <td>B19001B</td>\n",
       "      <td>household_income_in_the_past_12_months_(in_202...</td>\n",
       "    </tr>\n",
       "    <tr>\n",
       "      <th>6</th>\n",
       "      <td>B07007PR</td>\n",
       "      <td>geographical_mobility_in_the_past_year_by_citi...</td>\n",
       "    </tr>\n",
       "    <tr>\n",
       "      <th>7</th>\n",
       "      <td>B19101A</td>\n",
       "      <td>family_income_in_the_past_12_months_(in_2022_i...</td>\n",
       "    </tr>\n",
       "    <tr>\n",
       "      <th>14</th>\n",
       "      <td>B01001B</td>\n",
       "      <td>sex_by_age_(black_or_african_american_alone)</td>\n",
       "    </tr>\n",
       "  </tbody>\n",
       "</table>\n",
       "</div>"
      ]
     },
     "execution_count": 16,
     "metadata": {},
     "output_type": "execute_result"
    }
   ],
   "execution_count": 16
  },
  {
   "metadata": {},
   "cell_type": "markdown",
   "source": [
    "#### ACS Datasets\n",
    "This locally imports the tables selected below from the options presented in the table of tables above."
   ],
   "id": "eb74239476182850"
  },
  {
   "metadata": {
    "ExecuteTime": {
     "end_time": "2024-09-24T03:01:43.821607Z",
     "start_time": "2024-09-24T03:01:43.818230Z"
    }
   },
   "cell_type": "code",
   "source": [
    "# input required ACS tables into list below\n",
    "requested_survey = ['acs5']\n",
    "requested_tables = ['B02001', # race\n",
    "                    ]\n",
    "requested_geography_type = 'block_group'\n",
    "requested_geographies = ['1500000US480291820031']"
   ],
   "id": "bf051735a9f2257f",
   "outputs": [],
   "execution_count": 10
  },
  {
   "metadata": {
    "ExecuteTime": {
     "end_time": "2024-09-24T02:59:43.575971Z",
     "start_time": "2024-09-24T02:59:43.568266Z"
    }
   },
   "cell_type": "code",
   "source": [
    "# imports Census survey data\n",
    "demographics_db_filepath = os.path.join('data/databases/census_acs5_2022_block_group.db')\n",
    "\n",
    "# creates connection to SQLite database\n",
    "sql_engine = sqlalchemy.create_engine('sqlite:///' + demographics_db_filepath)"
   ],
   "id": "7388aabff8ac5736",
   "outputs": [],
   "execution_count": 8
  },
  {
   "metadata": {
    "ExecuteTime": {
     "end_time": "2024-09-24T03:01:46.329402Z",
     "start_time": "2024-09-24T03:01:46.308866Z"
    }
   },
   "cell_type": "code",
   "source": [
    "if len(requested_tables) == 1:\n",
    "    df = pd.read_sql_table(requested_tables[0], con=sql_engine)    "
   ],
   "id": "1aae107c564438e",
   "outputs": [],
   "execution_count": 11
  },
  {
   "metadata": {
    "ExecuteTime": {
     "end_time": "2024-09-24T03:10:31.051041Z",
     "start_time": "2024-09-24T03:10:31.039148Z"
    }
   },
   "cell_type": "code",
   "source": "df.head()",
   "id": "f66dbd04bb691ec7",
   "outputs": [
    {
     "data": {
      "text/plain": [
       "   index  B02001_001E  B02001_002E  B02001_003E  B02001_004E  B02001_005E  \\\n",
       "0      0            0            0            0            0            0   \n",
       "1      1            0            0            0            0            0   \n",
       "2      2            0            0            0            0            0   \n",
       "3      3         1004          912            0            0           22   \n",
       "4      4         1004          726            0            0            0   \n",
       "\n",
       "   B02001_006E  B02001_007E  B02001_008E  B02001_009E  B02001_010E  \\\n",
       "0            0            0            0            0            0   \n",
       "1            0            0            0            0            0   \n",
       "2            0            0            0            0            0   \n",
       "3            0            7           63           63            0   \n",
       "4            0           32          246          246            0   \n",
       "\n",
       "                                                NAME                  ucgid  \n",
       "0  Block Group 1; Census Tract 9800.01; Bexar Cou...  1500000US480299800011  \n",
       "1  Block Group 1; Census Tract 9800.02; Bexar Cou...  1500000US480299800021  \n",
       "2  Block Group 1; Census Tract 9800.04; Bexar Cou...  1500000US480299800041  \n",
       "3  Block Group 1; Census Tract 1208; Bexar County...  1500000US480291208001  \n",
       "4  Block Group 1; Census Tract 1211.11; Bexar Cou...  1500000US480291211111  "
      ],
      "text/html": [
       "<div>\n",
       "<style scoped>\n",
       "    .dataframe tbody tr th:only-of-type {\n",
       "        vertical-align: middle;\n",
       "    }\n",
       "\n",
       "    .dataframe tbody tr th {\n",
       "        vertical-align: top;\n",
       "    }\n",
       "\n",
       "    .dataframe thead th {\n",
       "        text-align: right;\n",
       "    }\n",
       "</style>\n",
       "<table border=\"1\" class=\"dataframe\">\n",
       "  <thead>\n",
       "    <tr style=\"text-align: right;\">\n",
       "      <th></th>\n",
       "      <th>index</th>\n",
       "      <th>B02001_001E</th>\n",
       "      <th>B02001_002E</th>\n",
       "      <th>B02001_003E</th>\n",
       "      <th>B02001_004E</th>\n",
       "      <th>B02001_005E</th>\n",
       "      <th>B02001_006E</th>\n",
       "      <th>B02001_007E</th>\n",
       "      <th>B02001_008E</th>\n",
       "      <th>B02001_009E</th>\n",
       "      <th>B02001_010E</th>\n",
       "      <th>NAME</th>\n",
       "      <th>ucgid</th>\n",
       "    </tr>\n",
       "  </thead>\n",
       "  <tbody>\n",
       "    <tr>\n",
       "      <th>0</th>\n",
       "      <td>0</td>\n",
       "      <td>0</td>\n",
       "      <td>0</td>\n",
       "      <td>0</td>\n",
       "      <td>0</td>\n",
       "      <td>0</td>\n",
       "      <td>0</td>\n",
       "      <td>0</td>\n",
       "      <td>0</td>\n",
       "      <td>0</td>\n",
       "      <td>0</td>\n",
       "      <td>Block Group 1; Census Tract 9800.01; Bexar Cou...</td>\n",
       "      <td>1500000US480299800011</td>\n",
       "    </tr>\n",
       "    <tr>\n",
       "      <th>1</th>\n",
       "      <td>1</td>\n",
       "      <td>0</td>\n",
       "      <td>0</td>\n",
       "      <td>0</td>\n",
       "      <td>0</td>\n",
       "      <td>0</td>\n",
       "      <td>0</td>\n",
       "      <td>0</td>\n",
       "      <td>0</td>\n",
       "      <td>0</td>\n",
       "      <td>0</td>\n",
       "      <td>Block Group 1; Census Tract 9800.02; Bexar Cou...</td>\n",
       "      <td>1500000US480299800021</td>\n",
       "    </tr>\n",
       "    <tr>\n",
       "      <th>2</th>\n",
       "      <td>2</td>\n",
       "      <td>0</td>\n",
       "      <td>0</td>\n",
       "      <td>0</td>\n",
       "      <td>0</td>\n",
       "      <td>0</td>\n",
       "      <td>0</td>\n",
       "      <td>0</td>\n",
       "      <td>0</td>\n",
       "      <td>0</td>\n",
       "      <td>0</td>\n",
       "      <td>Block Group 1; Census Tract 9800.04; Bexar Cou...</td>\n",
       "      <td>1500000US480299800041</td>\n",
       "    </tr>\n",
       "    <tr>\n",
       "      <th>3</th>\n",
       "      <td>3</td>\n",
       "      <td>1004</td>\n",
       "      <td>912</td>\n",
       "      <td>0</td>\n",
       "      <td>0</td>\n",
       "      <td>22</td>\n",
       "      <td>0</td>\n",
       "      <td>7</td>\n",
       "      <td>63</td>\n",
       "      <td>63</td>\n",
       "      <td>0</td>\n",
       "      <td>Block Group 1; Census Tract 1208; Bexar County...</td>\n",
       "      <td>1500000US480291208001</td>\n",
       "    </tr>\n",
       "    <tr>\n",
       "      <th>4</th>\n",
       "      <td>4</td>\n",
       "      <td>1004</td>\n",
       "      <td>726</td>\n",
       "      <td>0</td>\n",
       "      <td>0</td>\n",
       "      <td>0</td>\n",
       "      <td>0</td>\n",
       "      <td>32</td>\n",
       "      <td>246</td>\n",
       "      <td>246</td>\n",
       "      <td>0</td>\n",
       "      <td>Block Group 1; Census Tract 1211.11; Bexar Cou...</td>\n",
       "      <td>1500000US480291211111</td>\n",
       "    </tr>\n",
       "  </tbody>\n",
       "</table>\n",
       "</div>"
      ]
     },
     "execution_count": 13,
     "metadata": {},
     "output_type": "execute_result"
    }
   ],
   "execution_count": 13
  }
 ],
 "metadata": {
  "kernelspec": {
   "display_name": "Python 3",
   "language": "python",
   "name": "python3"
  },
  "language_info": {
   "codemirror_mode": {
    "name": "ipython",
    "version": 2
   },
   "file_extension": ".py",
   "mimetype": "text/x-python",
   "name": "python",
   "nbconvert_exporter": "python",
   "pygments_lexer": "ipython2",
   "version": "2.7.6"
  }
 },
 "nbformat": 4,
 "nbformat_minor": 5
}
