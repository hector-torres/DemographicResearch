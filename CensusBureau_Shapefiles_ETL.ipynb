{
 "cells": [
  {
   "metadata": {},
   "cell_type": "markdown",
   "source": [
    "# Census Bureau Shapefiles ETL\n",
    "\n",
    "## Overview\n",
    "\"Loading\" in this context is achieved by having local version of the `dbf`, `.shp`, and `.shx` files for the `CD<current_year>`, `COUNTY`, `PLACE` (for Texas), `PUMA20`, `STATE`, and `ZCTA520` Shapefiles. "
   ],
   "id": "6a9b3594eaf71c97"
  }
 ],
 "metadata": {
  "kernelspec": {
   "display_name": "Python 3",
   "language": "python",
   "name": "python3"
  },
  "language_info": {
   "codemirror_mode": {
    "name": "ipython",
    "version": 2
   },
   "file_extension": ".py",
   "mimetype": "text/x-python",
   "name": "python",
   "nbconvert_exporter": "python",
   "pygments_lexer": "ipython2",
   "version": "2.7.6"
  }
 },
 "nbformat": 4,
 "nbformat_minor": 5
}
