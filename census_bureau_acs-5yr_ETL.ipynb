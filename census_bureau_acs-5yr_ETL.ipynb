{
 "cells": [
  {
   "metadata": {},
   "cell_type": "markdown",
   "source": [
    "# Census Bureau ACS 5-year - ETL\n",
    "\n",
    "The ACS 5-year estimates are less current, but are more precise, contain more tables, and contain information down to the Census tract level. \n",
    "\n",
    "ACS 5-year Data Homepage\n",
    "- https://www.census.gov/data/developers/data-sets/acs-5year.html\n",
    "\n",
    "ACS 5-year Tables\n",
    "- https://api.census.gov/data/2022/acs/acs5/variables.html\n",
    "\n",
    "ACS 5-year Available Geographies\n",
    "- https://api.census.gov/data/2022/acs/acs5/geography.html"
   ],
   "id": "b9df780f85a55c51"
  },
  {
   "metadata": {},
   "cell_type": "code",
   "outputs": [],
   "execution_count": null,
   "source": "import geopandas as gpd",
   "id": "4cc766a9a27037ee"
  },
  {
   "metadata": {},
   "cell_type": "code",
   "outputs": [],
   "execution_count": null,
   "source": [
    "# loads GeoDataFrame from Shapefiles for `PUMA20` geographies based on reference geographies\n",
    "zips_gdf = gpd.read_file('data/geospatial_files/shapefiles/zip_code_tabulation_areas/tl_2023_us_zcta520.shp')\n",
    "zips_gdf.set_crs(epsg='3395', inplace=True)\n",
    "# creates overlay, keeping only polygons that exist in both GeoDataFrames\n",
    "zips_by_county_gdf = zips_gdf.overlay(target_counties_gdf, how='intersection')\n",
    "# creates list of UCGIDs to use as inputs for API caller\n",
    "zips_by_county_ucgid_list = list(zips_by_county_gdf['GEOIDFQ20'])\n",
    "\n",
    "zips_by_county_gdf\n",
    "# zips_by_county_ucgid_list"
   ],
   "id": "3ab9c45f90a427f"
  }
 ],
 "metadata": {
  "kernelspec": {
   "display_name": "Python 3",
   "language": "python",
   "name": "python3"
  },
  "language_info": {
   "codemirror_mode": {
    "name": "ipython",
    "version": 2
   },
   "file_extension": ".py",
   "mimetype": "text/x-python",
   "name": "python",
   "nbconvert_exporter": "python",
   "pygments_lexer": "ipython2",
   "version": "2.7.6"
  }
 },
 "nbformat": 4,
 "nbformat_minor": 5
}
