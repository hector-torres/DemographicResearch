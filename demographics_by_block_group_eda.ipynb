{
 "cells": [
  {
   "metadata": {},
   "cell_type": "markdown",
   "source": [
    "# Demographics by Targeted Census Block Group\n",
    "\n",
    "This notebook looks the demographics of one or more targeted block groups. This can be used to explore one or more ACS datasets across one or more geographies. \n",
    "\n",
    "## User Input"
   ],
   "id": "51966a3774f6476"
  },
  {
   "metadata": {
    "ExecuteTime": {
     "end_time": "2024-09-27T03:27:22.268138Z",
     "start_time": "2024-09-27T03:27:22.263075Z"
    }
   },
   "cell_type": "code",
   "source": [
    "# input required ACS tables into list below\n",
    "requested_tables = ['B02001'] # race\n",
    "\"\"\"\n",
    "example UCGID\n",
    "    150 00 00 US 48 029 181902 2\n",
    "    \n",
    "    150 = Summary level for census tract\n",
    "    00 = No geographic variant\n",
    "    00 = Not a geographic component\n",
    "    US = United States\n",
    "    48 = Texas\n",
    "    083 = Bexar County\n",
    "    181902 = Census Tract 1819.02\n",
    "    2 = Block Group 2\n",
    "\"\"\"\n",
    "requested_geographies = ['1500000US480291819023']"
   ],
   "id": "bf051735a9f2257f",
   "outputs": [],
   "execution_count": 17
  },
  {
   "metadata": {
    "ExecuteTime": {
     "end_time": "2024-09-27T03:27:22.280667Z",
     "start_time": "2024-09-27T03:27:22.277836Z"
    }
   },
   "cell_type": "code",
   "source": [
    "import pandas as pd\n",
    "import os\n",
    "import sqlalchemy\n",
    "import requests\n",
    "import warnings"
   ],
   "id": "951963c621eb7b46",
   "outputs": [],
   "execution_count": 18
  },
  {
   "metadata": {},
   "cell_type": "markdown",
   "source": [
    "## ETL\n",
    "This section extracts, transforms, and loads data for our analysis. Note: this requires local database and shapefiles to be available. \n",
    "\n",
    "### Database ETL\n",
    "This code loads ACS data from local datasources."
   ],
   "id": "5624bc5db012edb8"
  },
  {
   "metadata": {
    "ExecuteTime": {
     "end_time": "2024-09-27T03:27:22.293703Z",
     "start_time": "2024-09-27T03:27:22.289998Z"
    }
   },
   "cell_type": "code",
   "source": [
    "# imports Census survey data\n",
    "demographics_db_filepath = os.path.join('data/databases/census_acs5_2022_block_group.db')\n",
    "\n",
    "# creates connection to SQLite database\n",
    "sql_engine = sqlalchemy.create_engine('sqlite:///' + demographics_db_filepath)"
   ],
   "id": "490d28aca12caa70",
   "outputs": [],
   "execution_count": 19
  },
  {
   "metadata": {},
   "cell_type": "markdown",
   "source": [
    "### Table and Table Column Crosswalks\n",
    "These crosswalks iare used to map names to individual columns within ACS tables."
   ],
   "id": "ff7ab8eabf59e72e"
  },
  {
   "metadata": {
    "ExecuteTime": {
     "end_time": "2024-09-27T03:27:23.763803Z",
     "start_time": "2024-09-27T03:27:22.302707Z"
    }
   },
   "cell_type": "code",
   "source": [
    "# imports crosswalk\n",
    "surveys = ['acsse', 'acs5']\n",
    "# creates dictionary to contain data for ACS 1yr and ACS 5yr data\n",
    "acs_data_dict = {}\n",
    "\n",
    "for survey in surveys:\n",
    "    crosswalk_df = pd.DataFrame()\n",
    "    headers = {'User-Agent': 'Mozilla/5.0 (Windows NT 6.1; WOW64) AppleWebKit/537.36 (KHTML, like Gecko) Chrome/56.0.2924.76 Safari/537.36'}\n",
    "    crosswalk_url = f'https://api.census.gov/data/2022/acs/{survey}/variables/'\n",
    "    \n",
    "    crosswalk_response = requests.get(crosswalk_url, headers=headers)\n",
    "    if crosswalk_response.status_code == 200:\n",
    "        crosswalk_df = pd.DataFrame(crosswalk_response.json())\n",
    "    \n",
    "    acs_data_dict[f'{survey}_crosswalk_df'] = crosswalk_df\n",
    "    \n",
    "    crosswalk_df = acs_data_dict[f'{survey}_crosswalk_df']\n",
    "    crosswalk_df.columns = crosswalk_df.iloc[0]\n",
    "    crosswalk_df = crosswalk_df[1:]\n",
    "    \n",
    "    # removes rows not used to for naming columns locally\n",
    "    crosswalk_df = crosswalk_df[crosswalk_df['name'].str.startswith('K') | crosswalk_df['name'].str.startswith('B')]\n",
    "    \n",
    "    if survey == 'acs5':\n",
    "        idx = crosswalk_df.index[crosswalk_df['name'] == 'BLKGRP']\n",
    "        crosswalk_df.drop(idx, inplace=True)\n",
    "        \n",
    "    acs_data_dict[f'{survey}_crosswalk_df'] = crosswalk_df"
   ],
   "id": "d7630760e32f950f",
   "outputs": [],
   "execution_count": 20
  },
  {
   "metadata": {
    "ExecuteTime": {
     "end_time": "2024-09-27T03:27:23.775703Z",
     "start_time": "2024-09-27T03:27:23.771140Z"
    }
   },
   "cell_type": "code",
   "source": "acs_data_dict['acs5_crosswalk_df']",
   "id": "8c6092a48985595b",
   "outputs": [
    {
     "data": {
      "text/plain": [
       "0               name                                              label  \\\n",
       "4        B24022_060E  Estimate!!Total:!!Female:!!Service occupations...   \n",
       "5       B19001B_014E             Estimate!!Total:!!$100,000 to $124,999   \n",
       "6      B07007PR_019E  Estimate!!Total:!!Moved from different municip...   \n",
       "7       B19101A_004E               Estimate!!Total:!!$15,000 to $19,999   \n",
       "8        B24022_061E  Estimate!!Total:!!Female:!!Service occupations...   \n",
       "...              ...                                                ...   \n",
       "28189    B25124_022E  Estimate!!Total:!!Owner occupied:!!3-person ho...   \n",
       "28190   B20005I_071E  Estimate!!Total:!!Female:!!Worked full-time, y...   \n",
       "28191    B08113_054E  Estimate!!Total:!!Worked from home:!!Speak oth...   \n",
       "28192    B06009_006E  Estimate!!Total:!!Graduate or professional degree   \n",
       "28193    B05009_012E  Estimate!!Total:!!Under 6 years:!!Living with ...   \n",
       "\n",
       "0                                                concept  \n",
       "4      Sex by Occupation and Median Earnings in the P...  \n",
       "5      Household Income in the Past 12 Months (in 202...  \n",
       "6      Geographical Mobility in the Past Year by Citi...  \n",
       "7      Family Income in the Past 12 Months (in 2022 I...  \n",
       "8      Sex by Occupation and Median Earnings in the P...  \n",
       "...                                                  ...  \n",
       "28189     Tenure by Household Size by Units in Structure  \n",
       "28190  Sex by Work Experience in the Past 12 Months b...  \n",
       "28191  Means of Transportation to Work by Language Sp...  \n",
       "28192  Place of Birth by Educational Attainment in th...  \n",
       "28193  Age and Nativity of Own Children Under 18 Year...  \n",
       "\n",
       "[26415 rows x 3 columns]"
      ],
      "text/html": [
       "<div>\n",
       "<style scoped>\n",
       "    .dataframe tbody tr th:only-of-type {\n",
       "        vertical-align: middle;\n",
       "    }\n",
       "\n",
       "    .dataframe tbody tr th {\n",
       "        vertical-align: top;\n",
       "    }\n",
       "\n",
       "    .dataframe thead th {\n",
       "        text-align: right;\n",
       "    }\n",
       "</style>\n",
       "<table border=\"1\" class=\"dataframe\">\n",
       "  <thead>\n",
       "    <tr style=\"text-align: right;\">\n",
       "      <th></th>\n",
       "      <th>name</th>\n",
       "      <th>label</th>\n",
       "      <th>concept</th>\n",
       "    </tr>\n",
       "  </thead>\n",
       "  <tbody>\n",
       "    <tr>\n",
       "      <th>4</th>\n",
       "      <td>B24022_060E</td>\n",
       "      <td>Estimate!!Total:!!Female:!!Service occupations...</td>\n",
       "      <td>Sex by Occupation and Median Earnings in the P...</td>\n",
       "    </tr>\n",
       "    <tr>\n",
       "      <th>5</th>\n",
       "      <td>B19001B_014E</td>\n",
       "      <td>Estimate!!Total:!!$100,000 to $124,999</td>\n",
       "      <td>Household Income in the Past 12 Months (in 202...</td>\n",
       "    </tr>\n",
       "    <tr>\n",
       "      <th>6</th>\n",
       "      <td>B07007PR_019E</td>\n",
       "      <td>Estimate!!Total:!!Moved from different municip...</td>\n",
       "      <td>Geographical Mobility in the Past Year by Citi...</td>\n",
       "    </tr>\n",
       "    <tr>\n",
       "      <th>7</th>\n",
       "      <td>B19101A_004E</td>\n",
       "      <td>Estimate!!Total:!!$15,000 to $19,999</td>\n",
       "      <td>Family Income in the Past 12 Months (in 2022 I...</td>\n",
       "    </tr>\n",
       "    <tr>\n",
       "      <th>8</th>\n",
       "      <td>B24022_061E</td>\n",
       "      <td>Estimate!!Total:!!Female:!!Service occupations...</td>\n",
       "      <td>Sex by Occupation and Median Earnings in the P...</td>\n",
       "    </tr>\n",
       "    <tr>\n",
       "      <th>...</th>\n",
       "      <td>...</td>\n",
       "      <td>...</td>\n",
       "      <td>...</td>\n",
       "    </tr>\n",
       "    <tr>\n",
       "      <th>28189</th>\n",
       "      <td>B25124_022E</td>\n",
       "      <td>Estimate!!Total:!!Owner occupied:!!3-person ho...</td>\n",
       "      <td>Tenure by Household Size by Units in Structure</td>\n",
       "    </tr>\n",
       "    <tr>\n",
       "      <th>28190</th>\n",
       "      <td>B20005I_071E</td>\n",
       "      <td>Estimate!!Total:!!Female:!!Worked full-time, y...</td>\n",
       "      <td>Sex by Work Experience in the Past 12 Months b...</td>\n",
       "    </tr>\n",
       "    <tr>\n",
       "      <th>28191</th>\n",
       "      <td>B08113_054E</td>\n",
       "      <td>Estimate!!Total:!!Worked from home:!!Speak oth...</td>\n",
       "      <td>Means of Transportation to Work by Language Sp...</td>\n",
       "    </tr>\n",
       "    <tr>\n",
       "      <th>28192</th>\n",
       "      <td>B06009_006E</td>\n",
       "      <td>Estimate!!Total:!!Graduate or professional degree</td>\n",
       "      <td>Place of Birth by Educational Attainment in th...</td>\n",
       "    </tr>\n",
       "    <tr>\n",
       "      <th>28193</th>\n",
       "      <td>B05009_012E</td>\n",
       "      <td>Estimate!!Total:!!Under 6 years:!!Living with ...</td>\n",
       "      <td>Age and Nativity of Own Children Under 18 Year...</td>\n",
       "    </tr>\n",
       "  </tbody>\n",
       "</table>\n",
       "<p>26415 rows × 3 columns</p>\n",
       "</div>"
      ]
     },
     "execution_count": 21,
     "metadata": {},
     "output_type": "execute_result"
    }
   ],
   "execution_count": 21
  },
  {
   "metadata": {
    "ExecuteTime": {
     "end_time": "2024-09-27T03:27:23.823654Z",
     "start_time": "2024-09-27T03:27:23.800262Z"
    }
   },
   "cell_type": "code",
   "source": [
    "# transforms crosswalk_df by truncating `name` column to its table 'group' name (and deleting anything that's not a table name) and normalizing text in `concept` field to lowercase/no spaces format\n",
    "for survey in surveys:\n",
    "    tables_df = acs_data_dict[f'{survey}_crosswalk_df'].copy()\n",
    "    tables_df['name'] = acs_data_dict[f'{survey}_crosswalk_df']['name'].str.split('_').str[0]\n",
    "    tables_df = tables_df.drop_duplicates(subset='name')\n",
    "    tables_df = tables_df.drop(columns='label')\n",
    "    tables_df['concept'] = tables_df['concept'].str.replace(' ', '_').str.lower()\n",
    "    \n",
    "    acs_data_dict[f'{survey}_tables_df'] = tables_df    "
   ],
   "id": "15428afcd60d562a",
   "outputs": [],
   "execution_count": 22
  },
  {
   "metadata": {
    "ExecuteTime": {
     "end_time": "2024-09-27T03:27:23.846593Z",
     "start_time": "2024-09-27T03:27:23.842401Z"
    }
   },
   "cell_type": "code",
   "source": "acs_data_dict['acs5_tables_df'].head()",
   "id": "cd4cd07873996e50",
   "outputs": [
    {
     "data": {
      "text/plain": [
       "0       name                                            concept\n",
       "4     B24022  sex_by_occupation_and_median_earnings_in_the_p...\n",
       "5    B19001B  household_income_in_the_past_12_months_(in_202...\n",
       "6   B07007PR  geographical_mobility_in_the_past_year_by_citi...\n",
       "7    B19101A  family_income_in_the_past_12_months_(in_2022_i...\n",
       "14   B01001B       sex_by_age_(black_or_african_american_alone)"
      ],
      "text/html": [
       "<div>\n",
       "<style scoped>\n",
       "    .dataframe tbody tr th:only-of-type {\n",
       "        vertical-align: middle;\n",
       "    }\n",
       "\n",
       "    .dataframe tbody tr th {\n",
       "        vertical-align: top;\n",
       "    }\n",
       "\n",
       "    .dataframe thead th {\n",
       "        text-align: right;\n",
       "    }\n",
       "</style>\n",
       "<table border=\"1\" class=\"dataframe\">\n",
       "  <thead>\n",
       "    <tr style=\"text-align: right;\">\n",
       "      <th></th>\n",
       "      <th>name</th>\n",
       "      <th>concept</th>\n",
       "    </tr>\n",
       "  </thead>\n",
       "  <tbody>\n",
       "    <tr>\n",
       "      <th>4</th>\n",
       "      <td>B24022</td>\n",
       "      <td>sex_by_occupation_and_median_earnings_in_the_p...</td>\n",
       "    </tr>\n",
       "    <tr>\n",
       "      <th>5</th>\n",
       "      <td>B19001B</td>\n",
       "      <td>household_income_in_the_past_12_months_(in_202...</td>\n",
       "    </tr>\n",
       "    <tr>\n",
       "      <th>6</th>\n",
       "      <td>B07007PR</td>\n",
       "      <td>geographical_mobility_in_the_past_year_by_citi...</td>\n",
       "    </tr>\n",
       "    <tr>\n",
       "      <th>7</th>\n",
       "      <td>B19101A</td>\n",
       "      <td>family_income_in_the_past_12_months_(in_2022_i...</td>\n",
       "    </tr>\n",
       "    <tr>\n",
       "      <th>14</th>\n",
       "      <td>B01001B</td>\n",
       "      <td>sex_by_age_(black_or_african_american_alone)</td>\n",
       "    </tr>\n",
       "  </tbody>\n",
       "</table>\n",
       "</div>"
      ]
     },
     "execution_count": 23,
     "metadata": {},
     "output_type": "execute_result"
    }
   ],
   "execution_count": 23
  },
  {
   "metadata": {},
   "cell_type": "markdown",
   "source": [
    "### ACS Datasets\n",
    "This loads the tables selected below from the options presented in the table of tables above."
   ],
   "id": "eb74239476182850"
  },
  {
   "metadata": {
    "ExecuteTime": {
     "end_time": "2024-09-27T03:27:23.926375Z",
     "start_time": "2024-09-27T03:27:23.875195Z"
    }
   },
   "cell_type": "code",
   "source": [
    "if len(requested_tables) == 1:\n",
    "    df = pd.read_sql_table(requested_tables[0], con=sql_engine)    "
   ],
   "id": "1aae107c564438e",
   "outputs": [],
   "execution_count": 24
  },
  {
   "metadata": {
    "ExecuteTime": {
     "end_time": "2024-09-27T03:27:23.945746Z",
     "start_time": "2024-09-27T03:27:23.943105Z"
    }
   },
   "cell_type": "code",
   "source": "df = df[df['ucgid'].str.startswith(requested_geographies[0])]",
   "id": "f66dbd04bb691ec7",
   "outputs": [],
   "execution_count": 25
  },
  {
   "metadata": {
    "ExecuteTime": {
     "end_time": "2024-09-27T03:27:23.959115Z",
     "start_time": "2024-09-27T03:27:23.954179Z"
    }
   },
   "cell_type": "code",
   "source": "df",
   "id": "2c75051f1202772a",
   "outputs": [
    {
     "data": {
      "text/plain": [
       "     index  B02001_001E  B02001_002E  B02001_003E  B02001_004E  B02001_005E  \\\n",
       "816    816         4558         2354           77           48          363   \n",
       "\n",
       "     B02001_006E  B02001_007E  B02001_008E  B02001_009E  B02001_010E  \\\n",
       "816            0           45         1671         1301          370   \n",
       "\n",
       "                                                  NAME                  ucgid  \n",
       "816  Block Group 3; Census Tract 1819.02; Bexar Cou...  1500000US480291819023  "
      ],
      "text/html": [
       "<div>\n",
       "<style scoped>\n",
       "    .dataframe tbody tr th:only-of-type {\n",
       "        vertical-align: middle;\n",
       "    }\n",
       "\n",
       "    .dataframe tbody tr th {\n",
       "        vertical-align: top;\n",
       "    }\n",
       "\n",
       "    .dataframe thead th {\n",
       "        text-align: right;\n",
       "    }\n",
       "</style>\n",
       "<table border=\"1\" class=\"dataframe\">\n",
       "  <thead>\n",
       "    <tr style=\"text-align: right;\">\n",
       "      <th></th>\n",
       "      <th>index</th>\n",
       "      <th>B02001_001E</th>\n",
       "      <th>B02001_002E</th>\n",
       "      <th>B02001_003E</th>\n",
       "      <th>B02001_004E</th>\n",
       "      <th>B02001_005E</th>\n",
       "      <th>B02001_006E</th>\n",
       "      <th>B02001_007E</th>\n",
       "      <th>B02001_008E</th>\n",
       "      <th>B02001_009E</th>\n",
       "      <th>B02001_010E</th>\n",
       "      <th>NAME</th>\n",
       "      <th>ucgid</th>\n",
       "    </tr>\n",
       "  </thead>\n",
       "  <tbody>\n",
       "    <tr>\n",
       "      <th>816</th>\n",
       "      <td>816</td>\n",
       "      <td>4558</td>\n",
       "      <td>2354</td>\n",
       "      <td>77</td>\n",
       "      <td>48</td>\n",
       "      <td>363</td>\n",
       "      <td>0</td>\n",
       "      <td>45</td>\n",
       "      <td>1671</td>\n",
       "      <td>1301</td>\n",
       "      <td>370</td>\n",
       "      <td>Block Group 3; Census Tract 1819.02; Bexar Cou...</td>\n",
       "      <td>1500000US480291819023</td>\n",
       "    </tr>\n",
       "  </tbody>\n",
       "</table>\n",
       "</div>"
      ]
     },
     "execution_count": 26,
     "metadata": {},
     "output_type": "execute_result"
    }
   ],
   "execution_count": 26
  },
  {
   "metadata": {
    "ExecuteTime": {
     "end_time": "2024-09-27T03:27:24.088397Z",
     "start_time": "2024-09-27T03:27:23.990677Z"
    }
   },
   "cell_type": "code",
   "source": [
    "# uses column name crosswalk to transform column names to human-readable format\n",
    "for survey in surveys:\n",
    "    for series_name in df.columns:\n",
    "        with warnings.catch_warnings():\n",
    "            if acs_data_dict[f'{survey}_crosswalk_df']['name'].str.contains(series_name).any():\n",
    "                # if the crosswalk contains the name of the DataFrame column (i.e., for any data column as opposed to names, descriptors, etc. ) replace table name based on key to one based on descriptor, then strip spaces, punctuation, etc. and replace with underscores for easier data manipulation and normalization, then convert from Series object to int dtype\n",
    "                new_label = str(acs_data_dict[f'{survey}_crosswalk_df'][acs_data_dict[f'{survey}_crosswalk_df']['name'].str.startswith(series_name)][['concept', 'label']].values)\n",
    "                new_label = new_label.replace('[', '').replace(']', '').replace('\\' \\'', '__').replace(' ', '_').replace('\\'', '').replace('!!', '_').replace(':', '').replace('\\n', '').lower()\n",
    "                try:\n",
    "                    if series_name != 'ucgid':\n",
    "                        df.rename(columns={series_name: series_name + ':' + new_label}, inplace=True, errors='raise')\n",
    "                        df.rename(columns={series_name: new_label}, inplace=True, errors='raise')\n",
    "                        df = df.astype({series_name: 'int'})\n",
    "                except (TypeError, ValueError, KeyError):\n",
    "                    pass\n",
    "            elif series_name == 'NAME':\n",
    "                df.rename(columns={series_name: str(series_name).lower()}, inplace=True, errors='raise')"
   ],
   "id": "e43e8da7f41b3621",
   "outputs": [],
   "execution_count": 27
  },
  {
   "metadata": {
    "ExecuteTime": {
     "end_time": "2024-09-27T03:27:24.111098Z",
     "start_time": "2024-09-27T03:27:24.106793Z"
    }
   },
   "cell_type": "code",
   "source": "df",
   "id": "9ca2a7ef73c0ce86",
   "outputs": [
    {
     "data": {
      "text/plain": [
       "     index  B02001_001E:race__estimate_total  \\\n",
       "816    816                              4558   \n",
       "\n",
       "     B02001_002E:race__estimate_total_white_alone  \\\n",
       "816                                          2354   \n",
       "\n",
       "     B02001_003E:race__estimate_total_black_or_african_american_alone  \\\n",
       "816                                                 77                  \n",
       "\n",
       "     B02001_004E:race__estimate_total_american_indian_and_alaska_native_alone  \\\n",
       "816                                                 48                          \n",
       "\n",
       "     B02001_005E:race__estimate_total_asian_alone  \\\n",
       "816                                           363   \n",
       "\n",
       "     B02001_006E:race__estimate_total_native_hawaiian_and_other_pacific_islander_alone  \\\n",
       "816                                                  0                                   \n",
       "\n",
       "     B02001_007E:race__estimate_total_some_other_race_alone  \\\n",
       "816                                                 45        \n",
       "\n",
       "     B02001_008E:race__estimate_total_two_or_more_races  \\\n",
       "816                                               1671    \n",
       "\n",
       "     B02001_009E:race__estimate_total_two_or_more_races_two_races_including_some_other_race  \\\n",
       "816                                               1301                                        \n",
       "\n",
       "     B02001_010E:race__estimate_total_two_or_more_races_two_races_excluding_some_other_race,_and_three_or_more_races  \\\n",
       "816                                                370                                                                 \n",
       "\n",
       "                                                  name                  ucgid  \n",
       "816  Block Group 3; Census Tract 1819.02; Bexar Cou...  1500000US480291819023  "
      ],
      "text/html": [
       "<div>\n",
       "<style scoped>\n",
       "    .dataframe tbody tr th:only-of-type {\n",
       "        vertical-align: middle;\n",
       "    }\n",
       "\n",
       "    .dataframe tbody tr th {\n",
       "        vertical-align: top;\n",
       "    }\n",
       "\n",
       "    .dataframe thead th {\n",
       "        text-align: right;\n",
       "    }\n",
       "</style>\n",
       "<table border=\"1\" class=\"dataframe\">\n",
       "  <thead>\n",
       "    <tr style=\"text-align: right;\">\n",
       "      <th></th>\n",
       "      <th>index</th>\n",
       "      <th>B02001_001E:race__estimate_total</th>\n",
       "      <th>B02001_002E:race__estimate_total_white_alone</th>\n",
       "      <th>B02001_003E:race__estimate_total_black_or_african_american_alone</th>\n",
       "      <th>B02001_004E:race__estimate_total_american_indian_and_alaska_native_alone</th>\n",
       "      <th>B02001_005E:race__estimate_total_asian_alone</th>\n",
       "      <th>B02001_006E:race__estimate_total_native_hawaiian_and_other_pacific_islander_alone</th>\n",
       "      <th>B02001_007E:race__estimate_total_some_other_race_alone</th>\n",
       "      <th>B02001_008E:race__estimate_total_two_or_more_races</th>\n",
       "      <th>B02001_009E:race__estimate_total_two_or_more_races_two_races_including_some_other_race</th>\n",
       "      <th>B02001_010E:race__estimate_total_two_or_more_races_two_races_excluding_some_other_race,_and_three_or_more_races</th>\n",
       "      <th>name</th>\n",
       "      <th>ucgid</th>\n",
       "    </tr>\n",
       "  </thead>\n",
       "  <tbody>\n",
       "    <tr>\n",
       "      <th>816</th>\n",
       "      <td>816</td>\n",
       "      <td>4558</td>\n",
       "      <td>2354</td>\n",
       "      <td>77</td>\n",
       "      <td>48</td>\n",
       "      <td>363</td>\n",
       "      <td>0</td>\n",
       "      <td>45</td>\n",
       "      <td>1671</td>\n",
       "      <td>1301</td>\n",
       "      <td>370</td>\n",
       "      <td>Block Group 3; Census Tract 1819.02; Bexar Cou...</td>\n",
       "      <td>1500000US480291819023</td>\n",
       "    </tr>\n",
       "  </tbody>\n",
       "</table>\n",
       "</div>"
      ]
     },
     "execution_count": 28,
     "metadata": {},
     "output_type": "execute_result"
    }
   ],
   "execution_count": 28
  },
  {
   "metadata": {
    "ExecuteTime": {
     "end_time": "2024-09-27T03:27:24.137300Z",
     "start_time": "2024-09-27T03:27:24.135049Z"
    }
   },
   "cell_type": "code",
   "source": "df = df.T",
   "id": "8d48de490d18658",
   "outputs": [],
   "execution_count": 29
  },
  {
   "metadata": {
    "ExecuteTime": {
     "end_time": "2024-09-27T03:27:24.197647Z",
     "start_time": "2024-09-27T03:27:24.195061Z"
    }
   },
   "cell_type": "code",
   "source": [
    "df.columns = df.loc['name']\n",
    "df.drop(['index', 'name', 'ucgid'], inplace=True)"
   ],
   "id": "758f58303049b49c",
   "outputs": [],
   "execution_count": 30
  },
  {
   "metadata": {},
   "cell_type": "markdown",
   "source": "## Exploratory Data Analysis",
   "id": "42ce69ce7d63f9fb"
  },
  {
   "metadata": {
    "ExecuteTime": {
     "end_time": "2024-09-27T03:27:24.209048Z",
     "start_time": "2024-09-27T03:27:24.205787Z"
    }
   },
   "cell_type": "code",
   "source": "df",
   "id": "9e8e0cb595307e0f",
   "outputs": [
    {
     "data": {
      "text/plain": [
       "name                                               Block Group 3; Census Tract 1819.02; Bexar County; Texas\n",
       "B02001_001E:race__estimate_total                                                                 4558      \n",
       "B02001_002E:race__estimate_total_white_alone                                                     2354      \n",
       "B02001_003E:race__estimate_total_black_or_afric...                                                 77      \n",
       "B02001_004E:race__estimate_total_american_india...                                                 48      \n",
       "B02001_005E:race__estimate_total_asian_alone                                                      363      \n",
       "B02001_006E:race__estimate_total_native_hawaiia...                                                  0      \n",
       "B02001_007E:race__estimate_total_some_other_rac...                                                 45      \n",
       "B02001_008E:race__estimate_total_two_or_more_races                                               1671      \n",
       "B02001_009E:race__estimate_total_two_or_more_ra...                                               1301      \n",
       "B02001_010E:race__estimate_total_two_or_more_ra...                                                370      "
      ],
      "text/html": [
       "<div>\n",
       "<style scoped>\n",
       "    .dataframe tbody tr th:only-of-type {\n",
       "        vertical-align: middle;\n",
       "    }\n",
       "\n",
       "    .dataframe tbody tr th {\n",
       "        vertical-align: top;\n",
       "    }\n",
       "\n",
       "    .dataframe thead th {\n",
       "        text-align: right;\n",
       "    }\n",
       "</style>\n",
       "<table border=\"1\" class=\"dataframe\">\n",
       "  <thead>\n",
       "    <tr style=\"text-align: right;\">\n",
       "      <th>name</th>\n",
       "      <th>Block Group 3; Census Tract 1819.02; Bexar County; Texas</th>\n",
       "    </tr>\n",
       "  </thead>\n",
       "  <tbody>\n",
       "    <tr>\n",
       "      <th>B02001_001E:race__estimate_total</th>\n",
       "      <td>4558</td>\n",
       "    </tr>\n",
       "    <tr>\n",
       "      <th>B02001_002E:race__estimate_total_white_alone</th>\n",
       "      <td>2354</td>\n",
       "    </tr>\n",
       "    <tr>\n",
       "      <th>B02001_003E:race__estimate_total_black_or_african_american_alone</th>\n",
       "      <td>77</td>\n",
       "    </tr>\n",
       "    <tr>\n",
       "      <th>B02001_004E:race__estimate_total_american_indian_and_alaska_native_alone</th>\n",
       "      <td>48</td>\n",
       "    </tr>\n",
       "    <tr>\n",
       "      <th>B02001_005E:race__estimate_total_asian_alone</th>\n",
       "      <td>363</td>\n",
       "    </tr>\n",
       "    <tr>\n",
       "      <th>B02001_006E:race__estimate_total_native_hawaiian_and_other_pacific_islander_alone</th>\n",
       "      <td>0</td>\n",
       "    </tr>\n",
       "    <tr>\n",
       "      <th>B02001_007E:race__estimate_total_some_other_race_alone</th>\n",
       "      <td>45</td>\n",
       "    </tr>\n",
       "    <tr>\n",
       "      <th>B02001_008E:race__estimate_total_two_or_more_races</th>\n",
       "      <td>1671</td>\n",
       "    </tr>\n",
       "    <tr>\n",
       "      <th>B02001_009E:race__estimate_total_two_or_more_races_two_races_including_some_other_race</th>\n",
       "      <td>1301</td>\n",
       "    </tr>\n",
       "    <tr>\n",
       "      <th>B02001_010E:race__estimate_total_two_or_more_races_two_races_excluding_some_other_race,_and_three_or_more_races</th>\n",
       "      <td>370</td>\n",
       "    </tr>\n",
       "  </tbody>\n",
       "</table>\n",
       "</div>"
      ]
     },
     "execution_count": 31,
     "metadata": {},
     "output_type": "execute_result"
    }
   ],
   "execution_count": 31
  }
 ],
 "metadata": {
  "kernelspec": {
   "display_name": "Python 3",
   "language": "python",
   "name": "python3"
  },
  "language_info": {
   "codemirror_mode": {
    "name": "ipython",
    "version": 2
   },
   "file_extension": ".py",
   "mimetype": "text/x-python",
   "name": "python",
   "nbconvert_exporter": "python",
   "pygments_lexer": "ipython2",
   "version": "2.7.6"
  }
 },
 "nbformat": 4,
 "nbformat_minor": 5
}
